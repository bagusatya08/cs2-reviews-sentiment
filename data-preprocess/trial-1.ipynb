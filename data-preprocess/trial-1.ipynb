{
 "cells": [
  {
   "cell_type": "code",
   "execution_count": 1,
   "id": "be79f306-19c7-4295-8f72-0dd5ef633e9b",
   "metadata": {
    "tags": []
   },
   "outputs": [],
   "source": [
    "import json\n",
    "import numpy as np\n",
    "import pandas as pd"
   ]
  },
  {
   "cell_type": "code",
   "execution_count": 2,
   "id": "0215568b-ca8a-4043-b923-c035feba0a1b",
   "metadata": {
    "tags": []
   },
   "outputs": [],
   "source": [
    "data = json.load(open(\"labeled.json\"))"
   ]
  },
  {
   "cell_type": "markdown",
   "id": "07117d27-4427-40d0-a3aa-02161e4b58ac",
   "metadata": {
    "tags": []
   },
   "source": [
    "## json structure"
   ]
  },
  {
   "cell_type": "code",
   "execution_count": 4,
   "id": "1f802fc5-e6b9-4cc6-8ff2-367c57137499",
   "metadata": {
    "tags": []
   },
   "outputs": [
    {
     "data": {
      "text/plain": [
       "{'_id': '6655d3d577b7d3f1f5527c38',\n",
       " 'recommendationid': 166210298,\n",
       " 'author.steamid': 76561199567325072,\n",
       " 'author.num_games_owned': 0,\n",
       " 'author.num_reviews': 2,\n",
       " 'author.playtime_forever': 4911,\n",
       " 'author.playtime_last_two_weeks': 0,\n",
       " 'author.playtime_at_review': 4911,\n",
       " 'author.last_played': '2024-04-17T08:07:22.000Z',\n",
       " 'language': 'english',\n",
       " 'review': \"10/10 game , i have more than 3000 hours on my other account, sadly this game was ruined by hackers, started to think valve doesn't want to develop there anticheats because hackers are the most people spending money in this game, because each hacker has like 10 accounts and i bet you if you go to premier rating 90% if not 99% are hackers on that list. \\\\nif you want to enjoy this game now days you have to get yourself a hack or don't play it.\\\\n\",\n",
       " 'timestamp_created': '2024-05-28T10:30:27.000Z',\n",
       " 'timestamp_updated': '2024-05-28T10:30:27.000Z',\n",
       " 'voted_up': False,\n",
       " 'votes_up': 0,\n",
       " 'votes_funny': 0,\n",
       " 'weighted_vote_score': 0.0,\n",
       " 'comment_count': 0,\n",
       " 'steam_purchase': True,\n",
       " 'received_for_free': False,\n",
       " 'written_during_early_access': False,\n",
       " 'hidden_in_steam_china': True,\n",
       " 'steam_china_location': ''}"
      ]
     },
     "execution_count": 4,
     "metadata": {},
     "output_type": "execute_result"
    }
   ],
   "source": [
    "# with no annotation of sentiment\n",
    "data[0][\"data\"]"
   ]
  },
  {
   "cell_type": "code",
   "execution_count": 5,
   "id": "33928959-a16b-4f4a-abde-457568882aca",
   "metadata": {
    "tags": []
   },
   "outputs": [
    {
     "data": {
      "text/plain": [
       "{'_id': '6655d3d577b7d3f1f5527c40',\n",
       " 'recommendationid': 166207499,\n",
       " 'author.steamid': 76561197960586400,\n",
       " 'author.num_games_owned': 0,\n",
       " 'author.num_reviews': 2,\n",
       " 'author.playtime_forever': 93471,\n",
       " 'author.playtime_last_two_weeks': 1402,\n",
       " 'author.playtime_at_review': 93404,\n",
       " 'author.last_played': '2024-05-28T10:05:38.000Z',\n",
       " 'language': 'english',\n",
       " 'review': 'Love CS, been playing it for 20 years now. The only thing I wish happened was that trolls, toxic people, cheaters and smurfs were more heavily regulated.',\n",
       " 'timestamp_created': '2024-05-28T08:59:29.000Z',\n",
       " 'timestamp_updated': '2024-05-28T08:59:29.000Z',\n",
       " 'voted_up': True,\n",
       " 'votes_up': 0,\n",
       " 'votes_funny': 0,\n",
       " 'weighted_vote_score': 0.0,\n",
       " 'comment_count': 0,\n",
       " 'steam_purchase': True,\n",
       " 'received_for_free': False,\n",
       " 'written_during_early_access': False,\n",
       " 'hidden_in_steam_china': True,\n",
       " 'steam_china_location': ''}"
      ]
     },
     "execution_count": 5,
     "metadata": {},
     "output_type": "execute_result"
    }
   ],
   "source": [
    "# with annotation of sentiment\n",
    "data[2][\"data\"]"
   ]
  },
  {
   "cell_type": "markdown",
   "id": "4c3ead69-bbdf-44fc-8c14-21dd1cce6833",
   "metadata": {
    "tags": []
   },
   "source": [
    "## tabulating the json into dataframe"
   ]
  },
  {
   "cell_type": "code",
   "execution_count": 7,
   "id": "134a0510-90fe-4ecb-afeb-7849a1a548a5",
   "metadata": {
    "tags": []
   },
   "outputs": [],
   "source": [
    "data_reviews = []\n",
    "labels = []\n",
    "\n",
    "for i in range(len(data)):\n",
    "    review = data[i][\"data\"][\"review\"]\n",
    "    data_reviews.append(review)\n",
    "    try: \n",
    "        label = data[i][\"annotations\"][0][\"result\"][0][\"value\"][\"choices\"][0]\n",
    "        labels.append(label)\n",
    "    except:\n",
    "        labels.append(None)"
   ]
  },
  {
   "cell_type": "code",
   "execution_count": 8,
   "id": "198f3f06-bcbb-4341-8b8d-597ba07f5c0c",
   "metadata": {
    "tags": []
   },
   "outputs": [],
   "source": [
    "pd.set_option('display.max_rows', None)\n",
    "pd.set_option('display.max_columns', None)\n",
    "pd.set_option('max_colwidth', None)"
   ]
  },
  {
   "cell_type": "code",
   "execution_count": 9,
   "id": "6cb53399-6d67-4b34-844b-d4a0158691d9",
   "metadata": {
    "tags": []
   },
   "outputs": [],
   "source": [
    "dicts = {\"reviews\": data_reviews,\n",
    "         \"labels\": labels\n",
    "        }"
   ]
  },
  {
   "cell_type": "code",
   "execution_count": 10,
   "id": "63a5eb77-d0a7-450a-915a-3b4813437388",
   "metadata": {
    "tags": []
   },
   "outputs": [
    {
     "data": {
      "text/html": [
       "<div>\n",
       "<style scoped>\n",
       "    .dataframe tbody tr th:only-of-type {\n",
       "        vertical-align: middle;\n",
       "    }\n",
       "\n",
       "    .dataframe tbody tr th {\n",
       "        vertical-align: top;\n",
       "    }\n",
       "\n",
       "    .dataframe thead th {\n",
       "        text-align: right;\n",
       "    }\n",
       "</style>\n",
       "<table border=\"1\" class=\"dataframe\">\n",
       "  <thead>\n",
       "    <tr style=\"text-align: right;\">\n",
       "      <th></th>\n",
       "      <th>reviews</th>\n",
       "      <th>labels</th>\n",
       "    </tr>\n",
       "  </thead>\n",
       "  <tbody>\n",
       "    <tr>\n",
       "      <th>0</th>\n",
       "      <td>10/10 game , i have more than 3000 hours on my other account, sadly this game was ruined by hackers, started to think valve doesn't want to develop there anticheats because hackers are the most people spending money in this game, because each hacker has like 10 accounts and i bet you if you go to premier rating 90% if not 99% are hackers on that list. \\nif you want to enjoy this game now days you have to get yourself a hack or don't play it.\\n</td>\n",
       "      <td>None</td>\n",
       "    </tr>\n",
       "    <tr>\n",
       "      <th>1</th>\n",
       "      <td>Terrible Game. Servers are always laggy and more cheaters than a Pool hall</td>\n",
       "      <td>Negative</td>\n",
       "    </tr>\n",
       "    <tr>\n",
       "      <th>2</th>\n",
       "      <td>Love CS, been playing it for 20 years now. The only thing I wish happened was that trolls, toxic people, cheaters and smurfs were more heavily regulated.</td>\n",
       "      <td>Negative</td>\n",
       "    </tr>\n",
       "    <tr>\n",
       "      <th>3</th>\n",
       "      <td>POV: you just got yelled at in russian and now that guy is one of you best mates</td>\n",
       "      <td>None</td>\n",
       "    </tr>\n",
       "    <tr>\n",
       "      <th>4</th>\n",
       "      <td>One of the nostalgic games of all time.</td>\n",
       "      <td>Positive</td>\n",
       "    </tr>\n",
       "  </tbody>\n",
       "</table>\n",
       "</div>"
      ],
      "text/plain": [
       "                                                                                                                                                                                                                                                                                                                                                                                                                                                           reviews  \\\n",
       "0  10/10 game , i have more than 3000 hours on my other account, sadly this game was ruined by hackers, started to think valve doesn't want to develop there anticheats because hackers are the most people spending money in this game, because each hacker has like 10 accounts and i bet you if you go to premier rating 90% if not 99% are hackers on that list. \\nif you want to enjoy this game now days you have to get yourself a hack or don't play it.\\n   \n",
       "1                                                                                                                                                                                                                                                                                                                                                                                       Terrible Game. Servers are always laggy and more cheaters than a Pool hall   \n",
       "2                                                                                                                                                                                                                                                                                                        Love CS, been playing it for 20 years now. The only thing I wish happened was that trolls, toxic people, cheaters and smurfs were more heavily regulated.   \n",
       "3                                                                                                                                                                                                                                                                                                                                                                                 POV: you just got yelled at in russian and now that guy is one of you best mates   \n",
       "4                                                                                                                                                                                                                                                                                                                                                                                                                          One of the nostalgic games of all time.   \n",
       "\n",
       "     labels  \n",
       "0      None  \n",
       "1  Negative  \n",
       "2  Negative  \n",
       "3      None  \n",
       "4  Positive  "
      ]
     },
     "execution_count": 10,
     "metadata": {},
     "output_type": "execute_result"
    }
   ],
   "source": [
    "dataset = pd.DataFrame(dicts)\n",
    "dataset.head()"
   ]
  },
  {
   "cell_type": "markdown",
   "id": "18979894-2670-4a03-8276-8d3524fae69e",
   "metadata": {
    "tags": []
   },
   "source": [
    "## EDA"
   ]
  },
  {
   "cell_type": "code",
   "execution_count": 12,
   "id": "fbbf7b4a-b6a3-43d3-ba52-d91b2fdd2b76",
   "metadata": {
    "tags": []
   },
   "outputs": [
    {
     "name": "stdout",
     "output_type": "stream",
     "text": [
      "<class 'pandas.core.frame.DataFrame'>\n",
      "RangeIndex: 1508 entries, 0 to 1507\n",
      "Data columns (total 2 columns):\n",
      " #   Column   Non-Null Count  Dtype \n",
      "---  ------   --------------  ----- \n",
      " 0   reviews  1508 non-null   object\n",
      " 1   labels   1005 non-null   object\n",
      "dtypes: object(2)\n",
      "memory usage: 23.7+ KB\n"
     ]
    }
   ],
   "source": [
    "dataset.info()"
   ]
  },
  {
   "cell_type": "code",
   "execution_count": 13,
   "id": "658e24d4-2457-4d0d-afb2-1b3de460bebd",
   "metadata": {
    "tags": []
   },
   "outputs": [
    {
     "data": {
      "text/html": [
       "<div>\n",
       "<style scoped>\n",
       "    .dataframe tbody tr th:only-of-type {\n",
       "        vertical-align: middle;\n",
       "    }\n",
       "\n",
       "    .dataframe tbody tr th {\n",
       "        vertical-align: top;\n",
       "    }\n",
       "\n",
       "    .dataframe thead th {\n",
       "        text-align: right;\n",
       "    }\n",
       "</style>\n",
       "<table border=\"1\" class=\"dataframe\">\n",
       "  <thead>\n",
       "    <tr style=\"text-align: right;\">\n",
       "      <th></th>\n",
       "      <th>reviews</th>\n",
       "      <th>labels</th>\n",
       "    </tr>\n",
       "  </thead>\n",
       "  <tbody>\n",
       "    <tr>\n",
       "      <th>count</th>\n",
       "      <td>1508</td>\n",
       "      <td>1005</td>\n",
       "    </tr>\n",
       "    <tr>\n",
       "      <th>unique</th>\n",
       "      <td>1503</td>\n",
       "      <td>2</td>\n",
       "    </tr>\n",
       "    <tr>\n",
       "      <th>top</th>\n",
       "      <td>Dust 2 is in the game.</td>\n",
       "      <td>Positive</td>\n",
       "    </tr>\n",
       "    <tr>\n",
       "      <th>freq</th>\n",
       "      <td>3</td>\n",
       "      <td>503</td>\n",
       "    </tr>\n",
       "  </tbody>\n",
       "</table>\n",
       "</div>"
      ],
      "text/plain": [
       "                       reviews    labels\n",
       "count                     1508      1005\n",
       "unique                    1503         2\n",
       "top     Dust 2 is in the game.  Positive\n",
       "freq                         3       503"
      ]
     },
     "execution_count": 13,
     "metadata": {},
     "output_type": "execute_result"
    }
   ],
   "source": [
    "dataset.describe()"
   ]
  },
  {
   "cell_type": "code",
   "execution_count": 14,
   "id": "35abf92e-a02a-4187-ba80-f708c6c0662b",
   "metadata": {
    "tags": []
   },
   "outputs": [
    {
     "data": {
      "text/html": [
       "<div>\n",
       "<style scoped>\n",
       "    .dataframe tbody tr th:only-of-type {\n",
       "        vertical-align: middle;\n",
       "    }\n",
       "\n",
       "    .dataframe tbody tr th {\n",
       "        vertical-align: top;\n",
       "    }\n",
       "\n",
       "    .dataframe thead th {\n",
       "        text-align: right;\n",
       "    }\n",
       "</style>\n",
       "<table border=\"1\" class=\"dataframe\">\n",
       "  <thead>\n",
       "    <tr style=\"text-align: right;\">\n",
       "      <th></th>\n",
       "      <th>reviews</th>\n",
       "      <th>labels</th>\n",
       "    </tr>\n",
       "  </thead>\n",
       "  <tbody>\n",
       "    <tr>\n",
       "      <th>508</th>\n",
       "      <td>You'll find less cheaters on Tinder</td>\n",
       "      <td>Negative</td>\n",
       "    </tr>\n",
       "    <tr>\n",
       "      <th>942</th>\n",
       "      <td>You'll find less cheaters on Tinder</td>\n",
       "      <td>Negative</td>\n",
       "    </tr>\n",
       "    <tr>\n",
       "      <th>980</th>\n",
       "      <td>After 2 years playing it, I didn't improve my skills in-game.\\n\\nHowever, I learned new language skills: now I can curse in Russian and Brazilian Portuguese.\\n\\nAlso, my tolerance level to guttural screams and loud sounds was increased.\\n\\nNow I can bear the crying of my children for longer and I can make them feel better by singing sweet traditional songs from other cultures, such as Очи чёрные (Dark Eyes) or Garota de Ipanema (The Girl from Ipanema).\\n\\nIn conclusion, Counter Strike transformed me into a better father and a better person, in addition to making me more patient, tolerant to hateful people and more trained in languages and cultures.\\n\\nBetter than any psychiatric therapy. 10/10</td>\n",
       "      <td>Positive</td>\n",
       "    </tr>\n",
       "    <tr>\n",
       "      <th>1148</th>\n",
       "      <td>i am so bad at this game</td>\n",
       "      <td>None</td>\n",
       "    </tr>\n",
       "    <tr>\n",
       "      <th>1149</th>\n",
       "      <td>i am so bad at this game</td>\n",
       "      <td>None</td>\n",
       "    </tr>\n",
       "    <tr>\n",
       "      <th>1398</th>\n",
       "      <td>Dust 2 is in the game.</td>\n",
       "      <td>None</td>\n",
       "    </tr>\n",
       "    <tr>\n",
       "      <th>1400</th>\n",
       "      <td>Dust 2 is in the game.</td>\n",
       "      <td>None</td>\n",
       "    </tr>\n",
       "    <tr>\n",
       "      <th>1401</th>\n",
       "      <td>Dust 2 is in the game.</td>\n",
       "      <td>None</td>\n",
       "    </tr>\n",
       "    <tr>\n",
       "      <th>1414</th>\n",
       "      <td>After 2 years playing it, I didn't improve my skills in-game.\\n\\nHowever, I learned new language skills: now I can curse in Russian and Brazilian Portuguese.\\n\\nAlso, my tolerance level to guttural screams and loud sounds was increased.\\n\\nNow I can bear the crying of my children for longer and I can make them feel better by singing sweet traditional songs from other cultures, such as Очи чёрные (Dark Eyes) or Garota de Ipanema (The Girl from Ipanema).\\n\\nIn conclusion, Counter Strike transformed me into a better father and a better person, in addition to making me more patient, tolerant to hateful people and more trained in languages and cultures.\\n\\nBetter than any psychiatric therapy. 10/10</td>\n",
       "      <td>Positive</td>\n",
       "    </tr>\n",
       "  </tbody>\n",
       "</table>\n",
       "</div>"
      ],
      "text/plain": [
       "                                                                                                                                                                                                                                                                                                                                                                                                                                                                                                                                                                                                                                                                                                                             reviews  \\\n",
       "508                                                                                                                                                                                                                                                                                                                                                                                                                                                                                                                                                                                                                                                                                              You'll find less cheaters on Tinder   \n",
       "942                                                                                                                                                                                                                                                                                                                                                                                                                                                                                                                                                                                                                                                                                              You'll find less cheaters on Tinder   \n",
       "980   After 2 years playing it, I didn't improve my skills in-game.\\n\\nHowever, I learned new language skills: now I can curse in Russian and Brazilian Portuguese.\\n\\nAlso, my tolerance level to guttural screams and loud sounds was increased.\\n\\nNow I can bear the crying of my children for longer and I can make them feel better by singing sweet traditional songs from other cultures, such as Очи чёрные (Dark Eyes) or Garota de Ipanema (The Girl from Ipanema).\\n\\nIn conclusion, Counter Strike transformed me into a better father and a better person, in addition to making me more patient, tolerant to hateful people and more trained in languages and cultures.\\n\\nBetter than any psychiatric therapy. 10/10   \n",
       "1148                                                                                                                                                                                                                                                                                                                                                                                                                                                                                                                                                                                                                                                                                                        i am so bad at this game   \n",
       "1149                                                                                                                                                                                                                                                                                                                                                                                                                                                                                                                                                                                                                                                                                                        i am so bad at this game   \n",
       "1398                                                                                                                                                                                                                                                                                                                                                                                                                                                                                                                                                                                                                                                                                                          Dust 2 is in the game.   \n",
       "1400                                                                                                                                                                                                                                                                                                                                                                                                                                                                                                                                                                                                                                                                                                          Dust 2 is in the game.   \n",
       "1401                                                                                                                                                                                                                                                                                                                                                                                                                                                                                                                                                                                                                                                                                                          Dust 2 is in the game.   \n",
       "1414  After 2 years playing it, I didn't improve my skills in-game.\\n\\nHowever, I learned new language skills: now I can curse in Russian and Brazilian Portuguese.\\n\\nAlso, my tolerance level to guttural screams and loud sounds was increased.\\n\\nNow I can bear the crying of my children for longer and I can make them feel better by singing sweet traditional songs from other cultures, such as Очи чёрные (Dark Eyes) or Garota de Ipanema (The Girl from Ipanema).\\n\\nIn conclusion, Counter Strike transformed me into a better father and a better person, in addition to making me more patient, tolerant to hateful people and more trained in languages and cultures.\\n\\nBetter than any psychiatric therapy. 10/10   \n",
       "\n",
       "        labels  \n",
       "508   Negative  \n",
       "942   Negative  \n",
       "980   Positive  \n",
       "1148      None  \n",
       "1149      None  \n",
       "1398      None  \n",
       "1400      None  \n",
       "1401      None  \n",
       "1414  Positive  "
      ]
     },
     "execution_count": 14,
     "metadata": {},
     "output_type": "execute_result"
    }
   ],
   "source": [
    "dataset[dataset.duplicated(keep=False)]"
   ]
  },
  {
   "cell_type": "code",
   "execution_count": 15,
   "id": "d25ef22b-85c0-4d1c-8718-2ce71a9e2de9",
   "metadata": {
    "tags": []
   },
   "outputs": [
    {
     "data": {
      "text/plain": [
       "5"
      ]
     },
     "execution_count": 15,
     "metadata": {},
     "output_type": "execute_result"
    }
   ],
   "source": [
    "dataset.duplicated().sum()"
   ]
  },
  {
   "cell_type": "code",
   "execution_count": 16,
   "id": "dc4c71a6-0b28-43a0-ab1f-004b4ec615f7",
   "metadata": {
    "tags": []
   },
   "outputs": [
    {
     "data": {
      "text/plain": [
       "reviews      0\n",
       "labels     503\n",
       "dtype: int64"
      ]
     },
     "execution_count": 16,
     "metadata": {},
     "output_type": "execute_result"
    }
   ],
   "source": [
    "dataset.isnull().sum()"
   ]
  },
  {
   "cell_type": "code",
   "execution_count": 17,
   "id": "19e1ae6e-7447-48d9-802c-b1516d3490a8",
   "metadata": {
    "tags": []
   },
   "outputs": [
    {
     "data": {
      "text/plain": [
       "503"
      ]
     },
     "execution_count": 17,
     "metadata": {},
     "output_type": "execute_result"
    }
   ],
   "source": [
    "dataset.query(\"labels == 'Positive'\").count().labels"
   ]
  },
  {
   "cell_type": "code",
   "execution_count": 18,
   "id": "4cfa00d7-c959-44dd-98ed-345a944273e7",
   "metadata": {
    "tags": []
   },
   "outputs": [
    {
     "data": {
      "text/plain": [
       "502"
      ]
     },
     "execution_count": 18,
     "metadata": {},
     "output_type": "execute_result"
    }
   ],
   "source": [
    "dataset.query(\"labels == 'Negative'\").count().labels"
   ]
  },
  {
   "cell_type": "markdown",
   "id": "898a76ee-ffd4-4ea8-ba02-d1d5b3bd562f",
   "metadata": {
    "tags": []
   },
   "source": [
    "## pre-process"
   ]
  },
  {
   "cell_type": "code",
   "execution_count": 20,
   "id": "baa9051b-9e88-4a9a-8780-94ae64844de2",
   "metadata": {
    "tags": []
   },
   "outputs": [],
   "source": [
    "dataset.dropna(inplace=True)"
   ]
  },
  {
   "cell_type": "code",
   "execution_count": 21,
   "id": "0f08dd65-784f-415f-b089-1b72731ad879",
   "metadata": {
    "tags": []
   },
   "outputs": [],
   "source": [
    "dataset = dataset.drop_duplicates(keep=\"first\")"
   ]
  },
  {
   "cell_type": "code",
   "execution_count": 22,
   "id": "0e086fd0-7fdf-4f6d-b40a-85e0411e9bb9",
   "metadata": {
    "tags": []
   },
   "outputs": [
    {
     "data": {
      "text/html": [
       "<div>\n",
       "<style scoped>\n",
       "    .dataframe tbody tr th:only-of-type {\n",
       "        vertical-align: middle;\n",
       "    }\n",
       "\n",
       "    .dataframe tbody tr th {\n",
       "        vertical-align: top;\n",
       "    }\n",
       "\n",
       "    .dataframe thead th {\n",
       "        text-align: right;\n",
       "    }\n",
       "</style>\n",
       "<table border=\"1\" class=\"dataframe\">\n",
       "  <thead>\n",
       "    <tr style=\"text-align: right;\">\n",
       "      <th></th>\n",
       "      <th>reviews</th>\n",
       "      <th>labels</th>\n",
       "    </tr>\n",
       "  </thead>\n",
       "  <tbody>\n",
       "    <tr>\n",
       "      <th>count</th>\n",
       "      <td>1003</td>\n",
       "      <td>1003</td>\n",
       "    </tr>\n",
       "    <tr>\n",
       "      <th>unique</th>\n",
       "      <td>1003</td>\n",
       "      <td>2</td>\n",
       "    </tr>\n",
       "    <tr>\n",
       "      <th>top</th>\n",
       "      <td>Terrible Game. Servers are always laggy and more cheaters than a Pool hall</td>\n",
       "      <td>Positive</td>\n",
       "    </tr>\n",
       "    <tr>\n",
       "      <th>freq</th>\n",
       "      <td>1</td>\n",
       "      <td>502</td>\n",
       "    </tr>\n",
       "  </tbody>\n",
       "</table>\n",
       "</div>"
      ],
      "text/plain": [
       "                                                                           reviews  \\\n",
       "count                                                                         1003   \n",
       "unique                                                                        1003   \n",
       "top     Terrible Game. Servers are always laggy and more cheaters than a Pool hall   \n",
       "freq                                                                             1   \n",
       "\n",
       "          labels  \n",
       "count       1003  \n",
       "unique         2  \n",
       "top     Positive  \n",
       "freq         502  "
      ]
     },
     "execution_count": 22,
     "metadata": {},
     "output_type": "execute_result"
    }
   ],
   "source": [
    "dataset.describe()"
   ]
  },
  {
   "cell_type": "code",
   "execution_count": 23,
   "id": "404d46bc-da52-47ba-8daf-fde43a5b78fb",
   "metadata": {
    "tags": []
   },
   "outputs": [],
   "source": [
    "dataset = dataset.reset_index()\n",
    "dataset.drop(columns=[\"index\"],inplace= True)"
   ]
  },
  {
   "cell_type": "code",
   "execution_count": 24,
   "id": "7ca465d3-7155-4e08-a584-bd4c9d2556eb",
   "metadata": {
    "tags": []
   },
   "outputs": [
    {
     "data": {
      "text/html": [
       "<div>\n",
       "<style scoped>\n",
       "    .dataframe tbody tr th:only-of-type {\n",
       "        vertical-align: middle;\n",
       "    }\n",
       "\n",
       "    .dataframe tbody tr th {\n",
       "        vertical-align: top;\n",
       "    }\n",
       "\n",
       "    .dataframe thead th {\n",
       "        text-align: right;\n",
       "    }\n",
       "</style>\n",
       "<table border=\"1\" class=\"dataframe\">\n",
       "  <thead>\n",
       "    <tr style=\"text-align: right;\">\n",
       "      <th></th>\n",
       "      <th>reviews</th>\n",
       "      <th>labels</th>\n",
       "    </tr>\n",
       "  </thead>\n",
       "  <tbody>\n",
       "    <tr>\n",
       "      <th>230</th>\n",
       "      <td>The game is fun. However there can be players who take it too seriously. They lack consideration for beginners.</td>\n",
       "      <td>Positive</td>\n",
       "    </tr>\n",
       "    <tr>\n",
       "      <th>491</th>\n",
       "      <td>Russians are really nice in this game. 👍</td>\n",
       "      <td>Positive</td>\n",
       "    </tr>\n",
       "    <tr>\n",
       "      <th>235</th>\n",
       "      <td>From the May 23rd 2024 Update:\\n\\n[ CHICKENS ]\\nChickens have a few new animations\\nChickens can now walk up hills\\nChickens can now turn right while walking\\n\\nValve added a fucking chicken update before they added a functioning Anti-Cheat. I can't even make this shit up.</td>\n",
       "      <td>Negative</td>\n",
       "    </tr>\n",
       "    <tr>\n",
       "      <th>706</th>\n",
       "      <td>Step 1: install the game\\nStep 2: Start a game\\nStep 3: lose the game\\nStep 4: uninstall the game\\nStep 5: repeat step 1\\nStep 6: asking for the meaning of life</td>\n",
       "      <td>Negative</td>\n",
       "    </tr>\n",
       "    <tr>\n",
       "      <th>280</th>\n",
       "      <td>Best game i played yet good job steam!</td>\n",
       "      <td>Positive</td>\n",
       "    </tr>\n",
       "    <tr>\n",
       "      <th>609</th>\n",
       "      <td>this is best game in the steam communty</td>\n",
       "      <td>Positive</td>\n",
       "    </tr>\n",
       "    <tr>\n",
       "      <th>604</th>\n",
       "      <td>I have never written a review after playing 3 premier matches and having cheaters in every single game I will never install it again and advise people against it.</td>\n",
       "      <td>Negative</td>\n",
       "    </tr>\n",
       "    <tr>\n",
       "      <th>11</th>\n",
       "      <td>very good point and click adventure</td>\n",
       "      <td>Positive</td>\n",
       "    </tr>\n",
       "    <tr>\n",
       "      <th>900</th>\n",
       "      <td>This game makes me want to rip the skin off of a living human and slap it on an Ak-47 for a free cool skin</td>\n",
       "      <td>Negative</td>\n",
       "    </tr>\n",
       "    <tr>\n",
       "      <th>768</th>\n",
       "      <td>This game is so fun with friends</td>\n",
       "      <td>Positive</td>\n",
       "    </tr>\n",
       "  </tbody>\n",
       "</table>\n",
       "</div>"
      ],
      "text/plain": [
       "                                                                                                                                                                                                                                                                               reviews  \\\n",
       "230                                                                                                                                                                    The game is fun. However there can be players who take it too seriously. They lack consideration for beginners.   \n",
       "491                                                                                                                                                                                                                                           Russians are really nice in this game. 👍   \n",
       "235  From the May 23rd 2024 Update:\\n\\n[ CHICKENS ]\\nChickens have a few new animations\\nChickens can now walk up hills\\nChickens can now turn right while walking\\n\\nValve added a fucking chicken update before they added a functioning Anti-Cheat. I can't even make this shit up.   \n",
       "706                                                                                                                   Step 1: install the game\\nStep 2: Start a game\\nStep 3: lose the game\\nStep 4: uninstall the game\\nStep 5: repeat step 1\\nStep 6: asking for the meaning of life   \n",
       "280                                                                                                                                                                                                                                             Best game i played yet good job steam!   \n",
       "609                                                                                                                                                                                                                                            this is best game in the steam communty   \n",
       "604                                                                                                                 I have never written a review after playing 3 premier matches and having cheaters in every single game I will never install it again and advise people against it.   \n",
       "11                                                                                                                                                                                                                                                 very good point and click adventure   \n",
       "900                                                                                                                                                                         This game makes me want to rip the skin off of a living human and slap it on an Ak-47 for a free cool skin   \n",
       "768                                                                                                                                                                                                                                                   This game is so fun with friends   \n",
       "\n",
       "       labels  \n",
       "230  Positive  \n",
       "491  Positive  \n",
       "235  Negative  \n",
       "706  Negative  \n",
       "280  Positive  \n",
       "609  Positive  \n",
       "604  Negative  \n",
       "11   Positive  \n",
       "900  Negative  \n",
       "768  Positive  "
      ]
     },
     "execution_count": 24,
     "metadata": {},
     "output_type": "execute_result"
    }
   ],
   "source": [
    "dataset.sample(10, random_state=10)"
   ]
  },
  {
   "cell_type": "markdown",
   "id": "2f328edf-9c57-4578-8026-cb12cd4d3202",
   "metadata": {},
   "source": [
    "## text pre-process and normalization"
   ]
  },
  {
   "cell_type": "code",
   "execution_count": 26,
   "id": "cac21d4f-5b38-4ecf-b2c6-764082963167",
   "metadata": {
    "tags": []
   },
   "outputs": [
    {
     "data": {
      "text/plain": [
       "4877"
      ]
     },
     "execution_count": 26,
     "metadata": {},
     "output_type": "execute_result"
    }
   ],
   "source": [
    "uniqueWords = list(set(\" \".join(dataset['reviews']).split(\" \")))\n",
    "count = len(uniqueWords)\n",
    "count"
   ]
  },
  {
   "cell_type": "markdown",
   "id": "5c397227-7b1f-4d24-b9ec-541f4325e9a0",
   "metadata": {},
   "source": [
    "## removing emoji"
   ]
  },
  {
   "cell_type": "code",
   "execution_count": 28,
   "id": "c99f4cd0-1abf-4cea-bf78-4f02b6f5742e",
   "metadata": {
    "tags": []
   },
   "outputs": [],
   "source": [
    "import re\n",
    "\n",
    "def remove_emojis(data):\n",
    "    emoj = re.compile(\"[\"\n",
    "        u\"\\U0001F600-\\U0001F64F\"  # emoticons\n",
    "        u\"\\U0001F300-\\U0001F5FF\"  # symbols & pictographs\n",
    "        u\"\\U0001F680-\\U0001F6FF\"  # transport & map symbols\n",
    "        u\"\\U0001F1E0-\\U0001F1FF\"  # flags (iOS)\n",
    "        u\"\\U00002500-\\U00002BEF\"  # chinese char\n",
    "        u\"\\U00002702-\\U000027B0\"\n",
    "        u\"\\U000024C2-\\U0001F251\"\n",
    "        u\"\\U0001f926-\\U0001f937\"\n",
    "        u\"\\U00010000-\\U0010ffff\"\n",
    "        u\"\\u2640-\\u2642\" \n",
    "        u\"\\u2600-\\u2B55\"\n",
    "        u\"\\u200d\"\n",
    "        u\"\\u23cf\"\n",
    "        u\"\\u23e9\"\n",
    "        u\"\\u231a\"\n",
    "        u\"\\ufe0f\"  # dingbats\n",
    "        u\"\\u3030\"\n",
    "                      \"]+\", re.UNICODE)\n",
    "    return re.sub(emoj, '', data)"
   ]
  },
  {
   "cell_type": "code",
   "execution_count": 29,
   "id": "91a8c6d2-d731-487d-a0d3-a4ac1ba3a143",
   "metadata": {
    "tags": []
   },
   "outputs": [],
   "source": [
    "no_emoji = []\n",
    "for i in range(len(dataset)):\n",
    "    clean_emoji = remove_emojis(dataset.reviews[i])\n",
    "    no_emoji.append(clean_emoji)\n",
    "\n",
    "dataset.insert(1, \"no_emoji\", no_emoji, True)"
   ]
  },
  {
   "cell_type": "code",
   "execution_count": 30,
   "id": "7605e048-221c-4f39-acae-11e77c6ee00a",
   "metadata": {
    "tags": []
   },
   "outputs": [
    {
     "data": {
      "text/html": [
       "<div>\n",
       "<style scoped>\n",
       "    .dataframe tbody tr th:only-of-type {\n",
       "        vertical-align: middle;\n",
       "    }\n",
       "\n",
       "    .dataframe tbody tr th {\n",
       "        vertical-align: top;\n",
       "    }\n",
       "\n",
       "    .dataframe thead th {\n",
       "        text-align: right;\n",
       "    }\n",
       "</style>\n",
       "<table border=\"1\" class=\"dataframe\">\n",
       "  <thead>\n",
       "    <tr style=\"text-align: right;\">\n",
       "      <th></th>\n",
       "      <th>reviews</th>\n",
       "      <th>no_emoji</th>\n",
       "      <th>labels</th>\n",
       "    </tr>\n",
       "  </thead>\n",
       "  <tbody>\n",
       "    <tr>\n",
       "      <th>518</th>\n",
       "      <td>The best game ever made in the history of ever</td>\n",
       "      <td>The best game ever made in the history of ever</td>\n",
       "      <td>Positive</td>\n",
       "    </tr>\n",
       "    <tr>\n",
       "      <th>631</th>\n",
       "      <td>vac hasnt been able to verify my game files for years. fix this broken game</td>\n",
       "      <td>vac hasnt been able to verify my game files for years. fix this broken game</td>\n",
       "      <td>Negative</td>\n",
       "    </tr>\n",
       "    <tr>\n",
       "      <th>102</th>\n",
       "      <td>My friend just made a review after I beat him in a private match and made him rage quit....I recommend to everyone!</td>\n",
       "      <td>My friend just made a review after I beat him in a private match and made him rage quit....I recommend to everyone!</td>\n",
       "      <td>Positive</td>\n",
       "    </tr>\n",
       "    <tr>\n",
       "      <th>209</th>\n",
       "      <td>valve you suck at optimization and your vac sucks ass</td>\n",
       "      <td>valve you suck at optimization and your vac sucks ass</td>\n",
       "      <td>Negative</td>\n",
       "    </tr>\n",
       "    <tr>\n",
       "      <th>94</th>\n",
       "      <td>Shit game! always like a five stack in enemy team cheating</td>\n",
       "      <td>Shit game! always like a five stack in enemy team cheating</td>\n",
       "      <td>Negative</td>\n",
       "    </tr>\n",
       "    <tr>\n",
       "      <th>497</th>\n",
       "      <td>Hello Valve,\\n\\nThere are a lot of players with recent profile created that are cheating ( find a workaround for people who are making new accounts only to cheat not risking anything but an e-mail at most ) - maybe you will improve your VAC system. I mean.. it is impossible to play at this time, everything is pretty cool, skins, functionality etc but dude ..at least bring some admins who can stay spectators in games if your system is not capable of protecting the legit and correct players.\\nAlways cheaters with AIM and WALL and you don't do nothing about it.. totally disappointed until your fix..</td>\n",
       "      <td>Hello Valve,\\n\\nThere are a lot of players with recent profile created that are cheating ( find a workaround for people who are making new accounts only to cheat not risking anything but an e-mail at most ) - maybe you will improve your VAC system. I mean.. it is impossible to play at this time, everything is pretty cool, skins, functionality etc but dude ..at least bring some admins who can stay spectators in games if your system is not capable of protecting the legit and correct players.\\nAlways cheaters with AIM and WALL and you don't do nothing about it.. totally disappointed until your fix..</td>\n",
       "      <td>Negative</td>\n",
       "    </tr>\n",
       "    <tr>\n",
       "      <th>494</th>\n",
       "      <td>WORST GAME EVER CREATED. PLEASE NEVER PLAY THIS GAME. \\nUpdate: play this game and learn how to strafe, played for 1.5k hours and just now figured out u could strafe.</td>\n",
       "      <td>WORST GAME EVER CREATED. PLEASE NEVER PLAY THIS GAME. \\nUpdate: play this game and learn how to strafe, played for 1.5k hours and just now figured out u could strafe.</td>\n",
       "      <td>Negative</td>\n",
       "    </tr>\n",
       "    <tr>\n",
       "      <th>851</th>\n",
       "      <td>CS2 is the epitome of 'verschlimmbessern', literally nothing improved except the Smokes.\\nOn the contrary, at least the Quickchat and the Buy menu got worse and Skins are 3x what they were a few years ago...</td>\n",
       "      <td>CS2 is the epitome of 'verschlimmbessern', literally nothing improved except the Smokes.\\nOn the contrary, at least the Quickchat and the Buy menu got worse and Skins are 3x what they were a few years ago...</td>\n",
       "      <td>Negative</td>\n",
       "    </tr>\n",
       "    <tr>\n",
       "      <th>247</th>\n",
       "      <td>I have a skin addiction.... games kewl too</td>\n",
       "      <td>I have a skin addiction.... games kewl too</td>\n",
       "      <td>Positive</td>\n",
       "    </tr>\n",
       "    <tr>\n",
       "      <th>659</th>\n",
       "      <td>i am missing csgo normal\\r\\n</td>\n",
       "      <td>i am missing csgo normal\\r\\n</td>\n",
       "      <td>Negative</td>\n",
       "    </tr>\n",
       "  </tbody>\n",
       "</table>\n",
       "</div>"
      ],
      "text/plain": [
       "                                                                                                                                                                                                                                                                                                                                                                                                                                                                                                                                                                                                                         reviews  \\\n",
       "518                                                                                                                                                                                                                                                                                                                                                                                                                                                                                                                                                                               The best game ever made in the history of ever   \n",
       "631                                                                                                                                                                                                                                                                                                                                                                                                                                                                                                                                                  vac hasnt been able to verify my game files for years. fix this broken game   \n",
       "102                                                                                                                                                                                                                                                                                                                                                                                                                                                                                                          My friend just made a review after I beat him in a private match and made him rage quit....I recommend to everyone!   \n",
       "209                                                                                                                                                                                                                                                                                                                                                                                                                                                                                                                                                                        valve you suck at optimization and your vac sucks ass   \n",
       "94                                                                                                                                                                                                                                                                                                                                                                                                                                                                                                                                                                    Shit game! always like a five stack in enemy team cheating   \n",
       "497  Hello Valve,\\n\\nThere are a lot of players with recent profile created that are cheating ( find a workaround for people who are making new accounts only to cheat not risking anything but an e-mail at most ) - maybe you will improve your VAC system. I mean.. it is impossible to play at this time, everything is pretty cool, skins, functionality etc but dude ..at least bring some admins who can stay spectators in games if your system is not capable of protecting the legit and correct players.\\nAlways cheaters with AIM and WALL and you don't do nothing about it.. totally disappointed until your fix..   \n",
       "494                                                                                                                                                                                                                                                                                                                                                                                                                                                       WORST GAME EVER CREATED. PLEASE NEVER PLAY THIS GAME. \\nUpdate: play this game and learn how to strafe, played for 1.5k hours and just now figured out u could strafe.   \n",
       "851                                                                                                                                                                                                                                                                                                                                                                                                              CS2 is the epitome of 'verschlimmbessern', literally nothing improved except the Smokes.\\nOn the contrary, at least the Quickchat and the Buy menu got worse and Skins are 3x what they were a few years ago...   \n",
       "247                                                                                                                                                                                                                                                                                                                                                                                                                                                                                                                                                                                   I have a skin addiction.... games kewl too   \n",
       "659                                                                                                                                                                                                                                                                                                                                                                                                                                                                                                                                                                                                 i am missing csgo normal\\r\\n   \n",
       "\n",
       "                                                                                                                                                                                                                                                                                                                                                                                                                                                                                                                                                                                                                        no_emoji  \\\n",
       "518                                                                                                                                                                                                                                                                                                                                                                                                                                                                                                                                                                               The best game ever made in the history of ever   \n",
       "631                                                                                                                                                                                                                                                                                                                                                                                                                                                                                                                                                  vac hasnt been able to verify my game files for years. fix this broken game   \n",
       "102                                                                                                                                                                                                                                                                                                                                                                                                                                                                                                          My friend just made a review after I beat him in a private match and made him rage quit....I recommend to everyone!   \n",
       "209                                                                                                                                                                                                                                                                                                                                                                                                                                                                                                                                                                        valve you suck at optimization and your vac sucks ass   \n",
       "94                                                                                                                                                                                                                                                                                                                                                                                                                                                                                                                                                                    Shit game! always like a five stack in enemy team cheating   \n",
       "497  Hello Valve,\\n\\nThere are a lot of players with recent profile created that are cheating ( find a workaround for people who are making new accounts only to cheat not risking anything but an e-mail at most ) - maybe you will improve your VAC system. I mean.. it is impossible to play at this time, everything is pretty cool, skins, functionality etc but dude ..at least bring some admins who can stay spectators in games if your system is not capable of protecting the legit and correct players.\\nAlways cheaters with AIM and WALL and you don't do nothing about it.. totally disappointed until your fix..   \n",
       "494                                                                                                                                                                                                                                                                                                                                                                                                                                                       WORST GAME EVER CREATED. PLEASE NEVER PLAY THIS GAME. \\nUpdate: play this game and learn how to strafe, played for 1.5k hours and just now figured out u could strafe.   \n",
       "851                                                                                                                                                                                                                                                                                                                                                                                                              CS2 is the epitome of 'verschlimmbessern', literally nothing improved except the Smokes.\\nOn the contrary, at least the Quickchat and the Buy menu got worse and Skins are 3x what they were a few years ago...   \n",
       "247                                                                                                                                                                                                                                                                                                                                                                                                                                                                                                                                                                                   I have a skin addiction.... games kewl too   \n",
       "659                                                                                                                                                                                                                                                                                                                                                                                                                                                                                                                                                                                                 i am missing csgo normal\\r\\n   \n",
       "\n",
       "       labels  \n",
       "518  Positive  \n",
       "631  Negative  \n",
       "102  Positive  \n",
       "209  Negative  \n",
       "94   Negative  \n",
       "497  Negative  \n",
       "494  Negative  \n",
       "851  Negative  \n",
       "247  Positive  \n",
       "659  Negative  "
      ]
     },
     "execution_count": 30,
     "metadata": {},
     "output_type": "execute_result"
    }
   ],
   "source": [
    "dataset.sample(10)"
   ]
  },
  {
   "cell_type": "markdown",
   "id": "3f232369-78e5-4945-9f23-b91b58c8fe1d",
   "metadata": {},
   "source": [
    "## removing punctuation"
   ]
  },
  {
   "cell_type": "code",
   "execution_count": 32,
   "id": "289a8207-d993-451e-ab64-2edabc7289d4",
   "metadata": {
    "tags": []
   },
   "outputs": [],
   "source": [
    "import re\n",
    "import string"
   ]
  },
  {
   "cell_type": "code",
   "execution_count": 33,
   "id": "8e0daeef-a3b1-4a67-acb8-228fcc7a957c",
   "metadata": {
    "tags": []
   },
   "outputs": [],
   "source": [
    "def remove_custom_punctuation(text, exclude=''):\n",
    "    punctuation_to_remove = ''.join([char for char in string.punctuation if char not in exclude])\n",
    "    return re.sub(f'[{re.escape(punctuation_to_remove)}]', '', text)"
   ]
  },
  {
   "cell_type": "code",
   "execution_count": 34,
   "id": "7aa06861-6771-4dd8-943e-af1ac7b411fd",
   "metadata": {
    "tags": []
   },
   "outputs": [],
   "source": [
    "no_ascii = []\n",
    "for i in range(len(dataset)):\n",
    "    clean_ascii = remove_custom_punctuation(dataset.no_emoji[i].lower() ,exclude='/')\n",
    "    no_ascii.append(clean_ascii)\n",
    "\n",
    "dataset.insert(2, \"no_punc\", no_ascii, True)"
   ]
  },
  {
   "cell_type": "code",
   "execution_count": 35,
   "id": "955b24a7-5f12-4ed8-b132-a4b8133618bf",
   "metadata": {
    "tags": []
   },
   "outputs": [
    {
     "data": {
      "text/html": [
       "<div>\n",
       "<style scoped>\n",
       "    .dataframe tbody tr th:only-of-type {\n",
       "        vertical-align: middle;\n",
       "    }\n",
       "\n",
       "    .dataframe tbody tr th {\n",
       "        vertical-align: top;\n",
       "    }\n",
       "\n",
       "    .dataframe thead th {\n",
       "        text-align: right;\n",
       "    }\n",
       "</style>\n",
       "<table border=\"1\" class=\"dataframe\">\n",
       "  <thead>\n",
       "    <tr style=\"text-align: right;\">\n",
       "      <th></th>\n",
       "      <th>reviews</th>\n",
       "      <th>no_emoji</th>\n",
       "      <th>no_punc</th>\n",
       "      <th>labels</th>\n",
       "    </tr>\n",
       "  </thead>\n",
       "  <tbody>\n",
       "    <tr>\n",
       "      <th>0</th>\n",
       "      <td>Terrible Game. Servers are always laggy and more cheaters than a Pool hall</td>\n",
       "      <td>Terrible Game. Servers are always laggy and more cheaters than a Pool hall</td>\n",
       "      <td>terrible game servers are always laggy and more cheaters than a pool hall</td>\n",
       "      <td>Negative</td>\n",
       "    </tr>\n",
       "    <tr>\n",
       "      <th>1</th>\n",
       "      <td>Love CS, been playing it for 20 years now. The only thing I wish happened was that trolls, toxic people, cheaters and smurfs were more heavily regulated.</td>\n",
       "      <td>Love CS, been playing it for 20 years now. The only thing I wish happened was that trolls, toxic people, cheaters and smurfs were more heavily regulated.</td>\n",
       "      <td>love cs been playing it for 20 years now the only thing i wish happened was that trolls toxic people cheaters and smurfs were more heavily regulated</td>\n",
       "      <td>Negative</td>\n",
       "    </tr>\n",
       "    <tr>\n",
       "      <th>2</th>\n",
       "      <td>One of the nostalgic games of all time.</td>\n",
       "      <td>One of the nostalgic games of all time.</td>\n",
       "      <td>one of the nostalgic games of all time</td>\n",
       "      <td>Positive</td>\n",
       "    </tr>\n",
       "    <tr>\n",
       "      <th>3</th>\n",
       "      <td>best game headshot pew pew</td>\n",
       "      <td>best game headshot pew pew</td>\n",
       "      <td>best game headshot pew pew</td>\n",
       "      <td>Positive</td>\n",
       "    </tr>\n",
       "    <tr>\n",
       "      <th>4</th>\n",
       "      <td>This is a very good game, i love it!</td>\n",
       "      <td>This is a very good game, i love it!</td>\n",
       "      <td>this is a very good game i love it</td>\n",
       "      <td>Positive</td>\n",
       "    </tr>\n",
       "    <tr>\n",
       "      <th>5</th>\n",
       "      <td>9/10 fun wish i could aim</td>\n",
       "      <td>9/10 fun wish i could aim</td>\n",
       "      <td>9/10 fun wish i could aim</td>\n",
       "      <td>Positive</td>\n",
       "    </tr>\n",
       "    <tr>\n",
       "      <th>6</th>\n",
       "      <td>thank for disable competitive 30 min(failed to connect to the match) bc this stp game crash just when match start.</td>\n",
       "      <td>thank for disable competitive 30 min(failed to connect to the match) bc this stp game crash just when match start.</td>\n",
       "      <td>thank for disable competitive 30 minfailed to connect to the match bc this stp game crash just when match start</td>\n",
       "      <td>Negative</td>\n",
       "    </tr>\n",
       "    <tr>\n",
       "      <th>7</th>\n",
       "      <td>good game to have fun\\r\\n</td>\n",
       "      <td>good game to have fun\\r\\n</td>\n",
       "      <td>good game to have funrn</td>\n",
       "      <td>Positive</td>\n",
       "    </tr>\n",
       "    <tr>\n",
       "      <th>8</th>\n",
       "      <td>Too many hackers and cringe people play this game. Spare yourself the trouble, Valve anti cheat doesn't care about legit cheaters.</td>\n",
       "      <td>Too many hackers and cringe people play this game. Spare yourself the trouble, Valve anti cheat doesn't care about legit cheaters.</td>\n",
       "      <td>too many hackers and cringe people play this game spare yourself the trouble valve anti cheat doesnt care about legit cheaters</td>\n",
       "      <td>Negative</td>\n",
       "    </tr>\n",
       "    <tr>\n",
       "      <th>9</th>\n",
       "      <td>pls fix this shit game. and its hit detection, wierd and wacky gun spray patterns, and cheaters. thanks valve and your shit copoy\\n</td>\n",
       "      <td>pls fix this shit game. and its hit detection, wierd and wacky gun spray patterns, and cheaters. thanks valve and your shit copoy\\n</td>\n",
       "      <td>pls fix this shit game and its hit detection wierd and wacky gun spray patterns and cheaters thanks valve and your shit copoyn</td>\n",
       "      <td>Negative</td>\n",
       "    </tr>\n",
       "  </tbody>\n",
       "</table>\n",
       "</div>"
      ],
      "text/plain": [
       "                                                                                                                                                     reviews  \\\n",
       "0                                                                                 Terrible Game. Servers are always laggy and more cheaters than a Pool hall   \n",
       "1  Love CS, been playing it for 20 years now. The only thing I wish happened was that trolls, toxic people, cheaters and smurfs were more heavily regulated.   \n",
       "2                                                                                                                    One of the nostalgic games of all time.   \n",
       "3                                                                                                                                 best game headshot pew pew   \n",
       "4                                                                                                                       This is a very good game, i love it!   \n",
       "5                                                                                                                                  9/10 fun wish i could aim   \n",
       "6                                         thank for disable competitive 30 min(failed to connect to the match) bc this stp game crash just when match start.   \n",
       "7                                                                                                                                  good game to have fun\\r\\n   \n",
       "8                         Too many hackers and cringe people play this game. Spare yourself the trouble, Valve anti cheat doesn't care about legit cheaters.   \n",
       "9                        pls fix this shit game. and its hit detection, wierd and wacky gun spray patterns, and cheaters. thanks valve and your shit copoy\\n   \n",
       "\n",
       "                                                                                                                                                    no_emoji  \\\n",
       "0                                                                                 Terrible Game. Servers are always laggy and more cheaters than a Pool hall   \n",
       "1  Love CS, been playing it for 20 years now. The only thing I wish happened was that trolls, toxic people, cheaters and smurfs were more heavily regulated.   \n",
       "2                                                                                                                    One of the nostalgic games of all time.   \n",
       "3                                                                                                                                 best game headshot pew pew   \n",
       "4                                                                                                                       This is a very good game, i love it!   \n",
       "5                                                                                                                                  9/10 fun wish i could aim   \n",
       "6                                         thank for disable competitive 30 min(failed to connect to the match) bc this stp game crash just when match start.   \n",
       "7                                                                                                                                  good game to have fun\\r\\n   \n",
       "8                         Too many hackers and cringe people play this game. Spare yourself the trouble, Valve anti cheat doesn't care about legit cheaters.   \n",
       "9                        pls fix this shit game. and its hit detection, wierd and wacky gun spray patterns, and cheaters. thanks valve and your shit copoy\\n   \n",
       "\n",
       "                                                                                                                                                no_punc  \\\n",
       "0                                                                             terrible game servers are always laggy and more cheaters than a pool hall   \n",
       "1  love cs been playing it for 20 years now the only thing i wish happened was that trolls toxic people cheaters and smurfs were more heavily regulated   \n",
       "2                                                                                                                one of the nostalgic games of all time   \n",
       "3                                                                                                                            best game headshot pew pew   \n",
       "4                                                                                                                    this is a very good game i love it   \n",
       "5                                                                                                                             9/10 fun wish i could aim   \n",
       "6                                       thank for disable competitive 30 minfailed to connect to the match bc this stp game crash just when match start   \n",
       "7                                                                                                                               good game to have funrn   \n",
       "8                        too many hackers and cringe people play this game spare yourself the trouble valve anti cheat doesnt care about legit cheaters   \n",
       "9                        pls fix this shit game and its hit detection wierd and wacky gun spray patterns and cheaters thanks valve and your shit copoyn   \n",
       "\n",
       "     labels  \n",
       "0  Negative  \n",
       "1  Negative  \n",
       "2  Positive  \n",
       "3  Positive  \n",
       "4  Positive  \n",
       "5  Positive  \n",
       "6  Negative  \n",
       "7  Positive  \n",
       "8  Negative  \n",
       "9  Negative  "
      ]
     },
     "execution_count": 35,
     "metadata": {},
     "output_type": "execute_result"
    }
   ],
   "source": [
    "dataset.head(10)"
   ]
  },
  {
   "cell_type": "code",
   "execution_count": 36,
   "id": "88ef496e-29be-4b6c-8d4e-91e58fd04276",
   "metadata": {
    "scrolled": true,
    "tags": []
   },
   "outputs": [
    {
     "data": {
      "text/plain": [
       "3350"
      ]
     },
     "execution_count": 36,
     "metadata": {},
     "output_type": "execute_result"
    }
   ],
   "source": [
    "uniqueWords2 = list(set(\" \".join(dataset['no_punc']).split(\" \")))\n",
    "count2 = len(uniqueWords2)\n",
    "count2"
   ]
  },
  {
   "cell_type": "code",
   "execution_count": 37,
   "id": "f874bb4e-6d94-4dd4-be30-49d950cf0387",
   "metadata": {
    "tags": []
   },
   "outputs": [],
   "source": [
    "from num2words import num2words\n",
    "from nltk.tokenize import sent_tokenize, word_tokenize "
   ]
  },
  {
   "cell_type": "code",
   "execution_count": 38,
   "id": "48d9b047-bc54-4d56-92db-aa27ae7af33a",
   "metadata": {
    "tags": []
   },
   "outputs": [],
   "source": [
    "def convert_digits_to_words(text):\n",
    "    words = text.split()\n",
    "    converted_words = [num2words(word) if word.isdigit() else word for word in words]\n",
    "    converted_text = ' '.join(converted_words)\n",
    "    return converted_text"
   ]
  },
  {
   "cell_type": "code",
   "execution_count": 39,
   "id": "d921c02c-9ab5-46b3-8b8c-23a8e2a417ca",
   "metadata": {
    "tags": []
   },
   "outputs": [],
   "source": [
    "numtoword = []\n",
    "for i in range(len(dataset)):\n",
    "    numtow = convert_digits_to_words(dataset.no_punc[i])\n",
    "    numtoword.append(numtow)\n",
    "    \n",
    "dataset.insert(3, \"no_digit\", numtoword, True)"
   ]
  },
  {
   "cell_type": "code",
   "execution_count": 40,
   "id": "4d4dea96-2d37-4def-949f-19336b48512c",
   "metadata": {
    "tags": []
   },
   "outputs": [
    {
     "data": {
      "text/html": [
       "<div>\n",
       "<style scoped>\n",
       "    .dataframe tbody tr th:only-of-type {\n",
       "        vertical-align: middle;\n",
       "    }\n",
       "\n",
       "    .dataframe tbody tr th {\n",
       "        vertical-align: top;\n",
       "    }\n",
       "\n",
       "    .dataframe thead th {\n",
       "        text-align: right;\n",
       "    }\n",
       "</style>\n",
       "<table border=\"1\" class=\"dataframe\">\n",
       "  <thead>\n",
       "    <tr style=\"text-align: right;\">\n",
       "      <th></th>\n",
       "      <th>reviews</th>\n",
       "      <th>no_emoji</th>\n",
       "      <th>no_punc</th>\n",
       "      <th>no_digit</th>\n",
       "      <th>labels</th>\n",
       "    </tr>\n",
       "  </thead>\n",
       "  <tbody>\n",
       "    <tr>\n",
       "      <th>230</th>\n",
       "      <td>The game is fun. However there can be players who take it too seriously. They lack consideration for beginners.</td>\n",
       "      <td>The game is fun. However there can be players who take it too seriously. They lack consideration for beginners.</td>\n",
       "      <td>the game is fun however there can be players who take it too seriously they lack consideration for beginners</td>\n",
       "      <td>the game is fun however there can be players who take it too seriously they lack consideration for beginners</td>\n",
       "      <td>Positive</td>\n",
       "    </tr>\n",
       "    <tr>\n",
       "      <th>491</th>\n",
       "      <td>Russians are really nice in this game. 👍</td>\n",
       "      <td>Russians are really nice in this game.</td>\n",
       "      <td>russians are really nice in this game</td>\n",
       "      <td>russians are really nice in this game</td>\n",
       "      <td>Positive</td>\n",
       "    </tr>\n",
       "    <tr>\n",
       "      <th>235</th>\n",
       "      <td>From the May 23rd 2024 Update:\\n\\n[ CHICKENS ]\\nChickens have a few new animations\\nChickens can now walk up hills\\nChickens can now turn right while walking\\n\\nValve added a fucking chicken update before they added a functioning Anti-Cheat. I can't even make this shit up.</td>\n",
       "      <td>From the May 23rd 2024 Update:\\n\\n[ CHICKENS ]\\nChickens have a few new animations\\nChickens can now walk up hills\\nChickens can now turn right while walking\\n\\nValve added a fucking chicken update before they added a functioning Anti-Cheat. I can't even make this shit up.</td>\n",
       "      <td>from the may 23rd 2024 updatenn chickens nchickens have a few new animationsnchickens can now walk up hillsnchickens can now turn right while walkingnnvalve added a fucking chicken update before they added a functioning anticheat i cant even make this shit up</td>\n",
       "      <td>from the may 23rd two thousand and twenty-four updatenn chickens nchickens have a few new animationsnchickens can now walk up hillsnchickens can now turn right while walkingnnvalve added a fucking chicken update before they added a functioning anticheat i cant even make this shit up</td>\n",
       "      <td>Negative</td>\n",
       "    </tr>\n",
       "    <tr>\n",
       "      <th>706</th>\n",
       "      <td>Step 1: install the game\\nStep 2: Start a game\\nStep 3: lose the game\\nStep 4: uninstall the game\\nStep 5: repeat step 1\\nStep 6: asking for the meaning of life</td>\n",
       "      <td>Step 1: install the game\\nStep 2: Start a game\\nStep 3: lose the game\\nStep 4: uninstall the game\\nStep 5: repeat step 1\\nStep 6: asking for the meaning of life</td>\n",
       "      <td>step 1 install the gamenstep 2 start a gamenstep 3 lose the gamenstep 4 uninstall the gamenstep 5 repeat step 1nstep 6 asking for the meaning of life</td>\n",
       "      <td>step one install the gamenstep two start a gamenstep three lose the gamenstep four uninstall the gamenstep five repeat step 1nstep six asking for the meaning of life</td>\n",
       "      <td>Negative</td>\n",
       "    </tr>\n",
       "    <tr>\n",
       "      <th>280</th>\n",
       "      <td>Best game i played yet good job steam!</td>\n",
       "      <td>Best game i played yet good job steam!</td>\n",
       "      <td>best game i played yet good job steam</td>\n",
       "      <td>best game i played yet good job steam</td>\n",
       "      <td>Positive</td>\n",
       "    </tr>\n",
       "    <tr>\n",
       "      <th>609</th>\n",
       "      <td>this is best game in the steam communty</td>\n",
       "      <td>this is best game in the steam communty</td>\n",
       "      <td>this is best game in the steam communty</td>\n",
       "      <td>this is best game in the steam communty</td>\n",
       "      <td>Positive</td>\n",
       "    </tr>\n",
       "    <tr>\n",
       "      <th>604</th>\n",
       "      <td>I have never written a review after playing 3 premier matches and having cheaters in every single game I will never install it again and advise people against it.</td>\n",
       "      <td>I have never written a review after playing 3 premier matches and having cheaters in every single game I will never install it again and advise people against it.</td>\n",
       "      <td>i have never written a review after playing 3 premier matches and having cheaters in every single game i will never install it again and advise people against it</td>\n",
       "      <td>i have never written a review after playing three premier matches and having cheaters in every single game i will never install it again and advise people against it</td>\n",
       "      <td>Negative</td>\n",
       "    </tr>\n",
       "    <tr>\n",
       "      <th>11</th>\n",
       "      <td>very good point and click adventure</td>\n",
       "      <td>very good point and click adventure</td>\n",
       "      <td>very good point and click adventure</td>\n",
       "      <td>very good point and click adventure</td>\n",
       "      <td>Positive</td>\n",
       "    </tr>\n",
       "    <tr>\n",
       "      <th>900</th>\n",
       "      <td>This game makes me want to rip the skin off of a living human and slap it on an Ak-47 for a free cool skin</td>\n",
       "      <td>This game makes me want to rip the skin off of a living human and slap it on an Ak-47 for a free cool skin</td>\n",
       "      <td>this game makes me want to rip the skin off of a living human and slap it on an ak47 for a free cool skin</td>\n",
       "      <td>this game makes me want to rip the skin off of a living human and slap it on an ak47 for a free cool skin</td>\n",
       "      <td>Negative</td>\n",
       "    </tr>\n",
       "    <tr>\n",
       "      <th>768</th>\n",
       "      <td>This game is so fun with friends</td>\n",
       "      <td>This game is so fun with friends</td>\n",
       "      <td>this game is so fun with friends</td>\n",
       "      <td>this game is so fun with friends</td>\n",
       "      <td>Positive</td>\n",
       "    </tr>\n",
       "  </tbody>\n",
       "</table>\n",
       "</div>"
      ],
      "text/plain": [
       "                                                                                                                                                                                                                                                                               reviews  \\\n",
       "230                                                                                                                                                                    The game is fun. However there can be players who take it too seriously. They lack consideration for beginners.   \n",
       "491                                                                                                                                                                                                                                           Russians are really nice in this game. 👍   \n",
       "235  From the May 23rd 2024 Update:\\n\\n[ CHICKENS ]\\nChickens have a few new animations\\nChickens can now walk up hills\\nChickens can now turn right while walking\\n\\nValve added a fucking chicken update before they added a functioning Anti-Cheat. I can't even make this shit up.   \n",
       "706                                                                                                                   Step 1: install the game\\nStep 2: Start a game\\nStep 3: lose the game\\nStep 4: uninstall the game\\nStep 5: repeat step 1\\nStep 6: asking for the meaning of life   \n",
       "280                                                                                                                                                                                                                                             Best game i played yet good job steam!   \n",
       "609                                                                                                                                                                                                                                            this is best game in the steam communty   \n",
       "604                                                                                                                 I have never written a review after playing 3 premier matches and having cheaters in every single game I will never install it again and advise people against it.   \n",
       "11                                                                                                                                                                                                                                                 very good point and click adventure   \n",
       "900                                                                                                                                                                         This game makes me want to rip the skin off of a living human and slap it on an Ak-47 for a free cool skin   \n",
       "768                                                                                                                                                                                                                                                   This game is so fun with friends   \n",
       "\n",
       "                                                                                                                                                                                                                                                                              no_emoji  \\\n",
       "230                                                                                                                                                                    The game is fun. However there can be players who take it too seriously. They lack consideration for beginners.   \n",
       "491                                                                                                                                                                                                                                            Russians are really nice in this game.    \n",
       "235  From the May 23rd 2024 Update:\\n\\n[ CHICKENS ]\\nChickens have a few new animations\\nChickens can now walk up hills\\nChickens can now turn right while walking\\n\\nValve added a fucking chicken update before they added a functioning Anti-Cheat. I can't even make this shit up.   \n",
       "706                                                                                                                   Step 1: install the game\\nStep 2: Start a game\\nStep 3: lose the game\\nStep 4: uninstall the game\\nStep 5: repeat step 1\\nStep 6: asking for the meaning of life   \n",
       "280                                                                                                                                                                                                                                             Best game i played yet good job steam!   \n",
       "609                                                                                                                                                                                                                                            this is best game in the steam communty   \n",
       "604                                                                                                                 I have never written a review after playing 3 premier matches and having cheaters in every single game I will never install it again and advise people against it.   \n",
       "11                                                                                                                                                                                                                                                 very good point and click adventure   \n",
       "900                                                                                                                                                                         This game makes me want to rip the skin off of a living human and slap it on an Ak-47 for a free cool skin   \n",
       "768                                                                                                                                                                                                                                                   This game is so fun with friends   \n",
       "\n",
       "                                                                                                                                                                                                                                                                 no_punc  \\\n",
       "230                                                                                                                                                         the game is fun however there can be players who take it too seriously they lack consideration for beginners   \n",
       "491                                                                                                                                                                                                                               russians are really nice in this game    \n",
       "235  from the may 23rd 2024 updatenn chickens nchickens have a few new animationsnchickens can now walk up hillsnchickens can now turn right while walkingnnvalve added a fucking chicken update before they added a functioning anticheat i cant even make this shit up   \n",
       "706                                                                                                                step 1 install the gamenstep 2 start a gamenstep 3 lose the gamenstep 4 uninstall the gamenstep 5 repeat step 1nstep 6 asking for the meaning of life   \n",
       "280                                                                                                                                                                                                                                best game i played yet good job steam   \n",
       "609                                                                                                                                                                                                                              this is best game in the steam communty   \n",
       "604                                                                                                    i have never written a review after playing 3 premier matches and having cheaters in every single game i will never install it again and advise people against it   \n",
       "11                                                                                                                                                                                                                                   very good point and click adventure   \n",
       "900                                                                                                                                                            this game makes me want to rip the skin off of a living human and slap it on an ak47 for a free cool skin   \n",
       "768                                                                                                                                                                                                                                     this game is so fun with friends   \n",
       "\n",
       "                                                                                                                                                                                                                                                                                        no_digit  \\\n",
       "230                                                                                                                                                                                 the game is fun however there can be players who take it too seriously they lack consideration for beginners   \n",
       "491                                                                                                                                                                                                                                                        russians are really nice in this game   \n",
       "235  from the may 23rd two thousand and twenty-four updatenn chickens nchickens have a few new animationsnchickens can now walk up hillsnchickens can now turn right while walkingnnvalve added a fucking chicken update before they added a functioning anticheat i cant even make this shit up   \n",
       "706                                                                                                                        step one install the gamenstep two start a gamenstep three lose the gamenstep four uninstall the gamenstep five repeat step 1nstep six asking for the meaning of life   \n",
       "280                                                                                                                                                                                                                                                        best game i played yet good job steam   \n",
       "609                                                                                                                                                                                                                                                      this is best game in the steam communty   \n",
       "604                                                                                                                        i have never written a review after playing three premier matches and having cheaters in every single game i will never install it again and advise people against it   \n",
       "11                                                                                                                                                                                                                                                           very good point and click adventure   \n",
       "900                                                                                                                                                                                    this game makes me want to rip the skin off of a living human and slap it on an ak47 for a free cool skin   \n",
       "768                                                                                                                                                                                                                                                             this game is so fun with friends   \n",
       "\n",
       "       labels  \n",
       "230  Positive  \n",
       "491  Positive  \n",
       "235  Negative  \n",
       "706  Negative  \n",
       "280  Positive  \n",
       "609  Positive  \n",
       "604  Negative  \n",
       "11   Positive  \n",
       "900  Negative  \n",
       "768  Positive  "
      ]
     },
     "execution_count": 40,
     "metadata": {},
     "output_type": "execute_result"
    }
   ],
   "source": [
    "dataset.sample(10, random_state=10)"
   ]
  },
  {
   "cell_type": "code",
   "execution_count": 41,
   "id": "a23e7887-e2d8-4ea2-b190-c13d538e0a3d",
   "metadata": {
    "tags": []
   },
   "outputs": [],
   "source": [
    "import nltk\n",
    "from nltk.corpus import wordnet"
   ]
  },
  {
   "cell_type": "code",
   "execution_count": 42,
   "id": "512ed0c7-303b-49b2-8d24-8797ff1b3980",
   "metadata": {
    "tags": []
   },
   "outputs": [
    {
     "name": "stderr",
     "output_type": "stream",
     "text": [
      "[nltk_data] Downloading package wordnet to\n",
      "[nltk_data]     /Users/bagussatya/nltk_data...\n",
      "[nltk_data]   Package wordnet is already up-to-date!\n"
     ]
    },
    {
     "data": {
      "text/plain": [
       "True"
      ]
     },
     "execution_count": 42,
     "metadata": {},
     "output_type": "execute_result"
    }
   ],
   "source": [
    "nltk.download('wordnet')"
   ]
  },
  {
   "cell_type": "code",
   "execution_count": 43,
   "id": "9969626f-ebf6-4314-a832-9e2f23e3fd1e",
   "metadata": {
    "tags": []
   },
   "outputs": [],
   "source": [
    "cs2_terms = [\n",
    "    \"ace\", \"clutch\", \"eco\", \"force buy\", \"full buy\", \"save\", \"pick\", \"push\",\n",
    "    \"rotate\", \"split\", \"rush\", \"awp\", \"ak-47\", \"m4a4\", \"m4a1-s\", \"deagle\",\n",
    "    \"kevlar\", \"helmet\", \"utility\", \"site\", \"ct spawn\", \"t spawn\", \"connector\",\n",
    "    \"mid\", \"boost\", \"ninja\", \"strat\", \"callout\", \"fake\", \"trade\", \"entry fragger\",\n",
    "    \"support\", \"lurk\", \"in-game leader\", \"igl\", \"best of three\", \"bo3\", \"overtime\",\n",
    "    \"defuse\", \"plant\", \"ak47\", \"ct\", \"t\"\n",
    "]"
   ]
  },
  {
   "cell_type": "code",
   "execution_count": 44,
   "id": "bdaf8b82-f521-4531-a7fd-f27f7b58798d",
   "metadata": {
    "tags": []
   },
   "outputs": [],
   "source": [
    "def is_english_word(word):\n",
    "    return bool(wordnet.synsets(word))\n",
    "\n",
    "def filter_valid_words(words, special_terms):\n",
    "    valid_words = []\n",
    "    for word in words.split():\n",
    "        clean_word = word.replace('-', '').replace(' ', '')\n",
    "        if is_english_word(clean_word) or word in special_terms:\n",
    "            valid_words.append(word)\n",
    "    return valid_words"
   ]
  },
  {
   "cell_type": "code",
   "execution_count": 45,
   "id": "cc65f473-3967-45e3-b3f2-38f168a5ce64",
   "metadata": {
    "tags": []
   },
   "outputs": [],
   "source": [
    "words_term = []\n",
    "for i in range(len(dataset)):\n",
    "    terms = filter_valid_words(dataset.no_digit[i], cs2_terms)\n",
    "    words_term.append(' '.join(terms))\n",
    "    \n",
    "dataset.insert(4, \"terms\", words_term, True)"
   ]
  },
  {
   "cell_type": "code",
   "execution_count": 46,
   "id": "b15ba560-bdae-4940-b14e-5097bf4cff9c",
   "metadata": {
    "tags": []
   },
   "outputs": [
    {
     "data": {
      "text/html": [
       "<div>\n",
       "<style scoped>\n",
       "    .dataframe tbody tr th:only-of-type {\n",
       "        vertical-align: middle;\n",
       "    }\n",
       "\n",
       "    .dataframe tbody tr th {\n",
       "        vertical-align: top;\n",
       "    }\n",
       "\n",
       "    .dataframe thead th {\n",
       "        text-align: right;\n",
       "    }\n",
       "</style>\n",
       "<table border=\"1\" class=\"dataframe\">\n",
       "  <thead>\n",
       "    <tr style=\"text-align: right;\">\n",
       "      <th></th>\n",
       "      <th>reviews</th>\n",
       "      <th>no_emoji</th>\n",
       "      <th>no_punc</th>\n",
       "      <th>no_digit</th>\n",
       "      <th>terms</th>\n",
       "      <th>labels</th>\n",
       "    </tr>\n",
       "  </thead>\n",
       "  <tbody>\n",
       "    <tr>\n",
       "      <th>52</th>\n",
       "      <td>Best game, specially if ur a gorl, not sexest at all</td>\n",
       "      <td>Best game, specially if ur a gorl, not sexest at all</td>\n",
       "      <td>best game specially if ur a gorl not sexest at all</td>\n",
       "      <td>best game specially if ur a gorl not sexest at all</td>\n",
       "      <td>best game specially ur a not at all</td>\n",
       "      <td>Positive</td>\n",
       "    </tr>\n",
       "    <tr>\n",
       "      <th>154</th>\n",
       "      <td>Cheater issue seems to be resolved. That's all i cared about. ty valve.</td>\n",
       "      <td>Cheater issue seems to be resolved. That's all i cared about. ty valve.</td>\n",
       "      <td>cheater issue seems to be resolved thats all i cared about ty valve</td>\n",
       "      <td>cheater issue seems to be resolved thats all i cared about ty valve</td>\n",
       "      <td>cheater issue seems be resolved all i cared about valve</td>\n",
       "      <td>Positive</td>\n",
       "    </tr>\n",
       "    <tr>\n",
       "      <th>661</th>\n",
       "      <td>valve pls update anti cheat and ban these players</td>\n",
       "      <td>valve pls update anti cheat and ban these players</td>\n",
       "      <td>valve pls update anti cheat and ban these players</td>\n",
       "      <td>valve pls update anti cheat and ban these players</td>\n",
       "      <td>valve update anti cheat ban players</td>\n",
       "      <td>Negative</td>\n",
       "    </tr>\n",
       "    <tr>\n",
       "      <th>911</th>\n",
       "      <td>this game took over my life. dont play it</td>\n",
       "      <td>this game took over my life. dont play it</td>\n",
       "      <td>this game took over my life dont play it</td>\n",
       "      <td>this game took over my life dont play it</td>\n",
       "      <td>game took over life play it</td>\n",
       "      <td>Negative</td>\n",
       "    </tr>\n",
       "    <tr>\n",
       "      <th>476</th>\n",
       "      <td>This game is dangerous for the health and safety of my friends and those around them</td>\n",
       "      <td>This game is dangerous for the health and safety of my friends and those around them</td>\n",
       "      <td>this game is dangerous for the health and safety of my friends and those around them</td>\n",
       "      <td>this game is dangerous for the health and safety of my friends and those around them</td>\n",
       "      <td>game is dangerous health safety friends around</td>\n",
       "      <td>Negative</td>\n",
       "    </tr>\n",
       "    <tr>\n",
       "      <th>813</th>\n",
       "      <td>Even though i suck ass, its pretty fun and i make money as well</td>\n",
       "      <td>Even though i suck ass, its pretty fun and i make money as well</td>\n",
       "      <td>even though i suck ass its pretty fun and i make money as well</td>\n",
       "      <td>even though i suck ass its pretty fun and i make money as well</td>\n",
       "      <td>even though i suck ass its pretty fun i make money as well</td>\n",
       "      <td>Positive</td>\n",
       "    </tr>\n",
       "    <tr>\n",
       "      <th>922</th>\n",
       "      <td>Cheaters Everywhere, don't play if you wanna have fun</td>\n",
       "      <td>Cheaters Everywhere, don't play if you wanna have fun</td>\n",
       "      <td>cheaters everywhere dont play if you wanna have fun</td>\n",
       "      <td>cheaters everywhere dont play if you wanna have fun</td>\n",
       "      <td>cheaters everywhere play have fun</td>\n",
       "      <td>Negative</td>\n",
       "    </tr>\n",
       "    <tr>\n",
       "      <th>342</th>\n",
       "      <td>dont play, my friend is a case gambler</td>\n",
       "      <td>dont play, my friend is a case gambler</td>\n",
       "      <td>dont play my friend is a case gambler</td>\n",
       "      <td>dont play my friend is a case gambler</td>\n",
       "      <td>play friend is a case gambler</td>\n",
       "      <td>Negative</td>\n",
       "    </tr>\n",
       "    <tr>\n",
       "      <th>498</th>\n",
       "      <td>im going to kill myself in game\\r\\n</td>\n",
       "      <td>im going to kill myself in game\\r\\n</td>\n",
       "      <td>im going to kill myself in gamern</td>\n",
       "      <td>im going to kill myself in gamern</td>\n",
       "      <td>going kill in</td>\n",
       "      <td>Negative</td>\n",
       "    </tr>\n",
       "    <tr>\n",
       "      <th>821</th>\n",
       "      <td>full of cheaters worst AC ever and trash matchmaking</td>\n",
       "      <td>full of cheaters worst AC ever and trash matchmaking</td>\n",
       "      <td>full of cheaters worst ac ever and trash matchmaking</td>\n",
       "      <td>full of cheaters worst ac ever and trash matchmaking</td>\n",
       "      <td>full cheaters worst ac ever trash matchmaking</td>\n",
       "      <td>Negative</td>\n",
       "    </tr>\n",
       "  </tbody>\n",
       "</table>\n",
       "</div>"
      ],
      "text/plain": [
       "                                                                                  reviews  \\\n",
       "52                                   Best game, specially if ur a gorl, not sexest at all   \n",
       "154               Cheater issue seems to be resolved. That's all i cared about. ty valve.   \n",
       "661                                     valve pls update anti cheat and ban these players   \n",
       "911                                             this game took over my life. dont play it   \n",
       "476  This game is dangerous for the health and safety of my friends and those around them   \n",
       "813                       Even though i suck ass, its pretty fun and i make money as well   \n",
       "922                                 Cheaters Everywhere, don't play if you wanna have fun   \n",
       "342                                                dont play, my friend is a case gambler   \n",
       "498                                                   im going to kill myself in game\\r\\n   \n",
       "821                                  full of cheaters worst AC ever and trash matchmaking   \n",
       "\n",
       "                                                                                 no_emoji  \\\n",
       "52                                   Best game, specially if ur a gorl, not sexest at all   \n",
       "154               Cheater issue seems to be resolved. That's all i cared about. ty valve.   \n",
       "661                                     valve pls update anti cheat and ban these players   \n",
       "911                                             this game took over my life. dont play it   \n",
       "476  This game is dangerous for the health and safety of my friends and those around them   \n",
       "813                       Even though i suck ass, its pretty fun and i make money as well   \n",
       "922                                 Cheaters Everywhere, don't play if you wanna have fun   \n",
       "342                                                dont play, my friend is a case gambler   \n",
       "498                                                   im going to kill myself in game\\r\\n   \n",
       "821                                  full of cheaters worst AC ever and trash matchmaking   \n",
       "\n",
       "                                                                                  no_punc  \\\n",
       "52                                     best game specially if ur a gorl not sexest at all   \n",
       "154                   cheater issue seems to be resolved thats all i cared about ty valve   \n",
       "661                                     valve pls update anti cheat and ban these players   \n",
       "911                                              this game took over my life dont play it   \n",
       "476  this game is dangerous for the health and safety of my friends and those around them   \n",
       "813                        even though i suck ass its pretty fun and i make money as well   \n",
       "922                                   cheaters everywhere dont play if you wanna have fun   \n",
       "342                                                 dont play my friend is a case gambler   \n",
       "498                                                     im going to kill myself in gamern   \n",
       "821                                  full of cheaters worst ac ever and trash matchmaking   \n",
       "\n",
       "                                                                                 no_digit  \\\n",
       "52                                     best game specially if ur a gorl not sexest at all   \n",
       "154                   cheater issue seems to be resolved thats all i cared about ty valve   \n",
       "661                                     valve pls update anti cheat and ban these players   \n",
       "911                                              this game took over my life dont play it   \n",
       "476  this game is dangerous for the health and safety of my friends and those around them   \n",
       "813                        even though i suck ass its pretty fun and i make money as well   \n",
       "922                                   cheaters everywhere dont play if you wanna have fun   \n",
       "342                                                 dont play my friend is a case gambler   \n",
       "498                                                     im going to kill myself in gamern   \n",
       "821                                  full of cheaters worst ac ever and trash matchmaking   \n",
       "\n",
       "                                                          terms    labels  \n",
       "52                          best game specially ur a not at all  Positive  \n",
       "154     cheater issue seems be resolved all i cared about valve  Positive  \n",
       "661                         valve update anti cheat ban players  Negative  \n",
       "911                                 game took over life play it  Negative  \n",
       "476              game is dangerous health safety friends around  Negative  \n",
       "813  even though i suck ass its pretty fun i make money as well  Positive  \n",
       "922                           cheaters everywhere play have fun  Negative  \n",
       "342                               play friend is a case gambler  Negative  \n",
       "498                                               going kill in  Negative  \n",
       "821               full cheaters worst ac ever trash matchmaking  Negative  "
      ]
     },
     "execution_count": 46,
     "metadata": {},
     "output_type": "execute_result"
    }
   ],
   "source": [
    "dataset.sample(10, random_state=45)"
   ]
  },
  {
   "cell_type": "code",
   "execution_count": 47,
   "id": "01740385-77ae-4cd7-90b9-f42ba7343402",
   "metadata": {
    "tags": []
   },
   "outputs": [
    {
     "data": {
      "text/plain": [
       "2410"
      ]
     },
     "execution_count": 47,
     "metadata": {},
     "output_type": "execute_result"
    }
   ],
   "source": [
    "uniqueWords3 = list(set(\" \".join(dataset['terms']).split(\" \")))\n",
    "count3 = len(uniqueWords3)\n",
    "count3"
   ]
  },
  {
   "cell_type": "code",
   "execution_count": 48,
   "id": "1c56da5f-359e-48fa-9023-0539e1bc24fe",
   "metadata": {
    "tags": []
   },
   "outputs": [],
   "source": [
    "from nltk.corpus import stopwords\n",
    "from nltk.stem import WordNetLemmatizer "
   ]
  },
  {
   "cell_type": "code",
   "execution_count": 49,
   "id": "bd6dbc46-7c0b-4cc3-95a9-5106a0443099",
   "metadata": {
    "tags": []
   },
   "outputs": [
    {
     "name": "stderr",
     "output_type": "stream",
     "text": [
      "[nltk_data] Downloading package stopwords to\n",
      "[nltk_data]     /Users/bagussatya/nltk_data...\n",
      "[nltk_data]   Package stopwords is already up-to-date!\n"
     ]
    },
    {
     "data": {
      "text/plain": [
       "True"
      ]
     },
     "execution_count": 49,
     "metadata": {},
     "output_type": "execute_result"
    }
   ],
   "source": [
    "nltk.download('stopwords')"
   ]
  },
  {
   "cell_type": "code",
   "execution_count": 50,
   "id": "93be1dbc-acf3-462b-8841-1c4f5777e704",
   "metadata": {
    "tags": []
   },
   "outputs": [],
   "source": [
    "stop_words = set(stopwords.words('english'))\n",
    "\n",
    "important_stopwords = {\"not\", \"don't\", \"didn't\", \"won't\", \"couldn't\", \"isn't\", \"wasn't\", \"aren't\", \"weren't\", \"wouldn't\", \"shouldn't\", \"can't\", \"cannot\", \"no\", \"never\"}\n",
    "custom_stop_words = stop_words - important_stopwords\n",
    "\n",
    "def remove_stopwords(text, custom_stop_words):\n",
    "    words = text.split()\n",
    "    filtered_words = [word for word in words if word not in custom_stop_words]\n",
    "    return ' '.join(filtered_words)"
   ]
  },
  {
   "cell_type": "code",
   "execution_count": 51,
   "id": "90491d2e-6ea3-414c-adce-bceae3b5fe8d",
   "metadata": {},
   "outputs": [],
   "source": [
    "stopw = []\n",
    "for i in range(len(dataset)):\n",
    "    clean_stopw = remove_stopwords(dataset.terms[i], custom_stop_words)\n",
    "    stopw.append(clean_stopw)\n",
    "    \n",
    "dataset.insert(5, \"stopw\", stopw, True)"
   ]
  },
  {
   "cell_type": "code",
   "execution_count": 52,
   "id": "c320e225-6ccf-4195-a34b-6c89d3ae98e2",
   "metadata": {
    "tags": []
   },
   "outputs": [
    {
     "data": {
      "text/html": [
       "<div>\n",
       "<style scoped>\n",
       "    .dataframe tbody tr th:only-of-type {\n",
       "        vertical-align: middle;\n",
       "    }\n",
       "\n",
       "    .dataframe tbody tr th {\n",
       "        vertical-align: top;\n",
       "    }\n",
       "\n",
       "    .dataframe thead th {\n",
       "        text-align: right;\n",
       "    }\n",
       "</style>\n",
       "<table border=\"1\" class=\"dataframe\">\n",
       "  <thead>\n",
       "    <tr style=\"text-align: right;\">\n",
       "      <th></th>\n",
       "      <th>reviews</th>\n",
       "      <th>no_emoji</th>\n",
       "      <th>no_punc</th>\n",
       "      <th>no_digit</th>\n",
       "      <th>terms</th>\n",
       "      <th>stopw</th>\n",
       "      <th>labels</th>\n",
       "    </tr>\n",
       "  </thead>\n",
       "  <tbody>\n",
       "    <tr>\n",
       "      <th>52</th>\n",
       "      <td>Best game, specially if ur a gorl, not sexest at all</td>\n",
       "      <td>Best game, specially if ur a gorl, not sexest at all</td>\n",
       "      <td>best game specially if ur a gorl not sexest at all</td>\n",
       "      <td>best game specially if ur a gorl not sexest at all</td>\n",
       "      <td>best game specially ur a not at all</td>\n",
       "      <td>best game specially ur not</td>\n",
       "      <td>Positive</td>\n",
       "    </tr>\n",
       "    <tr>\n",
       "      <th>154</th>\n",
       "      <td>Cheater issue seems to be resolved. That's all i cared about. ty valve.</td>\n",
       "      <td>Cheater issue seems to be resolved. That's all i cared about. ty valve.</td>\n",
       "      <td>cheater issue seems to be resolved thats all i cared about ty valve</td>\n",
       "      <td>cheater issue seems to be resolved thats all i cared about ty valve</td>\n",
       "      <td>cheater issue seems be resolved all i cared about valve</td>\n",
       "      <td>cheater issue seems resolved cared valve</td>\n",
       "      <td>Positive</td>\n",
       "    </tr>\n",
       "    <tr>\n",
       "      <th>661</th>\n",
       "      <td>valve pls update anti cheat and ban these players</td>\n",
       "      <td>valve pls update anti cheat and ban these players</td>\n",
       "      <td>valve pls update anti cheat and ban these players</td>\n",
       "      <td>valve pls update anti cheat and ban these players</td>\n",
       "      <td>valve update anti cheat ban players</td>\n",
       "      <td>valve update anti cheat ban players</td>\n",
       "      <td>Negative</td>\n",
       "    </tr>\n",
       "    <tr>\n",
       "      <th>911</th>\n",
       "      <td>this game took over my life. dont play it</td>\n",
       "      <td>this game took over my life. dont play it</td>\n",
       "      <td>this game took over my life dont play it</td>\n",
       "      <td>this game took over my life dont play it</td>\n",
       "      <td>game took over life play it</td>\n",
       "      <td>game took life play</td>\n",
       "      <td>Negative</td>\n",
       "    </tr>\n",
       "    <tr>\n",
       "      <th>476</th>\n",
       "      <td>This game is dangerous for the health and safety of my friends and those around them</td>\n",
       "      <td>This game is dangerous for the health and safety of my friends and those around them</td>\n",
       "      <td>this game is dangerous for the health and safety of my friends and those around them</td>\n",
       "      <td>this game is dangerous for the health and safety of my friends and those around them</td>\n",
       "      <td>game is dangerous health safety friends around</td>\n",
       "      <td>game dangerous health safety friends around</td>\n",
       "      <td>Negative</td>\n",
       "    </tr>\n",
       "    <tr>\n",
       "      <th>813</th>\n",
       "      <td>Even though i suck ass, its pretty fun and i make money as well</td>\n",
       "      <td>Even though i suck ass, its pretty fun and i make money as well</td>\n",
       "      <td>even though i suck ass its pretty fun and i make money as well</td>\n",
       "      <td>even though i suck ass its pretty fun and i make money as well</td>\n",
       "      <td>even though i suck ass its pretty fun i make money as well</td>\n",
       "      <td>even though suck ass pretty fun make money well</td>\n",
       "      <td>Positive</td>\n",
       "    </tr>\n",
       "    <tr>\n",
       "      <th>922</th>\n",
       "      <td>Cheaters Everywhere, don't play if you wanna have fun</td>\n",
       "      <td>Cheaters Everywhere, don't play if you wanna have fun</td>\n",
       "      <td>cheaters everywhere dont play if you wanna have fun</td>\n",
       "      <td>cheaters everywhere dont play if you wanna have fun</td>\n",
       "      <td>cheaters everywhere play have fun</td>\n",
       "      <td>cheaters everywhere play fun</td>\n",
       "      <td>Negative</td>\n",
       "    </tr>\n",
       "    <tr>\n",
       "      <th>342</th>\n",
       "      <td>dont play, my friend is a case gambler</td>\n",
       "      <td>dont play, my friend is a case gambler</td>\n",
       "      <td>dont play my friend is a case gambler</td>\n",
       "      <td>dont play my friend is a case gambler</td>\n",
       "      <td>play friend is a case gambler</td>\n",
       "      <td>play friend case gambler</td>\n",
       "      <td>Negative</td>\n",
       "    </tr>\n",
       "    <tr>\n",
       "      <th>498</th>\n",
       "      <td>im going to kill myself in game\\r\\n</td>\n",
       "      <td>im going to kill myself in game\\r\\n</td>\n",
       "      <td>im going to kill myself in gamern</td>\n",
       "      <td>im going to kill myself in gamern</td>\n",
       "      <td>going kill in</td>\n",
       "      <td>going kill</td>\n",
       "      <td>Negative</td>\n",
       "    </tr>\n",
       "    <tr>\n",
       "      <th>821</th>\n",
       "      <td>full of cheaters worst AC ever and trash matchmaking</td>\n",
       "      <td>full of cheaters worst AC ever and trash matchmaking</td>\n",
       "      <td>full of cheaters worst ac ever and trash matchmaking</td>\n",
       "      <td>full of cheaters worst ac ever and trash matchmaking</td>\n",
       "      <td>full cheaters worst ac ever trash matchmaking</td>\n",
       "      <td>full cheaters worst ac ever trash matchmaking</td>\n",
       "      <td>Negative</td>\n",
       "    </tr>\n",
       "  </tbody>\n",
       "</table>\n",
       "</div>"
      ],
      "text/plain": [
       "                                                                                  reviews  \\\n",
       "52                                   Best game, specially if ur a gorl, not sexest at all   \n",
       "154               Cheater issue seems to be resolved. That's all i cared about. ty valve.   \n",
       "661                                     valve pls update anti cheat and ban these players   \n",
       "911                                             this game took over my life. dont play it   \n",
       "476  This game is dangerous for the health and safety of my friends and those around them   \n",
       "813                       Even though i suck ass, its pretty fun and i make money as well   \n",
       "922                                 Cheaters Everywhere, don't play if you wanna have fun   \n",
       "342                                                dont play, my friend is a case gambler   \n",
       "498                                                   im going to kill myself in game\\r\\n   \n",
       "821                                  full of cheaters worst AC ever and trash matchmaking   \n",
       "\n",
       "                                                                                 no_emoji  \\\n",
       "52                                   Best game, specially if ur a gorl, not sexest at all   \n",
       "154               Cheater issue seems to be resolved. That's all i cared about. ty valve.   \n",
       "661                                     valve pls update anti cheat and ban these players   \n",
       "911                                             this game took over my life. dont play it   \n",
       "476  This game is dangerous for the health and safety of my friends and those around them   \n",
       "813                       Even though i suck ass, its pretty fun and i make money as well   \n",
       "922                                 Cheaters Everywhere, don't play if you wanna have fun   \n",
       "342                                                dont play, my friend is a case gambler   \n",
       "498                                                   im going to kill myself in game\\r\\n   \n",
       "821                                  full of cheaters worst AC ever and trash matchmaking   \n",
       "\n",
       "                                                                                  no_punc  \\\n",
       "52                                     best game specially if ur a gorl not sexest at all   \n",
       "154                   cheater issue seems to be resolved thats all i cared about ty valve   \n",
       "661                                     valve pls update anti cheat and ban these players   \n",
       "911                                              this game took over my life dont play it   \n",
       "476  this game is dangerous for the health and safety of my friends and those around them   \n",
       "813                        even though i suck ass its pretty fun and i make money as well   \n",
       "922                                   cheaters everywhere dont play if you wanna have fun   \n",
       "342                                                 dont play my friend is a case gambler   \n",
       "498                                                     im going to kill myself in gamern   \n",
       "821                                  full of cheaters worst ac ever and trash matchmaking   \n",
       "\n",
       "                                                                                 no_digit  \\\n",
       "52                                     best game specially if ur a gorl not sexest at all   \n",
       "154                   cheater issue seems to be resolved thats all i cared about ty valve   \n",
       "661                                     valve pls update anti cheat and ban these players   \n",
       "911                                              this game took over my life dont play it   \n",
       "476  this game is dangerous for the health and safety of my friends and those around them   \n",
       "813                        even though i suck ass its pretty fun and i make money as well   \n",
       "922                                   cheaters everywhere dont play if you wanna have fun   \n",
       "342                                                 dont play my friend is a case gambler   \n",
       "498                                                     im going to kill myself in gamern   \n",
       "821                                  full of cheaters worst ac ever and trash matchmaking   \n",
       "\n",
       "                                                          terms  \\\n",
       "52                          best game specially ur a not at all   \n",
       "154     cheater issue seems be resolved all i cared about valve   \n",
       "661                         valve update anti cheat ban players   \n",
       "911                                 game took over life play it   \n",
       "476              game is dangerous health safety friends around   \n",
       "813  even though i suck ass its pretty fun i make money as well   \n",
       "922                           cheaters everywhere play have fun   \n",
       "342                               play friend is a case gambler   \n",
       "498                                               going kill in   \n",
       "821               full cheaters worst ac ever trash matchmaking   \n",
       "\n",
       "                                               stopw    labels  \n",
       "52                        best game specially ur not  Positive  \n",
       "154         cheater issue seems resolved cared valve  Positive  \n",
       "661              valve update anti cheat ban players  Negative  \n",
       "911                              game took life play  Negative  \n",
       "476      game dangerous health safety friends around  Negative  \n",
       "813  even though suck ass pretty fun make money well  Positive  \n",
       "922                     cheaters everywhere play fun  Negative  \n",
       "342                         play friend case gambler  Negative  \n",
       "498                                       going kill  Negative  \n",
       "821    full cheaters worst ac ever trash matchmaking  Negative  "
      ]
     },
     "execution_count": 52,
     "metadata": {},
     "output_type": "execute_result"
    }
   ],
   "source": [
    "dataset.sample(10, random_state=45)"
   ]
  },
  {
   "cell_type": "code",
   "execution_count": 53,
   "id": "36c1bb47-4ebb-41cb-8ce1-2991a0750512",
   "metadata": {
    "tags": []
   },
   "outputs": [],
   "source": [
    "from nltk.tokenize import sent_tokenize, word_tokenize "
   ]
  },
  {
   "cell_type": "code",
   "execution_count": 54,
   "id": "e5ba669d-a1f9-4669-83a3-b57c0ddfc97f",
   "metadata": {
    "scrolled": true,
    "tags": []
   },
   "outputs": [
    {
     "data": {
      "text/plain": [
       "2334"
      ]
     },
     "execution_count": 54,
     "metadata": {},
     "output_type": "execute_result"
    }
   ],
   "source": [
    "uniqueWord4 = list(set(\" \".join(dataset['stopw']).split(\" \")))\n",
    "count4 = len(uniqueWord4)\n",
    "count4"
   ]
  },
  {
   "cell_type": "code",
   "execution_count": 55,
   "id": "1dd521fa-4d78-4ab8-bcf3-e07112954cd7",
   "metadata": {
    "tags": []
   },
   "outputs": [],
   "source": [
    "import spacy"
   ]
  },
  {
   "cell_type": "code",
   "execution_count": 56,
   "id": "23afe410-dfb0-4b75-a3b5-8e9d8a6302c0",
   "metadata": {
    "tags": []
   },
   "outputs": [],
   "source": [
    "nlp = spacy.load(\"en_core_web_sm\")\n",
    "\n",
    "def lemmatize_text_spacy(text):\n",
    "    doc = nlp(text)\n",
    "    lemmatized_text = ' '.join([token.lemma_ for token in doc])\n",
    "    return lemmatized_text"
   ]
  },
  {
   "cell_type": "code",
   "execution_count": 57,
   "id": "4aef8ea7-5799-49db-af46-8ae72580ef31",
   "metadata": {
    "tags": []
   },
   "outputs": [],
   "source": [
    "lemmas = []\n",
    "for i in range(len(dataset)):\n",
    "    lemma = lemmatize_text_spacy(dataset.stopw[i])\n",
    "    lemmas.append(lemma)\n",
    "    \n",
    "dataset.insert(6, \"lemma\", lemmas, True)"
   ]
  },
  {
   "cell_type": "code",
   "execution_count": 58,
   "id": "72348970-8af5-495f-b63f-1845b3ed4b69",
   "metadata": {
    "tags": []
   },
   "outputs": [
    {
     "data": {
      "text/html": [
       "<div>\n",
       "<style scoped>\n",
       "    .dataframe tbody tr th:only-of-type {\n",
       "        vertical-align: middle;\n",
       "    }\n",
       "\n",
       "    .dataframe tbody tr th {\n",
       "        vertical-align: top;\n",
       "    }\n",
       "\n",
       "    .dataframe thead th {\n",
       "        text-align: right;\n",
       "    }\n",
       "</style>\n",
       "<table border=\"1\" class=\"dataframe\">\n",
       "  <thead>\n",
       "    <tr style=\"text-align: right;\">\n",
       "      <th></th>\n",
       "      <th>reviews</th>\n",
       "      <th>no_emoji</th>\n",
       "      <th>no_punc</th>\n",
       "      <th>no_digit</th>\n",
       "      <th>terms</th>\n",
       "      <th>stopw</th>\n",
       "      <th>lemma</th>\n",
       "      <th>labels</th>\n",
       "    </tr>\n",
       "  </thead>\n",
       "  <tbody>\n",
       "    <tr>\n",
       "      <th>52</th>\n",
       "      <td>Best game, specially if ur a gorl, not sexest at all</td>\n",
       "      <td>Best game, specially if ur a gorl, not sexest at all</td>\n",
       "      <td>best game specially if ur a gorl not sexest at all</td>\n",
       "      <td>best game specially if ur a gorl not sexest at all</td>\n",
       "      <td>best game specially ur a not at all</td>\n",
       "      <td>best game specially ur not</td>\n",
       "      <td>good game specially ur not</td>\n",
       "      <td>Positive</td>\n",
       "    </tr>\n",
       "    <tr>\n",
       "      <th>154</th>\n",
       "      <td>Cheater issue seems to be resolved. That's all i cared about. ty valve.</td>\n",
       "      <td>Cheater issue seems to be resolved. That's all i cared about. ty valve.</td>\n",
       "      <td>cheater issue seems to be resolved thats all i cared about ty valve</td>\n",
       "      <td>cheater issue seems to be resolved thats all i cared about ty valve</td>\n",
       "      <td>cheater issue seems be resolved all i cared about valve</td>\n",
       "      <td>cheater issue seems resolved cared valve</td>\n",
       "      <td>cheater issue seem resolve care valve</td>\n",
       "      <td>Positive</td>\n",
       "    </tr>\n",
       "    <tr>\n",
       "      <th>661</th>\n",
       "      <td>valve pls update anti cheat and ban these players</td>\n",
       "      <td>valve pls update anti cheat and ban these players</td>\n",
       "      <td>valve pls update anti cheat and ban these players</td>\n",
       "      <td>valve pls update anti cheat and ban these players</td>\n",
       "      <td>valve update anti cheat ban players</td>\n",
       "      <td>valve update anti cheat ban players</td>\n",
       "      <td>valve update anti cheat ban player</td>\n",
       "      <td>Negative</td>\n",
       "    </tr>\n",
       "    <tr>\n",
       "      <th>911</th>\n",
       "      <td>this game took over my life. dont play it</td>\n",
       "      <td>this game took over my life. dont play it</td>\n",
       "      <td>this game took over my life dont play it</td>\n",
       "      <td>this game took over my life dont play it</td>\n",
       "      <td>game took over life play it</td>\n",
       "      <td>game took life play</td>\n",
       "      <td>game take life play</td>\n",
       "      <td>Negative</td>\n",
       "    </tr>\n",
       "    <tr>\n",
       "      <th>476</th>\n",
       "      <td>This game is dangerous for the health and safety of my friends and those around them</td>\n",
       "      <td>This game is dangerous for the health and safety of my friends and those around them</td>\n",
       "      <td>this game is dangerous for the health and safety of my friends and those around them</td>\n",
       "      <td>this game is dangerous for the health and safety of my friends and those around them</td>\n",
       "      <td>game is dangerous health safety friends around</td>\n",
       "      <td>game dangerous health safety friends around</td>\n",
       "      <td>game dangerous health safety friend around</td>\n",
       "      <td>Negative</td>\n",
       "    </tr>\n",
       "    <tr>\n",
       "      <th>813</th>\n",
       "      <td>Even though i suck ass, its pretty fun and i make money as well</td>\n",
       "      <td>Even though i suck ass, its pretty fun and i make money as well</td>\n",
       "      <td>even though i suck ass its pretty fun and i make money as well</td>\n",
       "      <td>even though i suck ass its pretty fun and i make money as well</td>\n",
       "      <td>even though i suck ass its pretty fun i make money as well</td>\n",
       "      <td>even though suck ass pretty fun make money well</td>\n",
       "      <td>even though suck ass pretty fun make money well</td>\n",
       "      <td>Positive</td>\n",
       "    </tr>\n",
       "    <tr>\n",
       "      <th>922</th>\n",
       "      <td>Cheaters Everywhere, don't play if you wanna have fun</td>\n",
       "      <td>Cheaters Everywhere, don't play if you wanna have fun</td>\n",
       "      <td>cheaters everywhere dont play if you wanna have fun</td>\n",
       "      <td>cheaters everywhere dont play if you wanna have fun</td>\n",
       "      <td>cheaters everywhere play have fun</td>\n",
       "      <td>cheaters everywhere play fun</td>\n",
       "      <td>cheater everywhere play fun</td>\n",
       "      <td>Negative</td>\n",
       "    </tr>\n",
       "    <tr>\n",
       "      <th>342</th>\n",
       "      <td>dont play, my friend is a case gambler</td>\n",
       "      <td>dont play, my friend is a case gambler</td>\n",
       "      <td>dont play my friend is a case gambler</td>\n",
       "      <td>dont play my friend is a case gambler</td>\n",
       "      <td>play friend is a case gambler</td>\n",
       "      <td>play friend case gambler</td>\n",
       "      <td>play friend case gambler</td>\n",
       "      <td>Negative</td>\n",
       "    </tr>\n",
       "    <tr>\n",
       "      <th>498</th>\n",
       "      <td>im going to kill myself in game\\r\\n</td>\n",
       "      <td>im going to kill myself in game\\r\\n</td>\n",
       "      <td>im going to kill myself in gamern</td>\n",
       "      <td>im going to kill myself in gamern</td>\n",
       "      <td>going kill in</td>\n",
       "      <td>going kill</td>\n",
       "      <td>go kill</td>\n",
       "      <td>Negative</td>\n",
       "    </tr>\n",
       "    <tr>\n",
       "      <th>821</th>\n",
       "      <td>full of cheaters worst AC ever and trash matchmaking</td>\n",
       "      <td>full of cheaters worst AC ever and trash matchmaking</td>\n",
       "      <td>full of cheaters worst ac ever and trash matchmaking</td>\n",
       "      <td>full of cheaters worst ac ever and trash matchmaking</td>\n",
       "      <td>full cheaters worst ac ever trash matchmaking</td>\n",
       "      <td>full cheaters worst ac ever trash matchmaking</td>\n",
       "      <td>full cheater bad ac ever trash matchmaking</td>\n",
       "      <td>Negative</td>\n",
       "    </tr>\n",
       "  </tbody>\n",
       "</table>\n",
       "</div>"
      ],
      "text/plain": [
       "                                                                                  reviews  \\\n",
       "52                                   Best game, specially if ur a gorl, not sexest at all   \n",
       "154               Cheater issue seems to be resolved. That's all i cared about. ty valve.   \n",
       "661                                     valve pls update anti cheat and ban these players   \n",
       "911                                             this game took over my life. dont play it   \n",
       "476  This game is dangerous for the health and safety of my friends and those around them   \n",
       "813                       Even though i suck ass, its pretty fun and i make money as well   \n",
       "922                                 Cheaters Everywhere, don't play if you wanna have fun   \n",
       "342                                                dont play, my friend is a case gambler   \n",
       "498                                                   im going to kill myself in game\\r\\n   \n",
       "821                                  full of cheaters worst AC ever and trash matchmaking   \n",
       "\n",
       "                                                                                 no_emoji  \\\n",
       "52                                   Best game, specially if ur a gorl, not sexest at all   \n",
       "154               Cheater issue seems to be resolved. That's all i cared about. ty valve.   \n",
       "661                                     valve pls update anti cheat and ban these players   \n",
       "911                                             this game took over my life. dont play it   \n",
       "476  This game is dangerous for the health and safety of my friends and those around them   \n",
       "813                       Even though i suck ass, its pretty fun and i make money as well   \n",
       "922                                 Cheaters Everywhere, don't play if you wanna have fun   \n",
       "342                                                dont play, my friend is a case gambler   \n",
       "498                                                   im going to kill myself in game\\r\\n   \n",
       "821                                  full of cheaters worst AC ever and trash matchmaking   \n",
       "\n",
       "                                                                                  no_punc  \\\n",
       "52                                     best game specially if ur a gorl not sexest at all   \n",
       "154                   cheater issue seems to be resolved thats all i cared about ty valve   \n",
       "661                                     valve pls update anti cheat and ban these players   \n",
       "911                                              this game took over my life dont play it   \n",
       "476  this game is dangerous for the health and safety of my friends and those around them   \n",
       "813                        even though i suck ass its pretty fun and i make money as well   \n",
       "922                                   cheaters everywhere dont play if you wanna have fun   \n",
       "342                                                 dont play my friend is a case gambler   \n",
       "498                                                     im going to kill myself in gamern   \n",
       "821                                  full of cheaters worst ac ever and trash matchmaking   \n",
       "\n",
       "                                                                                 no_digit  \\\n",
       "52                                     best game specially if ur a gorl not sexest at all   \n",
       "154                   cheater issue seems to be resolved thats all i cared about ty valve   \n",
       "661                                     valve pls update anti cheat and ban these players   \n",
       "911                                              this game took over my life dont play it   \n",
       "476  this game is dangerous for the health and safety of my friends and those around them   \n",
       "813                        even though i suck ass its pretty fun and i make money as well   \n",
       "922                                   cheaters everywhere dont play if you wanna have fun   \n",
       "342                                                 dont play my friend is a case gambler   \n",
       "498                                                     im going to kill myself in gamern   \n",
       "821                                  full of cheaters worst ac ever and trash matchmaking   \n",
       "\n",
       "                                                          terms  \\\n",
       "52                          best game specially ur a not at all   \n",
       "154     cheater issue seems be resolved all i cared about valve   \n",
       "661                         valve update anti cheat ban players   \n",
       "911                                 game took over life play it   \n",
       "476              game is dangerous health safety friends around   \n",
       "813  even though i suck ass its pretty fun i make money as well   \n",
       "922                           cheaters everywhere play have fun   \n",
       "342                               play friend is a case gambler   \n",
       "498                                               going kill in   \n",
       "821               full cheaters worst ac ever trash matchmaking   \n",
       "\n",
       "                                               stopw  \\\n",
       "52                        best game specially ur not   \n",
       "154         cheater issue seems resolved cared valve   \n",
       "661              valve update anti cheat ban players   \n",
       "911                              game took life play   \n",
       "476      game dangerous health safety friends around   \n",
       "813  even though suck ass pretty fun make money well   \n",
       "922                     cheaters everywhere play fun   \n",
       "342                         play friend case gambler   \n",
       "498                                       going kill   \n",
       "821    full cheaters worst ac ever trash matchmaking   \n",
       "\n",
       "                                               lemma    labels  \n",
       "52                        good game specially ur not  Positive  \n",
       "154            cheater issue seem resolve care valve  Positive  \n",
       "661               valve update anti cheat ban player  Negative  \n",
       "911                              game take life play  Negative  \n",
       "476       game dangerous health safety friend around  Negative  \n",
       "813  even though suck ass pretty fun make money well  Positive  \n",
       "922                      cheater everywhere play fun  Negative  \n",
       "342                         play friend case gambler  Negative  \n",
       "498                                          go kill  Negative  \n",
       "821       full cheater bad ac ever trash matchmaking  Negative  "
      ]
     },
     "execution_count": 58,
     "metadata": {},
     "output_type": "execute_result"
    }
   ],
   "source": [
    "dataset.sample(10, random_state=45)"
   ]
  },
  {
   "cell_type": "code",
   "execution_count": 59,
   "id": "7b9a1e72-39c1-42cd-ad99-03c74a58576f",
   "metadata": {
    "tags": []
   },
   "outputs": [
    {
     "data": {
      "text/plain": [
       "1927"
      ]
     },
     "execution_count": 59,
     "metadata": {},
     "output_type": "execute_result"
    }
   ],
   "source": [
    "uniqueWords5 = list(set(\" \".join(dataset['lemma']).split(\" \")))\n",
    "count5 = len(uniqueWords5)\n",
    "count5"
   ]
  },
  {
   "cell_type": "code",
   "execution_count": 82,
   "id": "6e8e53c5-e4a9-44d7-9fbc-16fa9ecd385d",
   "metadata": {
    "tags": []
   },
   "outputs": [],
   "source": [
    "from sklearn.feature_extraction.text import CountVectorizer, TfidfVectorizer\n",
    "from sklearn.model_selection import train_test_split"
   ]
  },
  {
   "cell_type": "code",
   "execution_count": 84,
   "id": "bd4f94c6-1d08-4444-bfeb-4c4d0e3cbe68",
   "metadata": {
    "tags": []
   },
   "outputs": [
    {
     "data": {
      "text/html": [
       "<div>\n",
       "<style scoped>\n",
       "    .dataframe tbody tr th:only-of-type {\n",
       "        vertical-align: middle;\n",
       "    }\n",
       "\n",
       "    .dataframe tbody tr th {\n",
       "        vertical-align: top;\n",
       "    }\n",
       "\n",
       "    .dataframe thead th {\n",
       "        text-align: right;\n",
       "    }\n",
       "</style>\n",
       "<table border=\"1\" class=\"dataframe\">\n",
       "  <thead>\n",
       "    <tr style=\"text-align: right;\">\n",
       "      <th></th>\n",
       "      <th>lemma</th>\n",
       "    </tr>\n",
       "  </thead>\n",
       "  <tbody>\n",
       "    <tr>\n",
       "      <th>0</th>\n",
       "      <td>terrible game server always cheater pool hall</td>\n",
       "    </tr>\n",
       "    <tr>\n",
       "      <th>1</th>\n",
       "      <td>love cs play twenty year thing wish happen troll toxic people cheater heavily regulate</td>\n",
       "    </tr>\n",
       "    <tr>\n",
       "      <th>2</th>\n",
       "      <td>one nostalgic game time</td>\n",
       "    </tr>\n",
       "    <tr>\n",
       "      <th>3</th>\n",
       "      <td>good game headshot pew pew</td>\n",
       "    </tr>\n",
       "    <tr>\n",
       "      <th>4</th>\n",
       "      <td>good game love</td>\n",
       "    </tr>\n",
       "  </tbody>\n",
       "</table>\n",
       "</div>"
      ],
      "text/plain": [
       "                                                                                    lemma\n",
       "0                                           terrible game server always cheater pool hall\n",
       "1  love cs play twenty year thing wish happen troll toxic people cheater heavily regulate\n",
       "2                                                                 one nostalgic game time\n",
       "3                                                              good game headshot pew pew\n",
       "4                                                                          good game love"
      ]
     },
     "execution_count": 84,
     "metadata": {},
     "output_type": "execute_result"
    }
   ],
   "source": [
    "dataset[[\"lemma\"]].head()"
   ]
  },
  {
   "cell_type": "code",
   "execution_count": 86,
   "id": "4789c365-c623-4b88-a23c-b199eafe8195",
   "metadata": {
    "tags": []
   },
   "outputs": [
    {
     "data": {
      "text/plain": [
       "array(['Negative', 'Positive'], dtype=object)"
      ]
     },
     "execution_count": 86,
     "metadata": {},
     "output_type": "execute_result"
    }
   ],
   "source": [
    "dataset.labels.unique()"
   ]
  },
  {
   "cell_type": "code",
   "execution_count": 88,
   "id": "5f9c5212-51da-4cbc-8b2c-3b82fc2e6c0f",
   "metadata": {
    "tags": []
   },
   "outputs": [],
   "source": [
    "from sklearn import preprocessing"
   ]
  },
  {
   "cell_type": "code",
   "execution_count": 90,
   "id": "00784209-5e86-4199-9089-42a2b398fb37",
   "metadata": {
    "tags": []
   },
   "outputs": [],
   "source": [
    "label_encoder = preprocessing.LabelEncoder()"
   ]
  },
  {
   "cell_type": "code",
   "execution_count": 92,
   "id": "89c8fb35-7266-426d-825e-502dcd1fd1c8",
   "metadata": {
    "tags": []
   },
   "outputs": [
    {
     "data": {
      "text/plain": [
       "array([0, 1])"
      ]
     },
     "execution_count": 92,
     "metadata": {},
     "output_type": "execute_result"
    }
   ],
   "source": [
    "dataset['labels']= label_encoder.fit_transform(dataset['labels']) \n",
    "  \n",
    "dataset['labels'].unique() "
   ]
  },
  {
   "cell_type": "code",
   "execution_count": 94,
   "id": "d134e8fd-ed02-4c0c-bb81-08b453149297",
   "metadata": {},
   "outputs": [],
   "source": [
    "# Creating object of TF-IDF vectorizer\n",
    "\n",
    "vectorizer = TfidfVectorizer(use_idf=True, lowercase=True)\n",
    "X_tf_idf= vectorizer.fit_transform(dataset.lemma)\n",
    "x_train, x_test, y_train, y_test = train_test_split(X_tf_idf, dataset.labels, random_state=42)"
   ]
  },
  {
   "cell_type": "code",
   "execution_count": 130,
   "id": "15744bb0-687f-403e-ae80-ec3564c175da",
   "metadata": {
    "tags": []
   },
   "outputs": [],
   "source": [
    "from sklearn import model_selection, svm\n",
    "from sklearn.model_selection import train_test_split, StratifiedKFold, cross_val_score\n",
    "from sklearn.metrics import classification_report,confusion_matrix\n",
    "from sklearn.metrics import roc_auc_score\n",
    "from sklearn.metrics import recall_score\n",
    "from sklearn.metrics import f1_score\n",
    "from sklearn.metrics import confusion_matrix, accuracy_score\n",
    "from sklearn.model_selection import GridSearchCV\n",
    "from sklearn.metrics import precision_recall_curve\n",
    "from sklearn.metrics import f1_score\n",
    "from sklearn.metrics import auc\n",
    "from sklearn.metrics import roc_curve\n",
    "from sklearn.metrics import roc_auc_score, accuracy_score"
   ]
  },
  {
   "cell_type": "code",
   "execution_count": 108,
   "id": "c2731897-4ed1-415f-9c0f-92c3194ffebd",
   "metadata": {
    "tags": []
   },
   "outputs": [],
   "source": [
    "import matplotlib.pyplot as plt"
   ]
  },
  {
   "cell_type": "code",
   "execution_count": 110,
   "id": "b078f8b0-6d94-4914-859f-f2f6102a7890",
   "metadata": {
    "tags": []
   },
   "outputs": [],
   "source": [
    "def check_scores(clf,X_train, X_test, y_train, y_test):\n",
    "\n",
    "  model=clf.fit(X_train, y_train)\n",
    "  predicted_class=model.predict(X_test)\n",
    "  predicted_class_train=model.predict(X_train)\n",
    "  test_probs = model.predict_proba(X_test)\n",
    "  test_probs = test_probs[:, 1]\n",
    "  yhat = model.predict(X_test)\n",
    "  lr_precision, lr_recall, _ = precision_recall_curve(y_test, test_probs)\n",
    "  lr_f1, lr_auc = f1_score(y_test, yhat), auc(lr_recall, lr_precision)\n",
    "\n",
    "\n",
    "  print('Train confusion matrix is: ',)\n",
    "  print(confusion_matrix(y_train, predicted_class_train))\n",
    "\n",
    "  print()\n",
    "  print('Test confusion matrix is: ')\n",
    "  print(confusion_matrix(y_test, predicted_class))\n",
    "  print()\n",
    "  print(classification_report(y_test,predicted_class)) \n",
    "  print() \n",
    "  train_accuracy = accuracy_score(y_train,predicted_class_train)\n",
    "  test_accuracy = accuracy_score(y_test,predicted_class)\n",
    "\n",
    "  print(\"Train accuracy score: \", train_accuracy)\n",
    "  print(\"Test accuracy score: \",test_accuracy )\n",
    "  print()\n",
    "  train_auc = roc_auc_score(y_train, clf.predict_proba(X_train)[:,1])\n",
    "  test_auc = roc_auc_score(y_test, clf.predict_proba(X_test)[:,1])\n",
    "\n",
    "  print(\"Train ROC-AUC score: \", train_auc)\n",
    "  print(\"Test ROC-AUC score: \", test_auc)\n",
    "  fig, (ax1, ax2) = plt.subplots(1, 2)\n",
    "\n",
    "  ax1.plot(lr_recall, lr_precision)\n",
    "  ax1.set(xlabel=\"Recall\", ylabel=\"Precision\")\n",
    "\n",
    "  plt.subplots_adjust(left=0.5,\n",
    "                    bottom=0.1, \n",
    "                    right=1.5, \n",
    "                    top=0.9, \n",
    "                    wspace=0.4, \n",
    "                    hspace=0.4)\n",
    "  print()\n",
    "  print('Are under Precision-Recall curve:', lr_f1)\n",
    "  \n",
    "  fpr, tpr, _ = roc_curve(y_test, test_probs)\n",
    "\n",
    "\n",
    "  ax2.plot(fpr, tpr)\n",
    "  ax2.set(xlabel='False Positive Rate', ylabel='True Positive Rate')\n",
    "\n",
    "  print(\"Area under ROC-AUC:\", lr_auc)\n",
    "  return train_accuracy, test_accuracy, train_auc, test_auc"
   ]
  },
  {
   "cell_type": "code",
   "execution_count": 112,
   "id": "10447e27-5af9-4590-af4a-f19ff364a18f",
   "metadata": {
    "tags": []
   },
   "outputs": [
    {
     "name": "stdout",
     "output_type": "stream",
     "text": [
      "Train confusion matrix is: \n",
      "[[368   4]\n",
      " [  2 378]]\n",
      "\n",
      "Test confusion matrix is: \n",
      "[[113  16]\n",
      " [ 32  90]]\n",
      "\n",
      "              precision    recall  f1-score   support\n",
      "\n",
      "           0       0.78      0.88      0.82       129\n",
      "           1       0.85      0.74      0.79       122\n",
      "\n",
      "    accuracy                           0.81       251\n",
      "   macro avg       0.81      0.81      0.81       251\n",
      "weighted avg       0.81      0.81      0.81       251\n",
      "\n",
      "\n",
      "Train accuracy score:  0.9920212765957447\n",
      "Test accuracy score:  0.8087649402390438\n",
      "\n",
      "Train ROC-AUC score:  0.9995967741935484\n",
      "Test ROC-AUC score:  0.894395730080061\n",
      "\n",
      "Are under Precision-Recall curve: 0.7894736842105263\n",
      "Area under ROC-AUC: 0.8828371816553242\n"
     ]
    },
    {
     "data": {
      "image/png": "[encoded data removed]",
      "text/plain": [
       "<Figure size 640x480 with 2 Axes>"
      ]
     },
     "metadata": {},
     "output_type": "display_data"
    }
   ],
   "source": [
    "SVM = svm.SVC(probability=True)\n",
    "s_train_accuracy, s_test_accuracy, s_train_auc, s_test_auc = check_scores(SVM,x_train, x_test, y_train, y_test)"
   ]
  },
  {
   "cell_type": "code",
   "execution_count": 113,
   "id": "324b05f5-ea07-4416-a5c3-ef726974eef8",
   "metadata": {
    "tags": []
   },
   "outputs": [],
   "source": [
    "from sklearn.ensemble import RandomForestClassifier"
   ]
  },
  {
   "cell_type": "code",
   "execution_count": 114,
   "id": "6c268052-ab1b-4533-be6b-3f4a6257e9b5",
   "metadata": {
    "tags": []
   },
   "outputs": [],
   "source": [
    "forest = RandomForestClassifier(random_state=10)"
   ]
  },
  {
   "cell_type": "code",
   "execution_count": 116,
   "id": "07822a49-c397-441a-8653-2f55dcb9f569",
   "metadata": {
    "tags": []
   },
   "outputs": [
    {
     "name": "stdout",
     "output_type": "stream",
     "text": [
      "Train confusion matrix is: \n",
      "[[372   0]\n",
      " [  0 380]]\n",
      "\n",
      "Test confusion matrix is: \n",
      "[[109  20]\n",
      " [ 25  97]]\n",
      "\n",
      "              precision    recall  f1-score   support\n",
      "\n",
      "           0       0.81      0.84      0.83       129\n",
      "           1       0.83      0.80      0.81       122\n",
      "\n",
      "    accuracy                           0.82       251\n",
      "   macro avg       0.82      0.82      0.82       251\n",
      "weighted avg       0.82      0.82      0.82       251\n",
      "\n",
      "\n",
      "Train accuracy score:  1.0\n",
      "Test accuracy score:  0.8207171314741036\n",
      "\n",
      "Train ROC-AUC score:  1.0\n",
      "Test ROC-AUC score:  0.8978904562206126\n",
      "\n",
      "Are under Precision-Recall curve: 0.8117154811715481\n",
      "Area under ROC-AUC: 0.880778393723216\n"
     ]
    },
    {
     "data": {
      "image/png": "[encoded data removed]",
      "text/plain": [
       "<Figure size 640x480 with 2 Axes>"
      ]
     },
     "metadata": {},
     "output_type": "display_data"
    }
   ],
   "source": [
    "f_train_accuracy, f_test_accuracy, f_train_auc, f_test_auc = check_scores(forest,x_train, x_test, y_train, y_test)"
   ]
  },
  {
   "cell_type": "code",
   "execution_count": 117,
   "id": "53689926-ca36-441f-912c-7225acc85143",
   "metadata": {
    "tags": []
   },
   "outputs": [],
   "source": [
    "model  = SVM.fit(x_train, y_train)\n",
    "modelf = forest.fit(x_train, y_train)"
   ]
  },
  {
   "cell_type": "code",
   "execution_count": 118,
   "id": "49338048-4135-4643-8731-656116ace3ea",
   "metadata": {
    "tags": []
   },
   "outputs": [
    {
     "name": "stdin",
     "output_type": "stream",
     "text": [
      "input a review to predict the sentiment:  sometimes that shit hurt\n"
     ]
    },
    {
     "name": "stdout",
     "output_type": "stream",
     "text": [
      "sometimes shit hurt\n"
     ]
    }
   ],
   "source": [
    "var = input(\"input a review to predict the sentiment: \")\n",
    "var = remove_emojis(var)\n",
    "var = remove_custom_punctuation(var)\n",
    "var = convert_digits_to_words(var)\n",
    "var = filter_valid_words(var, cs2_terms)\n",
    "var = ' '.join(var)\n",
    "var = remove_stopwords(var, custom_stop_words)\n",
    "var = lemmatize_text_spacy(var)\n",
    "print(var)"
   ]
  },
  {
   "cell_type": "code",
   "execution_count": 119,
   "id": "74d742ed-5f4f-481f-b8f8-8bfacd22ca64",
   "metadata": {
    "tags": []
   },
   "outputs": [
    {
     "name": "stdout",
     "output_type": "stream",
     "text": [
      "  (0, 1481)\t0.6516627679878904\n",
      "  (0, 1547)\t0.758508824482854\n"
     ]
    }
   ],
   "source": [
    "tes= vectorizer.transform([var])\n",
    "print(tes)"
   ]
  },
  {
   "cell_type": "code",
   "execution_count": 120,
   "id": "70c85a94-753e-4c4b-a03a-5b822929f768",
   "metadata": {
    "tags": []
   },
   "outputs": [
    {
     "name": "stdout",
     "output_type": "stream",
     "text": [
      "SVM Negative\n",
      "Forest Negative\n"
     ]
    }
   ],
   "source": [
    "res_svm    = model.predict(tes[0])\n",
    "res_forest = modelf.predict(tes[0])\n",
    "\n",
    "if res_svm == 0:\n",
    "    print(\"SVM Negative\")\n",
    "else:\n",
    "    print(\"SVM Positive\")\n",
    "    \n",
    "if res_forest == 0:\n",
    "    print(\"Forest Negative\")\n",
    "else:\n",
    "    print(\"Forest Positive\")"
   ]
  },
  {
   "cell_type": "code",
   "execution_count": 121,
   "id": "37525bfc-c7c9-42d1-a068-d011d11b0ef0",
   "metadata": {
    "tags": []
   },
   "outputs": [
    {
     "name": "stdout",
     "output_type": "stream",
     "text": [
      "prob svm:[[0.98231552 0.01768448]]\n",
      "prob forest:[[0.93 0.07]]\n"
     ]
    }
   ],
   "source": [
    "res_prob_svm = model.predict_proba(tes[0])\n",
    "res_prob_forest = modelf.predict_proba(tes[0])\n",
    "print(f\"prob svm:{res_prob_svm}\")\n",
    "print(f\"prob forest:{res_prob_forest}\")"
   ]
  }
 ],
 "metadata": {
  "kernelspec": {
   "display_name": "bigdata",
   "language": "python",
   "name": "bigdata"
  },
  "language_info": {
   "codemirror_mode": {
    "name": "ipython",
    "version": 3
   },
   "file_extension": ".py",
   "mimetype": "text/x-python",
   "name": "python",
   "nbconvert_exporter": "python",
   "pygments_lexer": "ipython3",
   "version": "3.12.3"
  }
 },
 "nbformat": 4,
 "nbformat_minor": 5
}
