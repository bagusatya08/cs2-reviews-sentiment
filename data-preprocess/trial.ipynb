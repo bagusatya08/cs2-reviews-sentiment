{
 "cells": [
  {
   "cell_type": "code",
   "execution_count": 1,
   "id": "be79f306-19c7-4295-8f72-0dd5ef633e9b",
   "metadata": {
    "tags": []
   },
   "outputs": [],
   "source": [
    "import json\n",
    "import numpy as np\n",
    "import pandas as pd"
   ]
  },
  {
   "cell_type": "code",
   "execution_count": 2,
   "id": "0215568b-ca8a-4043-b923-c035feba0a1b",
   "metadata": {
    "tags": []
   },
   "outputs": [],
   "source": [
    "data = json.load(open(\"labeled.json\"))"
   ]
  },
  {
   "cell_type": "markdown",
   "id": "07117d27-4427-40d0-a3aa-02161e4b58ac",
   "metadata": {
    "tags": []
   },
   "source": [
    "## json structure"
   ]
  },
  {
   "cell_type": "code",
   "execution_count": 3,
   "id": "1f802fc5-e6b9-4cc6-8ff2-367c57137499",
   "metadata": {
    "tags": []
   },
   "outputs": [
    {
     "data": {
      "text/plain": [
       "{'_id': '6655d3d577b7d3f1f5527c38',\n",
       " 'recommendationid': 166210298,\n",
       " 'author.steamid': 76561199567325072,\n",
       " 'author.num_games_owned': 0,\n",
       " 'author.num_reviews': 2,\n",
       " 'author.playtime_forever': 4911,\n",
       " 'author.playtime_last_two_weeks': 0,\n",
       " 'author.playtime_at_review': 4911,\n",
       " 'author.last_played': '2024-04-17T08:07:22.000Z',\n",
       " 'language': 'english',\n",
       " 'review': \"10/10 game , i have more than 3000 hours on my other account, sadly this game was ruined by hackers, started to think valve doesn't want to develop there anticheats because hackers are the most people spending money in this game, because each hacker has like 10 accounts and i bet you if you go to premier rating 90% if not 99% are hackers on that list. \\\\nif you want to enjoy this game now days you have to get yourself a hack or don't play it.\\\\n\",\n",
       " 'timestamp_created': '2024-05-28T10:30:27.000Z',\n",
       " 'timestamp_updated': '2024-05-28T10:30:27.000Z',\n",
       " 'voted_up': False,\n",
       " 'votes_up': 0,\n",
       " 'votes_funny': 0,\n",
       " 'weighted_vote_score': 0.0,\n",
       " 'comment_count': 0,\n",
       " 'steam_purchase': True,\n",
       " 'received_for_free': False,\n",
       " 'written_during_early_access': False,\n",
       " 'hidden_in_steam_china': True,\n",
       " 'steam_china_location': ''}"
      ]
     },
     "execution_count": 3,
     "metadata": {},
     "output_type": "execute_result"
    }
   ],
   "source": [
    "# with no annotation of sentiment\n",
    "data[0][\"data\"]"
   ]
  },
  {
   "cell_type": "code",
   "execution_count": 4,
   "id": "33928959-a16b-4f4a-abde-457568882aca",
   "metadata": {
    "tags": []
   },
   "outputs": [
    {
     "data": {
      "text/plain": [
       "{'_id': '6655d3d577b7d3f1f5527c40',\n",
       " 'recommendationid': 166207499,\n",
       " 'author.steamid': 76561197960586400,\n",
       " 'author.num_games_owned': 0,\n",
       " 'author.num_reviews': 2,\n",
       " 'author.playtime_forever': 93471,\n",
       " 'author.playtime_last_two_weeks': 1402,\n",
       " 'author.playtime_at_review': 93404,\n",
       " 'author.last_played': '2024-05-28T10:05:38.000Z',\n",
       " 'language': 'english',\n",
       " 'review': 'Love CS, been playing it for 20 years now. The only thing I wish happened was that trolls, toxic people, cheaters and smurfs were more heavily regulated.',\n",
       " 'timestamp_created': '2024-05-28T08:59:29.000Z',\n",
       " 'timestamp_updated': '2024-05-28T08:59:29.000Z',\n",
       " 'voted_up': True,\n",
       " 'votes_up': 0,\n",
       " 'votes_funny': 0,\n",
       " 'weighted_vote_score': 0.0,\n",
       " 'comment_count': 0,\n",
       " 'steam_purchase': True,\n",
       " 'received_for_free': False,\n",
       " 'written_during_early_access': False,\n",
       " 'hidden_in_steam_china': True,\n",
       " 'steam_china_location': ''}"
      ]
     },
     "execution_count": 4,
     "metadata": {},
     "output_type": "execute_result"
    }
   ],
   "source": [
    "# with annotation of sentiment\n",
    "data[2][\"data\"]"
   ]
  },
  {
   "cell_type": "markdown",
   "id": "4c3ead69-bbdf-44fc-8c14-21dd1cce6833",
   "metadata": {
    "tags": []
   },
   "source": [
    "## tabulating the json into dataframe"
   ]
  },
  {
   "cell_type": "code",
   "execution_count": 5,
   "id": "134a0510-90fe-4ecb-afeb-7849a1a548a5",
   "metadata": {
    "tags": []
   },
   "outputs": [],
   "source": [
    "data_reviews = []\n",
    "labels = []\n",
    "\n",
    "for i in range(len(data)):\n",
    "    review = data[i][\"data\"][\"review\"]\n",
    "    data_reviews.append(review)\n",
    "    try: \n",
    "        label = data[i][\"annotations\"][0][\"result\"][0][\"value\"][\"choices\"][0]\n",
    "        labels.append(label)\n",
    "    except:\n",
    "        labels.append(None)"
   ]
  },
  {
   "cell_type": "code",
   "execution_count": 6,
   "id": "198f3f06-bcbb-4341-8b8d-597ba07f5c0c",
   "metadata": {
    "tags": []
   },
   "outputs": [],
   "source": [
    "pd.set_option('display.max_rows', None)\n",
    "pd.set_option('display.max_columns', None)\n",
    "pd.set_option('max_colwidth', None)"
   ]
  },
  {
   "cell_type": "code",
   "execution_count": 7,
   "id": "6cb53399-6d67-4b34-844b-d4a0158691d9",
   "metadata": {
    "tags": []
   },
   "outputs": [],
   "source": [
    "dicts = {\"reviews\": data_reviews,\n",
    "         \"labels\": labels\n",
    "        }"
   ]
  },
  {
   "cell_type": "code",
   "execution_count": 8,
   "id": "63a5eb77-d0a7-450a-915a-3b4813437388",
   "metadata": {
    "tags": []
   },
   "outputs": [
    {
     "data": {
      "text/html": [
       "<div>\n",
       "<style scoped>\n",
       "    .dataframe tbody tr th:only-of-type {\n",
       "        vertical-align: middle;\n",
       "    }\n",
       "\n",
       "    .dataframe tbody tr th {\n",
       "        vertical-align: top;\n",
       "    }\n",
       "\n",
       "    .dataframe thead th {\n",
       "        text-align: right;\n",
       "    }\n",
       "</style>\n",
       "<table border=\"1\" class=\"dataframe\">\n",
       "  <thead>\n",
       "    <tr style=\"text-align: right;\">\n",
       "      <th></th>\n",
       "      <th>reviews</th>\n",
       "      <th>labels</th>\n",
       "    </tr>\n",
       "  </thead>\n",
       "  <tbody>\n",
       "    <tr>\n",
       "      <th>0</th>\n",
       "      <td>10/10 game , i have more than 3000 hours on my other account, sadly this game was ruined by hackers, started to think valve doesn't want to develop there anticheats because hackers are the most people spending money in this game, because each hacker has like 10 accounts and i bet you if you go to premier rating 90% if not 99% are hackers on that list. \\nif you want to enjoy this game now days you have to get yourself a hack or don't play it.\\n</td>\n",
       "      <td>None</td>\n",
       "    </tr>\n",
       "    <tr>\n",
       "      <th>1</th>\n",
       "      <td>Terrible Game. Servers are always laggy and more cheaters than a Pool hall</td>\n",
       "      <td>Negative</td>\n",
       "    </tr>\n",
       "    <tr>\n",
       "      <th>2</th>\n",
       "      <td>Love CS, been playing it for 20 years now. The only thing I wish happened was that trolls, toxic people, cheaters and smurfs were more heavily regulated.</td>\n",
       "      <td>Negative</td>\n",
       "    </tr>\n",
       "    <tr>\n",
       "      <th>3</th>\n",
       "      <td>POV: you just got yelled at in russian and now that guy is one of you best mates</td>\n",
       "      <td>None</td>\n",
       "    </tr>\n",
       "    <tr>\n",
       "      <th>4</th>\n",
       "      <td>One of the nostalgic games of all time.</td>\n",
       "      <td>Positive</td>\n",
       "    </tr>\n",
       "  </tbody>\n",
       "</table>\n",
       "</div>"
      ],
      "text/plain": [
       "                                                                                                                                                                                                                                                                                                                                                                                                                                                           reviews  \\\n",
       "0  10/10 game , i have more than 3000 hours on my other account, sadly this game was ruined by hackers, started to think valve doesn't want to develop there anticheats because hackers are the most people spending money in this game, because each hacker has like 10 accounts and i bet you if you go to premier rating 90% if not 99% are hackers on that list. \\nif you want to enjoy this game now days you have to get yourself a hack or don't play it.\\n   \n",
       "1                                                                                                                                                                                                                                                                                                                                                                                       Terrible Game. Servers are always laggy and more cheaters than a Pool hall   \n",
       "2                                                                                                                                                                                                                                                                                                        Love CS, been playing it for 20 years now. The only thing I wish happened was that trolls, toxic people, cheaters and smurfs were more heavily regulated.   \n",
       "3                                                                                                                                                                                                                                                                                                                                                                                 POV: you just got yelled at in russian and now that guy is one of you best mates   \n",
       "4                                                                                                                                                                                                                                                                                                                                                                                                                          One of the nostalgic games of all time.   \n",
       "\n",
       "     labels  \n",
       "0      None  \n",
       "1  Negative  \n",
       "2  Negative  \n",
       "3      None  \n",
       "4  Positive  "
      ]
     },
     "execution_count": 8,
     "metadata": {},
     "output_type": "execute_result"
    }
   ],
   "source": [
    "dataset = pd.DataFrame(dicts)\n",
    "dataset.head()"
   ]
  },
  {
   "cell_type": "markdown",
   "id": "18979894-2670-4a03-8276-8d3524fae69e",
   "metadata": {
    "tags": []
   },
   "source": [
    "## EDA"
   ]
  },
  {
   "cell_type": "code",
   "execution_count": 9,
   "id": "fbbf7b4a-b6a3-43d3-ba52-d91b2fdd2b76",
   "metadata": {
    "tags": []
   },
   "outputs": [
    {
     "name": "stdout",
     "output_type": "stream",
     "text": [
      "<class 'pandas.core.frame.DataFrame'>\n",
      "RangeIndex: 1508 entries, 0 to 1507\n",
      "Data columns (total 2 columns):\n",
      " #   Column   Non-Null Count  Dtype \n",
      "---  ------   --------------  ----- \n",
      " 0   reviews  1508 non-null   object\n",
      " 1   labels   1005 non-null   object\n",
      "dtypes: object(2)\n",
      "memory usage: 23.7+ KB\n"
     ]
    }
   ],
   "source": [
    "dataset.info()"
   ]
  },
  {
   "cell_type": "code",
   "execution_count": 10,
   "id": "658e24d4-2457-4d0d-afb2-1b3de460bebd",
   "metadata": {
    "tags": []
   },
   "outputs": [
    {
     "data": {
      "text/html": [
       "<div>\n",
       "<style scoped>\n",
       "    .dataframe tbody tr th:only-of-type {\n",
       "        vertical-align: middle;\n",
       "    }\n",
       "\n",
       "    .dataframe tbody tr th {\n",
       "        vertical-align: top;\n",
       "    }\n",
       "\n",
       "    .dataframe thead th {\n",
       "        text-align: right;\n",
       "    }\n",
       "</style>\n",
       "<table border=\"1\" class=\"dataframe\">\n",
       "  <thead>\n",
       "    <tr style=\"text-align: right;\">\n",
       "      <th></th>\n",
       "      <th>reviews</th>\n",
       "      <th>labels</th>\n",
       "    </tr>\n",
       "  </thead>\n",
       "  <tbody>\n",
       "    <tr>\n",
       "      <th>count</th>\n",
       "      <td>1508</td>\n",
       "      <td>1005</td>\n",
       "    </tr>\n",
       "    <tr>\n",
       "      <th>unique</th>\n",
       "      <td>1503</td>\n",
       "      <td>2</td>\n",
       "    </tr>\n",
       "    <tr>\n",
       "      <th>top</th>\n",
       "      <td>Dust 2 is in the game.</td>\n",
       "      <td>Positive</td>\n",
       "    </tr>\n",
       "    <tr>\n",
       "      <th>freq</th>\n",
       "      <td>3</td>\n",
       "      <td>503</td>\n",
       "    </tr>\n",
       "  </tbody>\n",
       "</table>\n",
       "</div>"
      ],
      "text/plain": [
       "                       reviews    labels\n",
       "count                     1508      1005\n",
       "unique                    1503         2\n",
       "top     Dust 2 is in the game.  Positive\n",
       "freq                         3       503"
      ]
     },
     "execution_count": 10,
     "metadata": {},
     "output_type": "execute_result"
    }
   ],
   "source": [
    "dataset.describe()"
   ]
  },
  {
   "cell_type": "code",
   "execution_count": 11,
   "id": "35abf92e-a02a-4187-ba80-f708c6c0662b",
   "metadata": {
    "tags": []
   },
   "outputs": [
    {
     "data": {
      "text/html": [
       "<div>\n",
       "<style scoped>\n",
       "    .dataframe tbody tr th:only-of-type {\n",
       "        vertical-align: middle;\n",
       "    }\n",
       "\n",
       "    .dataframe tbody tr th {\n",
       "        vertical-align: top;\n",
       "    }\n",
       "\n",
       "    .dataframe thead th {\n",
       "        text-align: right;\n",
       "    }\n",
       "</style>\n",
       "<table border=\"1\" class=\"dataframe\">\n",
       "  <thead>\n",
       "    <tr style=\"text-align: right;\">\n",
       "      <th></th>\n",
       "      <th>reviews</th>\n",
       "      <th>labels</th>\n",
       "    </tr>\n",
       "  </thead>\n",
       "  <tbody>\n",
       "    <tr>\n",
       "      <th>508</th>\n",
       "      <td>You'll find less cheaters on Tinder</td>\n",
       "      <td>Negative</td>\n",
       "    </tr>\n",
       "    <tr>\n",
       "      <th>942</th>\n",
       "      <td>You'll find less cheaters on Tinder</td>\n",
       "      <td>Negative</td>\n",
       "    </tr>\n",
       "    <tr>\n",
       "      <th>980</th>\n",
       "      <td>After 2 years playing it, I didn't improve my skills in-game.\\n\\nHowever, I learned new language skills: now I can curse in Russian and Brazilian Portuguese.\\n\\nAlso, my tolerance level to guttural screams and loud sounds was increased.\\n\\nNow I can bear the crying of my children for longer and I can make them feel better by singing sweet traditional songs from other cultures, such as Очи чёрные (Dark Eyes) or Garota de Ipanema (The Girl from Ipanema).\\n\\nIn conclusion, Counter Strike transformed me into a better father and a better person, in addition to making me more patient, tolerant to hateful people and more trained in languages and cultures.\\n\\nBetter than any psychiatric therapy. 10/10</td>\n",
       "      <td>Positive</td>\n",
       "    </tr>\n",
       "    <tr>\n",
       "      <th>1148</th>\n",
       "      <td>i am so bad at this game</td>\n",
       "      <td>None</td>\n",
       "    </tr>\n",
       "    <tr>\n",
       "      <th>1149</th>\n",
       "      <td>i am so bad at this game</td>\n",
       "      <td>None</td>\n",
       "    </tr>\n",
       "    <tr>\n",
       "      <th>1398</th>\n",
       "      <td>Dust 2 is in the game.</td>\n",
       "      <td>None</td>\n",
       "    </tr>\n",
       "    <tr>\n",
       "      <th>1400</th>\n",
       "      <td>Dust 2 is in the game.</td>\n",
       "      <td>None</td>\n",
       "    </tr>\n",
       "    <tr>\n",
       "      <th>1401</th>\n",
       "      <td>Dust 2 is in the game.</td>\n",
       "      <td>None</td>\n",
       "    </tr>\n",
       "    <tr>\n",
       "      <th>1414</th>\n",
       "      <td>After 2 years playing it, I didn't improve my skills in-game.\\n\\nHowever, I learned new language skills: now I can curse in Russian and Brazilian Portuguese.\\n\\nAlso, my tolerance level to guttural screams and loud sounds was increased.\\n\\nNow I can bear the crying of my children for longer and I can make them feel better by singing sweet traditional songs from other cultures, such as Очи чёрные (Dark Eyes) or Garota de Ipanema (The Girl from Ipanema).\\n\\nIn conclusion, Counter Strike transformed me into a better father and a better person, in addition to making me more patient, tolerant to hateful people and more trained in languages and cultures.\\n\\nBetter than any psychiatric therapy. 10/10</td>\n",
       "      <td>Positive</td>\n",
       "    </tr>\n",
       "  </tbody>\n",
       "</table>\n",
       "</div>"
      ],
      "text/plain": [
       "                                                                                                                                                                                                                                                                                                                                                                                                                                                                                                                                                                                                                                                                                                                             reviews  \\\n",
       "508                                                                                                                                                                                                                                                                                                                                                                                                                                                                                                                                                                                                                                                                                              You'll find less cheaters on Tinder   \n",
       "942                                                                                                                                                                                                                                                                                                                                                                                                                                                                                                                                                                                                                                                                                              You'll find less cheaters on Tinder   \n",
       "980   After 2 years playing it, I didn't improve my skills in-game.\\n\\nHowever, I learned new language skills: now I can curse in Russian and Brazilian Portuguese.\\n\\nAlso, my tolerance level to guttural screams and loud sounds was increased.\\n\\nNow I can bear the crying of my children for longer and I can make them feel better by singing sweet traditional songs from other cultures, such as Очи чёрные (Dark Eyes) or Garota de Ipanema (The Girl from Ipanema).\\n\\nIn conclusion, Counter Strike transformed me into a better father and a better person, in addition to making me more patient, tolerant to hateful people and more trained in languages and cultures.\\n\\nBetter than any psychiatric therapy. 10/10   \n",
       "1148                                                                                                                                                                                                                                                                                                                                                                                                                                                                                                                                                                                                                                                                                                        i am so bad at this game   \n",
       "1149                                                                                                                                                                                                                                                                                                                                                                                                                                                                                                                                                                                                                                                                                                        i am so bad at this game   \n",
       "1398                                                                                                                                                                                                                                                                                                                                                                                                                                                                                                                                                                                                                                                                                                          Dust 2 is in the game.   \n",
       "1400                                                                                                                                                                                                                                                                                                                                                                                                                                                                                                                                                                                                                                                                                                          Dust 2 is in the game.   \n",
       "1401                                                                                                                                                                                                                                                                                                                                                                                                                                                                                                                                                                                                                                                                                                          Dust 2 is in the game.   \n",
       "1414  After 2 years playing it, I didn't improve my skills in-game.\\n\\nHowever, I learned new language skills: now I can curse in Russian and Brazilian Portuguese.\\n\\nAlso, my tolerance level to guttural screams and loud sounds was increased.\\n\\nNow I can bear the crying of my children for longer and I can make them feel better by singing sweet traditional songs from other cultures, such as Очи чёрные (Dark Eyes) or Garota de Ipanema (The Girl from Ipanema).\\n\\nIn conclusion, Counter Strike transformed me into a better father and a better person, in addition to making me more patient, tolerant to hateful people and more trained in languages and cultures.\\n\\nBetter than any psychiatric therapy. 10/10   \n",
       "\n",
       "        labels  \n",
       "508   Negative  \n",
       "942   Negative  \n",
       "980   Positive  \n",
       "1148      None  \n",
       "1149      None  \n",
       "1398      None  \n",
       "1400      None  \n",
       "1401      None  \n",
       "1414  Positive  "
      ]
     },
     "execution_count": 11,
     "metadata": {},
     "output_type": "execute_result"
    }
   ],
   "source": [
    "dataset[dataset.duplicated(keep=False)]"
   ]
  },
  {
   "cell_type": "code",
   "execution_count": 12,
   "id": "d25ef22b-85c0-4d1c-8718-2ce71a9e2de9",
   "metadata": {
    "tags": []
   },
   "outputs": [
    {
     "data": {
      "text/plain": [
       "5"
      ]
     },
     "execution_count": 12,
     "metadata": {},
     "output_type": "execute_result"
    }
   ],
   "source": [
    "dataset.duplicated().sum()"
   ]
  },
  {
   "cell_type": "code",
   "execution_count": 13,
   "id": "dc4c71a6-0b28-43a0-ab1f-004b4ec615f7",
   "metadata": {
    "tags": []
   },
   "outputs": [
    {
     "data": {
      "text/plain": [
       "reviews      0\n",
       "labels     503\n",
       "dtype: int64"
      ]
     },
     "execution_count": 13,
     "metadata": {},
     "output_type": "execute_result"
    }
   ],
   "source": [
    "dataset.isnull().sum()"
   ]
  },
  {
   "cell_type": "code",
   "execution_count": 14,
   "id": "19e1ae6e-7447-48d9-802c-b1516d3490a8",
   "metadata": {
    "tags": []
   },
   "outputs": [
    {
     "data": {
      "text/plain": [
       "503"
      ]
     },
     "execution_count": 14,
     "metadata": {},
     "output_type": "execute_result"
    }
   ],
   "source": [
    "dataset.query(\"labels == 'Positive'\").count().labels"
   ]
  },
  {
   "cell_type": "code",
   "execution_count": 15,
   "id": "4cfa00d7-c959-44dd-98ed-345a944273e7",
   "metadata": {
    "tags": []
   },
   "outputs": [
    {
     "data": {
      "text/plain": [
       "502"
      ]
     },
     "execution_count": 15,
     "metadata": {},
     "output_type": "execute_result"
    }
   ],
   "source": [
    "dataset.query(\"labels == 'Negative'\").count().labels"
   ]
  },
  {
   "cell_type": "markdown",
   "id": "898a76ee-ffd4-4ea8-ba02-d1d5b3bd562f",
   "metadata": {
    "tags": []
   },
   "source": [
    "## pre-process"
   ]
  },
  {
   "cell_type": "code",
   "execution_count": 16,
   "id": "baa9051b-9e88-4a9a-8780-94ae64844de2",
   "metadata": {
    "tags": []
   },
   "outputs": [],
   "source": [
    "dataset.dropna(inplace=True)"
   ]
  },
  {
   "cell_type": "code",
   "execution_count": 17,
   "id": "0f08dd65-784f-415f-b089-1b72731ad879",
   "metadata": {
    "tags": []
   },
   "outputs": [],
   "source": [
    "dataset = dataset.drop_duplicates(keep=\"first\")"
   ]
  },
  {
   "cell_type": "code",
   "execution_count": 18,
   "id": "0e086fd0-7fdf-4f6d-b40a-85e0411e9bb9",
   "metadata": {
    "tags": []
   },
   "outputs": [
    {
     "data": {
      "text/html": [
       "<div>\n",
       "<style scoped>\n",
       "    .dataframe tbody tr th:only-of-type {\n",
       "        vertical-align: middle;\n",
       "    }\n",
       "\n",
       "    .dataframe tbody tr th {\n",
       "        vertical-align: top;\n",
       "    }\n",
       "\n",
       "    .dataframe thead th {\n",
       "        text-align: right;\n",
       "    }\n",
       "</style>\n",
       "<table border=\"1\" class=\"dataframe\">\n",
       "  <thead>\n",
       "    <tr style=\"text-align: right;\">\n",
       "      <th></th>\n",
       "      <th>reviews</th>\n",
       "      <th>labels</th>\n",
       "    </tr>\n",
       "  </thead>\n",
       "  <tbody>\n",
       "    <tr>\n",
       "      <th>count</th>\n",
       "      <td>1003</td>\n",
       "      <td>1003</td>\n",
       "    </tr>\n",
       "    <tr>\n",
       "      <th>unique</th>\n",
       "      <td>1003</td>\n",
       "      <td>2</td>\n",
       "    </tr>\n",
       "    <tr>\n",
       "      <th>top</th>\n",
       "      <td>Terrible Game. Servers are always laggy and more cheaters than a Pool hall</td>\n",
       "      <td>Positive</td>\n",
       "    </tr>\n",
       "    <tr>\n",
       "      <th>freq</th>\n",
       "      <td>1</td>\n",
       "      <td>502</td>\n",
       "    </tr>\n",
       "  </tbody>\n",
       "</table>\n",
       "</div>"
      ],
      "text/plain": [
       "                                                                           reviews  \\\n",
       "count                                                                         1003   \n",
       "unique                                                                        1003   \n",
       "top     Terrible Game. Servers are always laggy and more cheaters than a Pool hall   \n",
       "freq                                                                             1   \n",
       "\n",
       "          labels  \n",
       "count       1003  \n",
       "unique         2  \n",
       "top     Positive  \n",
       "freq         502  "
      ]
     },
     "execution_count": 18,
     "metadata": {},
     "output_type": "execute_result"
    }
   ],
   "source": [
    "dataset.describe()"
   ]
  },
  {
   "cell_type": "code",
   "execution_count": 19,
   "id": "404d46bc-da52-47ba-8daf-fde43a5b78fb",
   "metadata": {
    "tags": []
   },
   "outputs": [],
   "source": [
    "dataset = dataset.reset_index()\n",
    "dataset.drop(columns=[\"index\"],inplace= True)"
   ]
  },
  {
   "cell_type": "code",
   "execution_count": 20,
   "id": "7ca465d3-7155-4e08-a584-bd4c9d2556eb",
   "metadata": {
    "tags": []
   },
   "outputs": [
    {
     "data": {
      "text/html": [
       "<div>\n",
       "<style scoped>\n",
       "    .dataframe tbody tr th:only-of-type {\n",
       "        vertical-align: middle;\n",
       "    }\n",
       "\n",
       "    .dataframe tbody tr th {\n",
       "        vertical-align: top;\n",
       "    }\n",
       "\n",
       "    .dataframe thead th {\n",
       "        text-align: right;\n",
       "    }\n",
       "</style>\n",
       "<table border=\"1\" class=\"dataframe\">\n",
       "  <thead>\n",
       "    <tr style=\"text-align: right;\">\n",
       "      <th></th>\n",
       "      <th>reviews</th>\n",
       "      <th>labels</th>\n",
       "    </tr>\n",
       "  </thead>\n",
       "  <tbody>\n",
       "    <tr>\n",
       "      <th>230</th>\n",
       "      <td>The game is fun. However there can be players who take it too seriously. They lack consideration for beginners.</td>\n",
       "      <td>Positive</td>\n",
       "    </tr>\n",
       "    <tr>\n",
       "      <th>491</th>\n",
       "      <td>Russians are really nice in this game. 👍</td>\n",
       "      <td>Positive</td>\n",
       "    </tr>\n",
       "    <tr>\n",
       "      <th>235</th>\n",
       "      <td>From the May 23rd 2024 Update:\\n\\n[ CHICKENS ]\\nChickens have a few new animations\\nChickens can now walk up hills\\nChickens can now turn right while walking\\n\\nValve added a fucking chicken update before they added a functioning Anti-Cheat. I can't even make this shit up.</td>\n",
       "      <td>Negative</td>\n",
       "    </tr>\n",
       "    <tr>\n",
       "      <th>706</th>\n",
       "      <td>Step 1: install the game\\nStep 2: Start a game\\nStep 3: lose the game\\nStep 4: uninstall the game\\nStep 5: repeat step 1\\nStep 6: asking for the meaning of life</td>\n",
       "      <td>Negative</td>\n",
       "    </tr>\n",
       "    <tr>\n",
       "      <th>280</th>\n",
       "      <td>Best game i played yet good job steam!</td>\n",
       "      <td>Positive</td>\n",
       "    </tr>\n",
       "    <tr>\n",
       "      <th>609</th>\n",
       "      <td>this is best game in the steam communty</td>\n",
       "      <td>Positive</td>\n",
       "    </tr>\n",
       "    <tr>\n",
       "      <th>604</th>\n",
       "      <td>I have never written a review after playing 3 premier matches and having cheaters in every single game I will never install it again and advise people against it.</td>\n",
       "      <td>Negative</td>\n",
       "    </tr>\n",
       "    <tr>\n",
       "      <th>11</th>\n",
       "      <td>very good point and click adventure</td>\n",
       "      <td>Positive</td>\n",
       "    </tr>\n",
       "    <tr>\n",
       "      <th>900</th>\n",
       "      <td>This game makes me want to rip the skin off of a living human and slap it on an Ak-47 for a free cool skin</td>\n",
       "      <td>Negative</td>\n",
       "    </tr>\n",
       "    <tr>\n",
       "      <th>768</th>\n",
       "      <td>This game is so fun with friends</td>\n",
       "      <td>Positive</td>\n",
       "    </tr>\n",
       "  </tbody>\n",
       "</table>\n",
       "</div>"
      ],
      "text/plain": [
       "                                                                                                                                                                                                                                                                               reviews  \\\n",
       "230                                                                                                                                                                    The game is fun. However there can be players who take it too seriously. They lack consideration for beginners.   \n",
       "491                                                                                                                                                                                                                                           Russians are really nice in this game. 👍   \n",
       "235  From the May 23rd 2024 Update:\\n\\n[ CHICKENS ]\\nChickens have a few new animations\\nChickens can now walk up hills\\nChickens can now turn right while walking\\n\\nValve added a fucking chicken update before they added a functioning Anti-Cheat. I can't even make this shit up.   \n",
       "706                                                                                                                   Step 1: install the game\\nStep 2: Start a game\\nStep 3: lose the game\\nStep 4: uninstall the game\\nStep 5: repeat step 1\\nStep 6: asking for the meaning of life   \n",
       "280                                                                                                                                                                                                                                             Best game i played yet good job steam!   \n",
       "609                                                                                                                                                                                                                                            this is best game in the steam communty   \n",
       "604                                                                                                                 I have never written a review after playing 3 premier matches and having cheaters in every single game I will never install it again and advise people against it.   \n",
       "11                                                                                                                                                                                                                                                 very good point and click adventure   \n",
       "900                                                                                                                                                                         This game makes me want to rip the skin off of a living human and slap it on an Ak-47 for a free cool skin   \n",
       "768                                                                                                                                                                                                                                                   This game is so fun with friends   \n",
       "\n",
       "       labels  \n",
       "230  Positive  \n",
       "491  Positive  \n",
       "235  Negative  \n",
       "706  Negative  \n",
       "280  Positive  \n",
       "609  Positive  \n",
       "604  Negative  \n",
       "11   Positive  \n",
       "900  Negative  \n",
       "768  Positive  "
      ]
     },
     "execution_count": 20,
     "metadata": {},
     "output_type": "execute_result"
    }
   ],
   "source": [
    "dataset.sample(10, random_state=10)"
   ]
  },
  {
   "cell_type": "markdown",
   "id": "2f328edf-9c57-4578-8026-cb12cd4d3202",
   "metadata": {},
   "source": [
    "## text pre-process and normalization"
   ]
  },
  {
   "cell_type": "code",
   "execution_count": 21,
   "id": "cac21d4f-5b38-4ecf-b2c6-764082963167",
   "metadata": {
    "tags": []
   },
   "outputs": [
    {
     "data": {
      "text/plain": [
       "4877"
      ]
     },
     "execution_count": 21,
     "metadata": {},
     "output_type": "execute_result"
    }
   ],
   "source": [
    "uniqueWords = list(set(\" \".join(dataset['reviews']).split(\" \")))\n",
    "count = len(uniqueWords)\n",
    "count"
   ]
  },
  {
   "cell_type": "markdown",
   "id": "5c397227-7b1f-4d24-b9ec-541f4325e9a0",
   "metadata": {},
   "source": [
    "## removing emoji"
   ]
  },
  {
   "cell_type": "code",
   "execution_count": 23,
   "id": "c99f4cd0-1abf-4cea-bf78-4f02b6f5742e",
   "metadata": {
    "tags": []
   },
   "outputs": [],
   "source": [
    "import re\n",
    "\n",
    "def remove_emojis(data):\n",
    "    emoj = re.compile(\"[\"\n",
    "        u\"\\U0001F600-\\U0001F64F\"  # emoticons\n",
    "        u\"\\U0001F300-\\U0001F5FF\"  # symbols & pictographs\n",
    "        u\"\\U0001F680-\\U0001F6FF\"  # transport & map symbols\n",
    "        u\"\\U0001F1E0-\\U0001F1FF\"  # flags (iOS)\n",
    "        u\"\\U00002500-\\U00002BEF\"  # chinese char\n",
    "        u\"\\U00002702-\\U000027B0\"\n",
    "        u\"\\U000024C2-\\U0001F251\"\n",
    "        u\"\\U0001f926-\\U0001f937\"\n",
    "        u\"\\U00010000-\\U0010ffff\"\n",
    "        u\"\\u2640-\\u2642\" \n",
    "        u\"\\u2600-\\u2B55\"\n",
    "        u\"\\u200d\"\n",
    "        u\"\\u23cf\"\n",
    "        u\"\\u23e9\"\n",
    "        u\"\\u231a\"\n",
    "        u\"\\ufe0f\"  # dingbats\n",
    "        u\"\\u3030\"\n",
    "                      \"]+\", re.UNICODE)\n",
    "    return re.sub(emoj, '', data)"
   ]
  },
  {
   "cell_type": "code",
   "execution_count": 24,
   "id": "91a8c6d2-d731-487d-a0d3-a4ac1ba3a143",
   "metadata": {
    "tags": []
   },
   "outputs": [],
   "source": [
    "no_emoji = []\n",
    "for i in range(len(dataset)):\n",
    "    clean_emoji = remove_emojis(dataset.reviews[i])\n",
    "    no_emoji.append(clean_emoji)\n",
    "\n",
    "dataset.insert(1, \"no_emoji\", no_emoji, True)"
   ]
  },
  {
   "cell_type": "code",
   "execution_count": 25,
   "id": "7605e048-221c-4f39-acae-11e77c6ee00a",
   "metadata": {
    "tags": []
   },
   "outputs": [
    {
     "data": {
      "text/html": [
       "<div>\n",
       "<style scoped>\n",
       "    .dataframe tbody tr th:only-of-type {\n",
       "        vertical-align: middle;\n",
       "    }\n",
       "\n",
       "    .dataframe tbody tr th {\n",
       "        vertical-align: top;\n",
       "    }\n",
       "\n",
       "    .dataframe thead th {\n",
       "        text-align: right;\n",
       "    }\n",
       "</style>\n",
       "<table border=\"1\" class=\"dataframe\">\n",
       "  <thead>\n",
       "    <tr style=\"text-align: right;\">\n",
       "      <th></th>\n",
       "      <th>reviews</th>\n",
       "      <th>no_emoji</th>\n",
       "      <th>labels</th>\n",
       "    </tr>\n",
       "  </thead>\n",
       "  <tbody>\n",
       "    <tr>\n",
       "      <th>833</th>\n",
       "      <td>the match making needs  improvements and the cheating too and many other things \\r\\n(small things)\\r\\n</td>\n",
       "      <td>the match making needs  improvements and the cheating too and many other things \\r\\n(small things)\\r\\n</td>\n",
       "      <td>Negative</td>\n",
       "    </tr>\n",
       "    <tr>\n",
       "      <th>857</th>\n",
       "      <td>game would be great if no hackers...</td>\n",
       "      <td>game would be great if no hackers...</td>\n",
       "      <td>Negative</td>\n",
       "    </tr>\n",
       "    <tr>\n",
       "      <th>843</th>\n",
       "      <td>good game what do play with friends</td>\n",
       "      <td>good game what do play with friends</td>\n",
       "      <td>Positive</td>\n",
       "    </tr>\n",
       "    <tr>\n",
       "      <th>740</th>\n",
       "      <td>Decided to play first time in several years. (I was master guardian elite once)\\nGet Headshoted by first bullet no matter what I do and no matter the distance. (In silver elite ranks)\\nOkay maybe i just suck. \\nPlay second competitive game.\\nThe whole of enemy team headshots me while jumping with their first bullet.\\nThen they gloat about using cheats in the chat. \\nGame is dead.</td>\n",
       "      <td>Decided to play first time in several years. (I was master guardian elite once)\\nGet Headshoted by first bullet no matter what I do and no matter the distance. (In silver elite ranks)\\nOkay maybe i just suck. \\nPlay second competitive game.\\nThe whole of enemy team headshots me while jumping with their first bullet.\\nThen they gloat about using cheats in the chat. \\nGame is dead.</td>\n",
       "      <td>Negative</td>\n",
       "    </tr>\n",
       "    <tr>\n",
       "      <th>924</th>\n",
       "      <td>even after the worthless vacnet update the game continues to be plagued by the same few issues they've had since early access. dont play this garbage. bring back csgo.</td>\n",
       "      <td>even after the worthless vacnet update the game continues to be plagued by the same few issues they've had since early access. dont play this garbage. bring back csgo.</td>\n",
       "      <td>Negative</td>\n",
       "    </tr>\n",
       "    <tr>\n",
       "      <th>786</th>\n",
       "      <td>This game used to be great, the fun core gameplay with competitive and casual 6v6 (or 5v5 can't remember) gameplay that left the rounds short and fun but now it has devolved into 16v16 casual games and boring competitive gameplay where you rather leave and take the temporary ban than finish the match. The game lacks the charms it used to have with a flourishing community server page and has left it with boring bland surf or jailbreak servers with high ping that will kick you for basically anything or kill you constantly making you spectate each round in hopes you play the next. Where are TTT servers? where is the fun? I truly believe the only reason people play this game is because they spent too much money on keys hoping to get a cool skin that they feel obligated to get their money's worth out of the game, Quite sad what this game has turned into.</td>\n",
       "      <td>This game used to be great, the fun core gameplay with competitive and casual 6v6 (or 5v5 can't remember) gameplay that left the rounds short and fun but now it has devolved into 16v16 casual games and boring competitive gameplay where you rather leave and take the temporary ban than finish the match. The game lacks the charms it used to have with a flourishing community server page and has left it with boring bland surf or jailbreak servers with high ping that will kick you for basically anything or kill you constantly making you spectate each round in hopes you play the next. Where are TTT servers? where is the fun? I truly believe the only reason people play this game is because they spent too much money on keys hoping to get a cool skin that they feel obligated to get their money's worth out of the game, Quite sad what this game has turned into.</td>\n",
       "      <td>Negative</td>\n",
       "    </tr>\n",
       "    <tr>\n",
       "      <th>336</th>\n",
       "      <td>Better than Valorant. at least they don't have Uwu type of sh!t.</td>\n",
       "      <td>Better than Valorant. at least they don't have Uwu type of sh!t.</td>\n",
       "      <td>Positive</td>\n",
       "    </tr>\n",
       "    <tr>\n",
       "      <th>808</th>\n",
       "      <td>The second best shooting game of all time, the first is CSGO</td>\n",
       "      <td>The second best shooting game of all time, the first is CSGO</td>\n",
       "      <td>Positive</td>\n",
       "    </tr>\n",
       "    <tr>\n",
       "      <th>851</th>\n",
       "      <td>CS2 is the epitome of 'verschlimmbessern', literally nothing improved except the Smokes.\\nOn the contrary, at least the Quickchat and the Buy menu got worse and Skins are 3x what they were a few years ago...</td>\n",
       "      <td>CS2 is the epitome of 'verschlimmbessern', literally nothing improved except the Smokes.\\nOn the contrary, at least the Quickchat and the Buy menu got worse and Skins are 3x what they were a few years ago...</td>\n",
       "      <td>Negative</td>\n",
       "    </tr>\n",
       "    <tr>\n",
       "      <th>5</th>\n",
       "      <td>9/10 fun wish i could aim</td>\n",
       "      <td>9/10 fun wish i could aim</td>\n",
       "      <td>Positive</td>\n",
       "    </tr>\n",
       "  </tbody>\n",
       "</table>\n",
       "</div>"
      ],
      "text/plain": [
       "                                                                                                                                                                                                                                                                                                                                                                                                                                                                                                                                                                                                                                                                                                                                                                                                                                                                                           reviews  \\\n",
       "833                                                                                                                                                                                                                                                                                                                                                                                                                                                                                                                                                                                                                                                                                                                                                                                         the match making needs  improvements and the cheating too and many other things \\r\\n(small things)\\r\\n   \n",
       "857                                                                                                                                                                                                                                                                                                                                                                                                                                                                                                                                                                                                                                                                                                                                                                                                                                                           game would be great if no hackers...   \n",
       "843                                                                                                                                                                                                                                                                                                                                                                                                                                                                                                                                                                                                                                                                                                                                                                                                                                                            good game what do play with friends   \n",
       "740                                                                                                                                                                                                                                                                                                                                                                                                                                                                                                 Decided to play first time in several years. (I was master guardian elite once)\\nGet Headshoted by first bullet no matter what I do and no matter the distance. (In silver elite ranks)\\nOkay maybe i just suck. \\nPlay second competitive game.\\nThe whole of enemy team headshots me while jumping with their first bullet.\\nThen they gloat about using cheats in the chat. \\nGame is dead.   \n",
       "924                                                                                                                                                                                                                                                                                                                                                                                                                                                                                                                                                                                                                                                                                                                        even after the worthless vacnet update the game continues to be plagued by the same few issues they've had since early access. dont play this garbage. bring back csgo.   \n",
       "786  This game used to be great, the fun core gameplay with competitive and casual 6v6 (or 5v5 can't remember) gameplay that left the rounds short and fun but now it has devolved into 16v16 casual games and boring competitive gameplay where you rather leave and take the temporary ban than finish the match. The game lacks the charms it used to have with a flourishing community server page and has left it with boring bland surf or jailbreak servers with high ping that will kick you for basically anything or kill you constantly making you spectate each round in hopes you play the next. Where are TTT servers? where is the fun? I truly believe the only reason people play this game is because they spent too much money on keys hoping to get a cool skin that they feel obligated to get their money's worth out of the game, Quite sad what this game has turned into.   \n",
       "336                                                                                                                                                                                                                                                                                                                                                                                                                                                                                                                                                                                                                                                                                                                                                                                                                               Better than Valorant. at least they don't have Uwu type of sh!t.   \n",
       "808                                                                                                                                                                                                                                                                                                                                                                                                                                                                                                                                                                                                                                                                                                                                                                                                                                   The second best shooting game of all time, the first is CSGO   \n",
       "851                                                                                                                                                                                                                                                                                                                                                                                                                                                                                                                                                                                                                                                                                CS2 is the epitome of 'verschlimmbessern', literally nothing improved except the Smokes.\\nOn the contrary, at least the Quickchat and the Buy menu got worse and Skins are 3x what they were a few years ago...   \n",
       "5                                                                                                                                                                                                                                                                                                                                                                                                                                                                                                                                                                                                                                                                                                                                                                                                                                                                        9/10 fun wish i could aim   \n",
       "\n",
       "                                                                                                                                                                                                                                                                                                                                                                                                                                                                                                                                                                                                                                                                                                                                                                                                                                                                                          no_emoji  \\\n",
       "833                                                                                                                                                                                                                                                                                                                                                                                                                                                                                                                                                                                                                                                                                                                                                                                         the match making needs  improvements and the cheating too and many other things \\r\\n(small things)\\r\\n   \n",
       "857                                                                                                                                                                                                                                                                                                                                                                                                                                                                                                                                                                                                                                                                                                                                                                                                                                                           game would be great if no hackers...   \n",
       "843                                                                                                                                                                                                                                                                                                                                                                                                                                                                                                                                                                                                                                                                                                                                                                                                                                                            good game what do play with friends   \n",
       "740                                                                                                                                                                                                                                                                                                                                                                                                                                                                                                 Decided to play first time in several years. (I was master guardian elite once)\\nGet Headshoted by first bullet no matter what I do and no matter the distance. (In silver elite ranks)\\nOkay maybe i just suck. \\nPlay second competitive game.\\nThe whole of enemy team headshots me while jumping with their first bullet.\\nThen they gloat about using cheats in the chat. \\nGame is dead.   \n",
       "924                                                                                                                                                                                                                                                                                                                                                                                                                                                                                                                                                                                                                                                                                                                        even after the worthless vacnet update the game continues to be plagued by the same few issues they've had since early access. dont play this garbage. bring back csgo.   \n",
       "786  This game used to be great, the fun core gameplay with competitive and casual 6v6 (or 5v5 can't remember) gameplay that left the rounds short and fun but now it has devolved into 16v16 casual games and boring competitive gameplay where you rather leave and take the temporary ban than finish the match. The game lacks the charms it used to have with a flourishing community server page and has left it with boring bland surf or jailbreak servers with high ping that will kick you for basically anything or kill you constantly making you spectate each round in hopes you play the next. Where are TTT servers? where is the fun? I truly believe the only reason people play this game is because they spent too much money on keys hoping to get a cool skin that they feel obligated to get their money's worth out of the game, Quite sad what this game has turned into.   \n",
       "336                                                                                                                                                                                                                                                                                                                                                                                                                                                                                                                                                                                                                                                                                                                                                                                                                               Better than Valorant. at least they don't have Uwu type of sh!t.   \n",
       "808                                                                                                                                                                                                                                                                                                                                                                                                                                                                                                                                                                                                                                                                                                                                                                                                                                   The second best shooting game of all time, the first is CSGO   \n",
       "851                                                                                                                                                                                                                                                                                                                                                                                                                                                                                                                                                                                                                                                                                CS2 is the epitome of 'verschlimmbessern', literally nothing improved except the Smokes.\\nOn the contrary, at least the Quickchat and the Buy menu got worse and Skins are 3x what they were a few years ago...   \n",
       "5                                                                                                                                                                                                                                                                                                                                                                                                                                                                                                                                                                                                                                                                                                                                                                                                                                                                        9/10 fun wish i could aim   \n",
       "\n",
       "       labels  \n",
       "833  Negative  \n",
       "857  Negative  \n",
       "843  Positive  \n",
       "740  Negative  \n",
       "924  Negative  \n",
       "786  Negative  \n",
       "336  Positive  \n",
       "808  Positive  \n",
       "851  Negative  \n",
       "5    Positive  "
      ]
     },
     "execution_count": 25,
     "metadata": {},
     "output_type": "execute_result"
    }
   ],
   "source": [
    "dataset.sample(10)"
   ]
  },
  {
   "cell_type": "markdown",
   "id": "3f232369-78e5-4945-9f23-b91b58c8fe1d",
   "metadata": {},
   "source": [
    "## removing punctuation"
   ]
  },
  {
   "cell_type": "code",
   "execution_count": 26,
   "id": "8e0daeef-a3b1-4a67-acb8-228fcc7a957c",
   "metadata": {
    "tags": []
   },
   "outputs": [],
   "source": [
    "def decontracted(phrase):\n",
    "    phrase = phrase.lower()\n",
    "    phrase = re.sub(r\"\\'t\", \"not\", phrase)\n",
    "    phrase = re.sub(r\"\\'re\", \" are\", phrase)\n",
    "    phrase = re.sub(r\"\\'s\", \" is\", phrase)\n",
    "    phrase = re.sub(r\"´s\", \" is\", phrase)\n",
    "    phrase = re.sub(r\"\\'d\", \" would\", phrase)\n",
    "    phrase = re.sub(r\"\\'ll\", \" will\", phrase)\n",
    "    phrase = re.sub(r\"\\'ve\", \" have\", phrase)\n",
    "    phrase = re.sub(r\"\\'m\", \" am\", phrase)\n",
    "    phrase = re.sub(r\"\\\\r\\\\n\", \"\", phrase)\n",
    "    phrase = re.sub(r\"\\\\r\", \"\", phrase)\n",
    "    phrase = re.sub(r\"\\\\n\", \" \", phrase)\n",
    "    phrase = re.sub(r\",\", \" \", phrase)\n",
    "    phrase = phrase.replace(\".\", \"\")\n",
    "    phrase = phrase.replace(\"?\", \"\")\n",
    "    phrase = phrase.replace(\"!\", \"\")\n",
    "    phrase = phrase.replace(\"%\", \"\")\n",
    "    phrase = phrase.replace(\"(\", \"\")\n",
    "    phrase = phrase.replace(\")\", \"\")\n",
    "    phrase = phrase.replace(\"[\", \"\")\n",
    "    phrase = phrase.replace(\"]\", \"\")\n",
    "    phrase = phrase.replace(\"{\", \"\")\n",
    "    phrase = phrase.replace(\"}\", \"\")\n",
    "    phrase = phrase.replace(\"-\", \"\")\n",
    "    phrase = phrase.replace(\"+\", \"\")\n",
    "    phrase = phrase.replace(\"$\", \"\")\n",
    "    phrase = phrase.replace(\":\", \"\")\n",
    "    phrase = phrase.replace(\"=\", \"\")\n",
    "    phrase = phrase.replace(\"&\", \"\")\n",
    "    phrase = phrase.replace(\"_\", \"\")\n",
    "    phrase = phrase.replace(\"^\", \"\")\n",
    "    phrase = phrase.replace(\"*\", \"\")\n",
    "    phrase = phrase.replace(\"#\", \"\")\n",
    "    phrase = phrase.replace(\"@\", \"\")\n",
    "    phrase = phrase.replace(\"'\", \"\")\n",
    "    phrase = phrase.replace(\"<\", \"\")\n",
    "    phrase = phrase.replace(\">\", \"\")\n",
    "    phrase = phrase.replace('\"', \"\")\n",
    "    phrase = phrase.replace(\";\", \"\")\n",
    "    \n",
    "    return phrase"
   ]
  },
  {
   "cell_type": "code",
   "execution_count": 27,
   "id": "7aa06861-6771-4dd8-943e-af1ac7b411fd",
   "metadata": {
    "tags": []
   },
   "outputs": [],
   "source": [
    "no_ascii = []\n",
    "for i in range(len(dataset)):\n",
    "    clean_ascii = decontracted(dataset.no_emoji[i])\n",
    "    no_ascii.append(clean_ascii)\n",
    "\n",
    "dataset.insert(2, \"no_punc\", no_ascii, True)"
   ]
  },
  {
   "cell_type": "code",
   "execution_count": 28,
   "id": "955b24a7-5f12-4ed8-b132-a4b8133618bf",
   "metadata": {
    "tags": []
   },
   "outputs": [
    {
     "data": {
      "text/html": [
       "<div>\n",
       "<style scoped>\n",
       "    .dataframe tbody tr th:only-of-type {\n",
       "        vertical-align: middle;\n",
       "    }\n",
       "\n",
       "    .dataframe tbody tr th {\n",
       "        vertical-align: top;\n",
       "    }\n",
       "\n",
       "    .dataframe thead th {\n",
       "        text-align: right;\n",
       "    }\n",
       "</style>\n",
       "<table border=\"1\" class=\"dataframe\">\n",
       "  <thead>\n",
       "    <tr style=\"text-align: right;\">\n",
       "      <th></th>\n",
       "      <th>reviews</th>\n",
       "      <th>no_emoji</th>\n",
       "      <th>no_punc</th>\n",
       "      <th>labels</th>\n",
       "    </tr>\n",
       "  </thead>\n",
       "  <tbody>\n",
       "    <tr>\n",
       "      <th>0</th>\n",
       "      <td>Terrible Game. Servers are always laggy and more cheaters than a Pool hall</td>\n",
       "      <td>Terrible Game. Servers are always laggy and more cheaters than a Pool hall</td>\n",
       "      <td>terrible game servers are always laggy and more cheaters than a pool hall</td>\n",
       "      <td>Negative</td>\n",
       "    </tr>\n",
       "    <tr>\n",
       "      <th>1</th>\n",
       "      <td>Love CS, been playing it for 20 years now. The only thing I wish happened was that trolls, toxic people, cheaters and smurfs were more heavily regulated.</td>\n",
       "      <td>Love CS, been playing it for 20 years now. The only thing I wish happened was that trolls, toxic people, cheaters and smurfs were more heavily regulated.</td>\n",
       "      <td>love cs  been playing it for 20 years now the only thing i wish happened was that trolls  toxic people  cheaters and smurfs were more heavily regulated</td>\n",
       "      <td>Negative</td>\n",
       "    </tr>\n",
       "    <tr>\n",
       "      <th>2</th>\n",
       "      <td>One of the nostalgic games of all time.</td>\n",
       "      <td>One of the nostalgic games of all time.</td>\n",
       "      <td>one of the nostalgic games of all time</td>\n",
       "      <td>Positive</td>\n",
       "    </tr>\n",
       "    <tr>\n",
       "      <th>3</th>\n",
       "      <td>best game headshot pew pew</td>\n",
       "      <td>best game headshot pew pew</td>\n",
       "      <td>best game headshot pew pew</td>\n",
       "      <td>Positive</td>\n",
       "    </tr>\n",
       "    <tr>\n",
       "      <th>4</th>\n",
       "      <td>This is a very good game, i love it!</td>\n",
       "      <td>This is a very good game, i love it!</td>\n",
       "      <td>this is a very good game  i love it</td>\n",
       "      <td>Positive</td>\n",
       "    </tr>\n",
       "    <tr>\n",
       "      <th>5</th>\n",
       "      <td>9/10 fun wish i could aim</td>\n",
       "      <td>9/10 fun wish i could aim</td>\n",
       "      <td>9/10 fun wish i could aim</td>\n",
       "      <td>Positive</td>\n",
       "    </tr>\n",
       "    <tr>\n",
       "      <th>6</th>\n",
       "      <td>thank for disable competitive 30 min(failed to connect to the match) bc this stp game crash just when match start.</td>\n",
       "      <td>thank for disable competitive 30 min(failed to connect to the match) bc this stp game crash just when match start.</td>\n",
       "      <td>thank for disable competitive 30 minfailed to connect to the match bc this stp game crash just when match start</td>\n",
       "      <td>Negative</td>\n",
       "    </tr>\n",
       "    <tr>\n",
       "      <th>7</th>\n",
       "      <td>good game to have fun\\r\\n</td>\n",
       "      <td>good game to have fun\\r\\n</td>\n",
       "      <td>good game to have fun</td>\n",
       "      <td>Positive</td>\n",
       "    </tr>\n",
       "    <tr>\n",
       "      <th>8</th>\n",
       "      <td>Too many hackers and cringe people play this game. Spare yourself the trouble, Valve anti cheat doesn't care about legit cheaters.</td>\n",
       "      <td>Too many hackers and cringe people play this game. Spare yourself the trouble, Valve anti cheat doesn't care about legit cheaters.</td>\n",
       "      <td>too many hackers and cringe people play this game spare yourself the trouble  valve anti cheat doesnnot care about legit cheaters</td>\n",
       "      <td>Negative</td>\n",
       "    </tr>\n",
       "    <tr>\n",
       "      <th>9</th>\n",
       "      <td>pls fix this shit game. and its hit detection, wierd and wacky gun spray patterns, and cheaters. thanks valve and your shit copoy\\n</td>\n",
       "      <td>pls fix this shit game. and its hit detection, wierd and wacky gun spray patterns, and cheaters. thanks valve and your shit copoy\\n</td>\n",
       "      <td>pls fix this shit game and its hit detection  wierd and wacky gun spray patterns  and cheaters thanks valve and your shit copoy</td>\n",
       "      <td>Negative</td>\n",
       "    </tr>\n",
       "  </tbody>\n",
       "</table>\n",
       "</div>"
      ],
      "text/plain": [
       "                                                                                                                                                     reviews  \\\n",
       "0                                                                                 Terrible Game. Servers are always laggy and more cheaters than a Pool hall   \n",
       "1  Love CS, been playing it for 20 years now. The only thing I wish happened was that trolls, toxic people, cheaters and smurfs were more heavily regulated.   \n",
       "2                                                                                                                    One of the nostalgic games of all time.   \n",
       "3                                                                                                                                 best game headshot pew pew   \n",
       "4                                                                                                                       This is a very good game, i love it!   \n",
       "5                                                                                                                                  9/10 fun wish i could aim   \n",
       "6                                         thank for disable competitive 30 min(failed to connect to the match) bc this stp game crash just when match start.   \n",
       "7                                                                                                                                  good game to have fun\\r\\n   \n",
       "8                         Too many hackers and cringe people play this game. Spare yourself the trouble, Valve anti cheat doesn't care about legit cheaters.   \n",
       "9                        pls fix this shit game. and its hit detection, wierd and wacky gun spray patterns, and cheaters. thanks valve and your shit copoy\\n   \n",
       "\n",
       "                                                                                                                                                    no_emoji  \\\n",
       "0                                                                                 Terrible Game. Servers are always laggy and more cheaters than a Pool hall   \n",
       "1  Love CS, been playing it for 20 years now. The only thing I wish happened was that trolls, toxic people, cheaters and smurfs were more heavily regulated.   \n",
       "2                                                                                                                    One of the nostalgic games of all time.   \n",
       "3                                                                                                                                 best game headshot pew pew   \n",
       "4                                                                                                                       This is a very good game, i love it!   \n",
       "5                                                                                                                                  9/10 fun wish i could aim   \n",
       "6                                         thank for disable competitive 30 min(failed to connect to the match) bc this stp game crash just when match start.   \n",
       "7                                                                                                                                  good game to have fun\\r\\n   \n",
       "8                         Too many hackers and cringe people play this game. Spare yourself the trouble, Valve anti cheat doesn't care about legit cheaters.   \n",
       "9                        pls fix this shit game. and its hit detection, wierd and wacky gun spray patterns, and cheaters. thanks valve and your shit copoy\\n   \n",
       "\n",
       "                                                                                                                                                   no_punc  \\\n",
       "0                                                                                terrible game servers are always laggy and more cheaters than a pool hall   \n",
       "1  love cs  been playing it for 20 years now the only thing i wish happened was that trolls  toxic people  cheaters and smurfs were more heavily regulated   \n",
       "2                                                                                                                   one of the nostalgic games of all time   \n",
       "3                                                                                                                               best game headshot pew pew   \n",
       "4                                                                                                                      this is a very good game  i love it   \n",
       "5                                                                                                                                9/10 fun wish i could aim   \n",
       "6                                          thank for disable competitive 30 minfailed to connect to the match bc this stp game crash just when match start   \n",
       "7                                                                                                                                    good game to have fun   \n",
       "8                        too many hackers and cringe people play this game spare yourself the trouble  valve anti cheat doesnnot care about legit cheaters   \n",
       "9                         pls fix this shit game and its hit detection  wierd and wacky gun spray patterns  and cheaters thanks valve and your shit copoy    \n",
       "\n",
       "     labels  \n",
       "0  Negative  \n",
       "1  Negative  \n",
       "2  Positive  \n",
       "3  Positive  \n",
       "4  Positive  \n",
       "5  Positive  \n",
       "6  Negative  \n",
       "7  Positive  \n",
       "8  Negative  \n",
       "9  Negative  "
      ]
     },
     "execution_count": 28,
     "metadata": {},
     "output_type": "execute_result"
    }
   ],
   "source": [
    "dataset.head(10)"
   ]
  },
  {
   "cell_type": "code",
   "execution_count": 29,
   "id": "88ef496e-29be-4b6c-8d4e-91e58fd04276",
   "metadata": {
    "tags": []
   },
   "outputs": [
    {
     "data": {
      "text/plain": [
       "3152"
      ]
     },
     "execution_count": 29,
     "metadata": {},
     "output_type": "execute_result"
    }
   ],
   "source": [
    "uniqueWords2 = list(set(\" \".join(dataset['no_punc']).split(\" \")))\n",
    "count2 = len(uniqueWords2)\n",
    "count2"
   ]
  },
  {
   "cell_type": "code",
   "execution_count": 30,
   "id": "1c56da5f-359e-48fa-9023-0539e1bc24fe",
   "metadata": {
    "tags": []
   },
   "outputs": [],
   "source": [
    "import string\n",
    "import nltk\n",
    "from nltk.corpus import stopwords\n",
    "from nltk.stem import WordNetLemmatizer "
   ]
  },
  {
   "cell_type": "code",
   "execution_count": 31,
   "id": "bd6dbc46-7c0b-4cc3-95a9-5106a0443099",
   "metadata": {
    "tags": []
   },
   "outputs": [
    {
     "name": "stderr",
     "output_type": "stream",
     "text": [
      "[nltk_data] Downloading package stopwords to\n",
      "[nltk_data]     /Users/bagussatya/nltk_data...\n",
      "[nltk_data]   Package stopwords is already up-to-date!\n",
      "[nltk_data] Downloading package wordnet to\n",
      "[nltk_data]     /Users/bagussatya/nltk_data...\n",
      "[nltk_data]   Package wordnet is already up-to-date!\n"
     ]
    },
    {
     "data": {
      "text/plain": [
       "True"
      ]
     },
     "execution_count": 31,
     "metadata": {},
     "output_type": "execute_result"
    }
   ],
   "source": [
    "nltk.download('stopwords')\n",
    "nltk.download('wordnet')"
   ]
  },
  {
   "cell_type": "code",
   "execution_count": 32,
   "id": "93be1dbc-acf3-462b-8841-1c4f5777e704",
   "metadata": {
    "tags": []
   },
   "outputs": [],
   "source": [
    "stop_words = set(stopwords.words('english'))\n",
    "\n",
    "# Define a list of stopwords to keep for sentiment analysis\n",
    "important_stopwords = {\"not\", \"don't\", \"didn't\", \"won't\", \"couldn't\", \"isn't\", \"wasn't\", \"aren't\", \"weren't\", \"wouldn't\", \"shouldn't\", \"can't\", \"cannot\", \"no\", \"never\"}\n",
    "\n",
    "# Customize the stopwords list by removing important sentiment words\n",
    "custom_stop_words = stop_words - important_stopwords\n",
    "\n",
    "# Function to remove stopwords from a text\n",
    "def remove_stopwords(text, custom_stop_words):\n",
    "    words = text.split()\n",
    "    filtered_words = [word for word in words if word.lower() not in custom_stop_words]\n",
    "    return ' '.join(filtered_words)"
   ]
  },
  {
   "cell_type": "code",
   "execution_count": 33,
   "id": "c48627b4-5601-4301-81d7-d93860245671",
   "metadata": {},
   "outputs": [],
   "source": [
    "def text_process(msg):\n",
    "  nopunc =[char for char in msg if char not in string.punctuation]\n",
    "  nopunc=''.join(nopunc)\n",
    "  return ' '.join([word for word in nopunc.split() if word.lower() not in custom_stop_words])"
   ]
  },
  {
   "cell_type": "code",
   "execution_count": 34,
   "id": "90491d2e-6ea3-414c-adce-bceae3b5fe8d",
   "metadata": {},
   "outputs": [],
   "source": [
    "stopw = []\n",
    "for i in range(len(dataset)):\n",
    "    clean_stopw = text_process(dataset.no_punc[i])\n",
    "    stopw.append(clean_stopw)\n",
    "    \n",
    "dataset.insert(3, \"stopw\", stopw, True)"
   ]
  },
  {
   "cell_type": "code",
   "execution_count": 35,
   "id": "c320e225-6ccf-4195-a34b-6c89d3ae98e2",
   "metadata": {
    "tags": []
   },
   "outputs": [
    {
     "data": {
      "text/html": [
       "<div>\n",
       "<style scoped>\n",
       "    .dataframe tbody tr th:only-of-type {\n",
       "        vertical-align: middle;\n",
       "    }\n",
       "\n",
       "    .dataframe tbody tr th {\n",
       "        vertical-align: top;\n",
       "    }\n",
       "\n",
       "    .dataframe thead th {\n",
       "        text-align: right;\n",
       "    }\n",
       "</style>\n",
       "<table border=\"1\" class=\"dataframe\">\n",
       "  <thead>\n",
       "    <tr style=\"text-align: right;\">\n",
       "      <th></th>\n",
       "      <th>reviews</th>\n",
       "      <th>no_emoji</th>\n",
       "      <th>no_punc</th>\n",
       "      <th>stopw</th>\n",
       "      <th>labels</th>\n",
       "    </tr>\n",
       "  </thead>\n",
       "  <tbody>\n",
       "    <tr>\n",
       "      <th>230</th>\n",
       "      <td>The game is fun. However there can be players who take it too seriously. They lack consideration for beginners.</td>\n",
       "      <td>The game is fun. However there can be players who take it too seriously. They lack consideration for beginners.</td>\n",
       "      <td>the game is fun however there can be players who take it too seriously they lack consideration for beginners</td>\n",
       "      <td>game fun however players take seriously lack consideration beginners</td>\n",
       "      <td>Positive</td>\n",
       "    </tr>\n",
       "    <tr>\n",
       "      <th>491</th>\n",
       "      <td>Russians are really nice in this game. 👍</td>\n",
       "      <td>Russians are really nice in this game.</td>\n",
       "      <td>russians are really nice in this game</td>\n",
       "      <td>russians really nice game</td>\n",
       "      <td>Positive</td>\n",
       "    </tr>\n",
       "    <tr>\n",
       "      <th>235</th>\n",
       "      <td>From the May 23rd 2024 Update:\\n\\n[ CHICKENS ]\\nChickens have a few new animations\\nChickens can now walk up hills\\nChickens can now turn right while walking\\n\\nValve added a fucking chicken update before they added a functioning Anti-Cheat. I can't even make this shit up.</td>\n",
       "      <td>From the May 23rd 2024 Update:\\n\\n[ CHICKENS ]\\nChickens have a few new animations\\nChickens can now walk up hills\\nChickens can now turn right while walking\\n\\nValve added a fucking chicken update before they added a functioning Anti-Cheat. I can't even make this shit up.</td>\n",
       "      <td>from the may 23rd 2024 update   chickens  chickens have a few new animations chickens can now walk up hills chickens can now turn right while walking  valve added a fucking chicken update before they added a functioning anticheat i cannot even make this shit up</td>\n",
       "      <td>may 23rd 2024 update chickens chickens new animations chickens walk hills chickens turn right walking valve added fucking chicken update added functioning anticheat cannot even make shit</td>\n",
       "      <td>Negative</td>\n",
       "    </tr>\n",
       "    <tr>\n",
       "      <th>706</th>\n",
       "      <td>Step 1: install the game\\nStep 2: Start a game\\nStep 3: lose the game\\nStep 4: uninstall the game\\nStep 5: repeat step 1\\nStep 6: asking for the meaning of life</td>\n",
       "      <td>Step 1: install the game\\nStep 2: Start a game\\nStep 3: lose the game\\nStep 4: uninstall the game\\nStep 5: repeat step 1\\nStep 6: asking for the meaning of life</td>\n",
       "      <td>step 1 install the game step 2 start a game step 3 lose the game step 4 uninstall the game step 5 repeat step 1 step 6 asking for the meaning of life</td>\n",
       "      <td>step 1 install game step 2 start game step 3 lose game step 4 uninstall game step 5 repeat step 1 step 6 asking meaning life</td>\n",
       "      <td>Negative</td>\n",
       "    </tr>\n",
       "    <tr>\n",
       "      <th>280</th>\n",
       "      <td>Best game i played yet good job steam!</td>\n",
       "      <td>Best game i played yet good job steam!</td>\n",
       "      <td>best game i played yet good job steam</td>\n",
       "      <td>best game played yet good job steam</td>\n",
       "      <td>Positive</td>\n",
       "    </tr>\n",
       "    <tr>\n",
       "      <th>609</th>\n",
       "      <td>this is best game in the steam communty</td>\n",
       "      <td>this is best game in the steam communty</td>\n",
       "      <td>this is best game in the steam communty</td>\n",
       "      <td>best game steam communty</td>\n",
       "      <td>Positive</td>\n",
       "    </tr>\n",
       "    <tr>\n",
       "      <th>604</th>\n",
       "      <td>I have never written a review after playing 3 premier matches and having cheaters in every single game I will never install it again and advise people against it.</td>\n",
       "      <td>I have never written a review after playing 3 premier matches and having cheaters in every single game I will never install it again and advise people against it.</td>\n",
       "      <td>i have never written a review after playing 3 premier matches and having cheaters in every single game i will never install it again and advise people against it</td>\n",
       "      <td>never written review playing 3 premier matches cheaters every single game never install advise people</td>\n",
       "      <td>Negative</td>\n",
       "    </tr>\n",
       "    <tr>\n",
       "      <th>11</th>\n",
       "      <td>very good point and click adventure</td>\n",
       "      <td>very good point and click adventure</td>\n",
       "      <td>very good point and click adventure</td>\n",
       "      <td>good point click adventure</td>\n",
       "      <td>Positive</td>\n",
       "    </tr>\n",
       "    <tr>\n",
       "      <th>900</th>\n",
       "      <td>This game makes me want to rip the skin off of a living human and slap it on an Ak-47 for a free cool skin</td>\n",
       "      <td>This game makes me want to rip the skin off of a living human and slap it on an Ak-47 for a free cool skin</td>\n",
       "      <td>this game makes me want to rip the skin off of a living human and slap it on an ak47 for a free cool skin</td>\n",
       "      <td>game makes want rip skin living human slap ak47 free cool skin</td>\n",
       "      <td>Negative</td>\n",
       "    </tr>\n",
       "    <tr>\n",
       "      <th>768</th>\n",
       "      <td>This game is so fun with friends</td>\n",
       "      <td>This game is so fun with friends</td>\n",
       "      <td>this game is so fun with friends</td>\n",
       "      <td>game fun friends</td>\n",
       "      <td>Positive</td>\n",
       "    </tr>\n",
       "  </tbody>\n",
       "</table>\n",
       "</div>"
      ],
      "text/plain": [
       "                                                                                                                                                                                                                                                                               reviews  \\\n",
       "230                                                                                                                                                                    The game is fun. However there can be players who take it too seriously. They lack consideration for beginners.   \n",
       "491                                                                                                                                                                                                                                           Russians are really nice in this game. 👍   \n",
       "235  From the May 23rd 2024 Update:\\n\\n[ CHICKENS ]\\nChickens have a few new animations\\nChickens can now walk up hills\\nChickens can now turn right while walking\\n\\nValve added a fucking chicken update before they added a functioning Anti-Cheat. I can't even make this shit up.   \n",
       "706                                                                                                                   Step 1: install the game\\nStep 2: Start a game\\nStep 3: lose the game\\nStep 4: uninstall the game\\nStep 5: repeat step 1\\nStep 6: asking for the meaning of life   \n",
       "280                                                                                                                                                                                                                                             Best game i played yet good job steam!   \n",
       "609                                                                                                                                                                                                                                            this is best game in the steam communty   \n",
       "604                                                                                                                 I have never written a review after playing 3 premier matches and having cheaters in every single game I will never install it again and advise people against it.   \n",
       "11                                                                                                                                                                                                                                                 very good point and click adventure   \n",
       "900                                                                                                                                                                         This game makes me want to rip the skin off of a living human and slap it on an Ak-47 for a free cool skin   \n",
       "768                                                                                                                                                                                                                                                   This game is so fun with friends   \n",
       "\n",
       "                                                                                                                                                                                                                                                                              no_emoji  \\\n",
       "230                                                                                                                                                                    The game is fun. However there can be players who take it too seriously. They lack consideration for beginners.   \n",
       "491                                                                                                                                                                                                                                            Russians are really nice in this game.    \n",
       "235  From the May 23rd 2024 Update:\\n\\n[ CHICKENS ]\\nChickens have a few new animations\\nChickens can now walk up hills\\nChickens can now turn right while walking\\n\\nValve added a fucking chicken update before they added a functioning Anti-Cheat. I can't even make this shit up.   \n",
       "706                                                                                                                   Step 1: install the game\\nStep 2: Start a game\\nStep 3: lose the game\\nStep 4: uninstall the game\\nStep 5: repeat step 1\\nStep 6: asking for the meaning of life   \n",
       "280                                                                                                                                                                                                                                             Best game i played yet good job steam!   \n",
       "609                                                                                                                                                                                                                                            this is best game in the steam communty   \n",
       "604                                                                                                                 I have never written a review after playing 3 premier matches and having cheaters in every single game I will never install it again and advise people against it.   \n",
       "11                                                                                                                                                                                                                                                 very good point and click adventure   \n",
       "900                                                                                                                                                                         This game makes me want to rip the skin off of a living human and slap it on an Ak-47 for a free cool skin   \n",
       "768                                                                                                                                                                                                                                                   This game is so fun with friends   \n",
       "\n",
       "                                                                                                                                                                                                                                                                   no_punc  \\\n",
       "230                                                                                                                                                           the game is fun however there can be players who take it too seriously they lack consideration for beginners   \n",
       "491                                                                                                                                                                                                                                 russians are really nice in this game    \n",
       "235  from the may 23rd 2024 update   chickens  chickens have a few new animations chickens can now walk up hills chickens can now turn right while walking  valve added a fucking chicken update before they added a functioning anticheat i cannot even make this shit up   \n",
       "706                                                                                                                  step 1 install the game step 2 start a game step 3 lose the game step 4 uninstall the game step 5 repeat step 1 step 6 asking for the meaning of life   \n",
       "280                                                                                                                                                                                                                                  best game i played yet good job steam   \n",
       "609                                                                                                                                                                                                                                this is best game in the steam communty   \n",
       "604                                                                                                      i have never written a review after playing 3 premier matches and having cheaters in every single game i will never install it again and advise people against it   \n",
       "11                                                                                                                                                                                                                                     very good point and click adventure   \n",
       "900                                                                                                                                                              this game makes me want to rip the skin off of a living human and slap it on an ak47 for a free cool skin   \n",
       "768                                                                                                                                                                                                                                       this game is so fun with friends   \n",
       "\n",
       "                                                                                                                                                                                          stopw  \\\n",
       "230                                                                                                                        game fun however players take seriously lack consideration beginners   \n",
       "491                                                                                                                                                                   russians really nice game   \n",
       "235  may 23rd 2024 update chickens chickens new animations chickens walk hills chickens turn right walking valve added fucking chicken update added functioning anticheat cannot even make shit   \n",
       "706                                                                step 1 install game step 2 start game step 3 lose game step 4 uninstall game step 5 repeat step 1 step 6 asking meaning life   \n",
       "280                                                                                                                                                         best game played yet good job steam   \n",
       "609                                                                                                                                                                    best game steam communty   \n",
       "604                                                                                       never written review playing 3 premier matches cheaters every single game never install advise people   \n",
       "11                                                                                                                                                                   good point click adventure   \n",
       "900                                                                                                                              game makes want rip skin living human slap ak47 free cool skin   \n",
       "768                                                                                                                                                                            game fun friends   \n",
       "\n",
       "       labels  \n",
       "230  Positive  \n",
       "491  Positive  \n",
       "235  Negative  \n",
       "706  Negative  \n",
       "280  Positive  \n",
       "609  Positive  \n",
       "604  Negative  \n",
       "11   Positive  \n",
       "900  Negative  \n",
       "768  Positive  "
      ]
     },
     "execution_count": 35,
     "metadata": {},
     "output_type": "execute_result"
    }
   ],
   "source": [
    "dataset.sample(10, random_state=10)"
   ]
  },
  {
   "cell_type": "code",
   "execution_count": 36,
   "id": "345b628d-3077-4122-be2a-0dd6d60b627b",
   "metadata": {
    "tags": []
   },
   "outputs": [
    {
     "name": "stdout",
     "output_type": "stream",
     "text": [
      "Requirement already satisfied: num2words in /Users/bagussatya/anaconda3/lib/python3.11/site-packages (0.5.13)\n",
      "Requirement already satisfied: docopt>=0.6.2 in /Users/bagussatya/anaconda3/lib/python3.11/site-packages (from num2words) (0.6.2)\n"
     ]
    }
   ],
   "source": [
    "!pip install num2words"
   ]
  },
  {
   "cell_type": "code",
   "execution_count": 37,
   "id": "36c1bb47-4ebb-41cb-8ce1-2991a0750512",
   "metadata": {
    "tags": []
   },
   "outputs": [],
   "source": [
    "from num2words import num2words\n",
    "from nltk.tokenize import sent_tokenize, word_tokenize "
   ]
  },
  {
   "cell_type": "code",
   "execution_count": 38,
   "id": "4f00c56f-4f45-4f56-9354-1585493e5e73",
   "metadata": {
    "tags": []
   },
   "outputs": [],
   "source": [
    "def convert_digits_to_words(text):\n",
    "    words = text.split()\n",
    "    converted_words = [num2words(word) if word.isdigit() else word for word in words]\n",
    "    converted_text = ' '.join(converted_words)\n",
    "    return converted_text"
   ]
  },
  {
   "cell_type": "code",
   "execution_count": 39,
   "id": "aff56e48-b1e9-40fc-8c8b-103f6eddbc56",
   "metadata": {
    "tags": []
   },
   "outputs": [],
   "source": [
    "numtoword = []\n",
    "for i in range(len(dataset)):\n",
    "    numtow = convert_digits_to_words(dataset.stopw[i])\n",
    "    numtoword.append(numtow)\n",
    "    \n",
    "dataset.insert(4, \"no_digit\", numtoword, True)"
   ]
  },
  {
   "cell_type": "code",
   "execution_count": 40,
   "id": "f57a3c0a-5868-4587-8d46-9cff3ee7d3ae",
   "metadata": {
    "tags": []
   },
   "outputs": [
    {
     "data": {
      "text/html": [
       "<div>\n",
       "<style scoped>\n",
       "    .dataframe tbody tr th:only-of-type {\n",
       "        vertical-align: middle;\n",
       "    }\n",
       "\n",
       "    .dataframe tbody tr th {\n",
       "        vertical-align: top;\n",
       "    }\n",
       "\n",
       "    .dataframe thead th {\n",
       "        text-align: right;\n",
       "    }\n",
       "</style>\n",
       "<table border=\"1\" class=\"dataframe\">\n",
       "  <thead>\n",
       "    <tr style=\"text-align: right;\">\n",
       "      <th></th>\n",
       "      <th>reviews</th>\n",
       "      <th>no_emoji</th>\n",
       "      <th>no_punc</th>\n",
       "      <th>stopw</th>\n",
       "      <th>no_digit</th>\n",
       "      <th>labels</th>\n",
       "    </tr>\n",
       "  </thead>\n",
       "  <tbody>\n",
       "    <tr>\n",
       "      <th>52</th>\n",
       "      <td>Best game, specially if ur a gorl, not sexest at all</td>\n",
       "      <td>Best game, specially if ur a gorl, not sexest at all</td>\n",
       "      <td>best game  specially if ur a gorl  not sexest at all</td>\n",
       "      <td>best game specially ur gorl not sexest</td>\n",
       "      <td>best game specially ur gorl not sexest</td>\n",
       "      <td>Positive</td>\n",
       "    </tr>\n",
       "    <tr>\n",
       "      <th>154</th>\n",
       "      <td>Cheater issue seems to be resolved. That's all i cared about. ty valve.</td>\n",
       "      <td>Cheater issue seems to be resolved. That's all i cared about. ty valve.</td>\n",
       "      <td>cheater issue seems to be resolved that is all i cared about ty valve</td>\n",
       "      <td>cheater issue seems resolved cared ty valve</td>\n",
       "      <td>cheater issue seems resolved cared ty valve</td>\n",
       "      <td>Positive</td>\n",
       "    </tr>\n",
       "    <tr>\n",
       "      <th>661</th>\n",
       "      <td>valve pls update anti cheat and ban these players</td>\n",
       "      <td>valve pls update anti cheat and ban these players</td>\n",
       "      <td>valve pls update anti cheat and ban these players</td>\n",
       "      <td>valve pls update anti cheat ban players</td>\n",
       "      <td>valve pls update anti cheat ban players</td>\n",
       "      <td>Negative</td>\n",
       "    </tr>\n",
       "    <tr>\n",
       "      <th>911</th>\n",
       "      <td>this game took over my life. dont play it</td>\n",
       "      <td>this game took over my life. dont play it</td>\n",
       "      <td>this game took over my life dont play it</td>\n",
       "      <td>game took life dont play</td>\n",
       "      <td>game took life dont play</td>\n",
       "      <td>Negative</td>\n",
       "    </tr>\n",
       "    <tr>\n",
       "      <th>476</th>\n",
       "      <td>This game is dangerous for the health and safety of my friends and those around them</td>\n",
       "      <td>This game is dangerous for the health and safety of my friends and those around them</td>\n",
       "      <td>this game is dangerous for the health and safety of my friends and those around them</td>\n",
       "      <td>game dangerous health safety friends around</td>\n",
       "      <td>game dangerous health safety friends around</td>\n",
       "      <td>Negative</td>\n",
       "    </tr>\n",
       "    <tr>\n",
       "      <th>813</th>\n",
       "      <td>Even though i suck ass, its pretty fun and i make money as well</td>\n",
       "      <td>Even though i suck ass, its pretty fun and i make money as well</td>\n",
       "      <td>even though i suck ass  its pretty fun and i make money as well</td>\n",
       "      <td>even though suck ass pretty fun make money well</td>\n",
       "      <td>even though suck ass pretty fun make money well</td>\n",
       "      <td>Positive</td>\n",
       "    </tr>\n",
       "    <tr>\n",
       "      <th>922</th>\n",
       "      <td>Cheaters Everywhere, don't play if you wanna have fun</td>\n",
       "      <td>Cheaters Everywhere, don't play if you wanna have fun</td>\n",
       "      <td>cheaters everywhere  donnot play if you wanna have fun</td>\n",
       "      <td>cheaters everywhere donnot play wanna fun</td>\n",
       "      <td>cheaters everywhere donnot play wanna fun</td>\n",
       "      <td>Negative</td>\n",
       "    </tr>\n",
       "    <tr>\n",
       "      <th>342</th>\n",
       "      <td>dont play, my friend is a case gambler</td>\n",
       "      <td>dont play, my friend is a case gambler</td>\n",
       "      <td>dont play  my friend is a case gambler</td>\n",
       "      <td>dont play friend case gambler</td>\n",
       "      <td>dont play friend case gambler</td>\n",
       "      <td>Negative</td>\n",
       "    </tr>\n",
       "    <tr>\n",
       "      <th>498</th>\n",
       "      <td>im going to kill myself in game\\r\\n</td>\n",
       "      <td>im going to kill myself in game\\r\\n</td>\n",
       "      <td>im going to kill myself in game</td>\n",
       "      <td>im going kill game</td>\n",
       "      <td>im going kill game</td>\n",
       "      <td>Negative</td>\n",
       "    </tr>\n",
       "    <tr>\n",
       "      <th>821</th>\n",
       "      <td>full of cheaters worst AC ever and trash matchmaking</td>\n",
       "      <td>full of cheaters worst AC ever and trash matchmaking</td>\n",
       "      <td>full of cheaters worst ac ever and trash matchmaking</td>\n",
       "      <td>full cheaters worst ac ever trash matchmaking</td>\n",
       "      <td>full cheaters worst ac ever trash matchmaking</td>\n",
       "      <td>Negative</td>\n",
       "    </tr>\n",
       "  </tbody>\n",
       "</table>\n",
       "</div>"
      ],
      "text/plain": [
       "                                                                                  reviews  \\\n",
       "52                                   Best game, specially if ur a gorl, not sexest at all   \n",
       "154               Cheater issue seems to be resolved. That's all i cared about. ty valve.   \n",
       "661                                     valve pls update anti cheat and ban these players   \n",
       "911                                             this game took over my life. dont play it   \n",
       "476  This game is dangerous for the health and safety of my friends and those around them   \n",
       "813                       Even though i suck ass, its pretty fun and i make money as well   \n",
       "922                                 Cheaters Everywhere, don't play if you wanna have fun   \n",
       "342                                                dont play, my friend is a case gambler   \n",
       "498                                                   im going to kill myself in game\\r\\n   \n",
       "821                                  full of cheaters worst AC ever and trash matchmaking   \n",
       "\n",
       "                                                                                 no_emoji  \\\n",
       "52                                   Best game, specially if ur a gorl, not sexest at all   \n",
       "154               Cheater issue seems to be resolved. That's all i cared about. ty valve.   \n",
       "661                                     valve pls update anti cheat and ban these players   \n",
       "911                                             this game took over my life. dont play it   \n",
       "476  This game is dangerous for the health and safety of my friends and those around them   \n",
       "813                       Even though i suck ass, its pretty fun and i make money as well   \n",
       "922                                 Cheaters Everywhere, don't play if you wanna have fun   \n",
       "342                                                dont play, my friend is a case gambler   \n",
       "498                                                   im going to kill myself in game\\r\\n   \n",
       "821                                  full of cheaters worst AC ever and trash matchmaking   \n",
       "\n",
       "                                                                                  no_punc  \\\n",
       "52                                   best game  specially if ur a gorl  not sexest at all   \n",
       "154                 cheater issue seems to be resolved that is all i cared about ty valve   \n",
       "661                                     valve pls update anti cheat and ban these players   \n",
       "911                                              this game took over my life dont play it   \n",
       "476  this game is dangerous for the health and safety of my friends and those around them   \n",
       "813                       even though i suck ass  its pretty fun and i make money as well   \n",
       "922                                cheaters everywhere  donnot play if you wanna have fun   \n",
       "342                                                dont play  my friend is a case gambler   \n",
       "498                                                       im going to kill myself in game   \n",
       "821                                  full of cheaters worst ac ever and trash matchmaking   \n",
       "\n",
       "                                               stopw  \\\n",
       "52            best game specially ur gorl not sexest   \n",
       "154      cheater issue seems resolved cared ty valve   \n",
       "661          valve pls update anti cheat ban players   \n",
       "911                         game took life dont play   \n",
       "476      game dangerous health safety friends around   \n",
       "813  even though suck ass pretty fun make money well   \n",
       "922        cheaters everywhere donnot play wanna fun   \n",
       "342                    dont play friend case gambler   \n",
       "498                               im going kill game   \n",
       "821    full cheaters worst ac ever trash matchmaking   \n",
       "\n",
       "                                            no_digit    labels  \n",
       "52            best game specially ur gorl not sexest  Positive  \n",
       "154      cheater issue seems resolved cared ty valve  Positive  \n",
       "661          valve pls update anti cheat ban players  Negative  \n",
       "911                         game took life dont play  Negative  \n",
       "476      game dangerous health safety friends around  Negative  \n",
       "813  even though suck ass pretty fun make money well  Positive  \n",
       "922        cheaters everywhere donnot play wanna fun  Negative  \n",
       "342                    dont play friend case gambler  Negative  \n",
       "498                               im going kill game  Negative  \n",
       "821    full cheaters worst ac ever trash matchmaking  Negative  "
      ]
     },
     "execution_count": 40,
     "metadata": {},
     "output_type": "execute_result"
    }
   ],
   "source": [
    "dataset.sample(10, random_state=45)"
   ]
  },
  {
   "cell_type": "code",
   "execution_count": 41,
   "id": "1ff9ef04-974a-443a-9aa4-67c7e2a48bf9",
   "metadata": {
    "tags": []
   },
   "outputs": [],
   "source": [
    "# from textblob import TextBlob\n",
    "\n",
    "# def correct_spelling(text):\n",
    "#     corrected_text = str(TextBlob(text).correct())\n",
    "#     return corrected_text"
   ]
  },
  {
   "cell_type": "code",
   "execution_count": 42,
   "id": "f6c395b1-ac0b-4e76-8424-733ede3230ee",
   "metadata": {
    "tags": []
   },
   "outputs": [],
   "source": [
    "# fixtypo = []\n",
    "# for i in range(len(dataset)):\n",
    "#     typo = correct_spelling(dataset.no_digit[i])\n",
    "#     fixtypo.append(typo)\n",
    "    \n",
    "# dataset.insert(5, \"no_typo\", fixtypo, True)"
   ]
  },
  {
   "cell_type": "code",
   "execution_count": 43,
   "id": "e5ba669d-a1f9-4669-83a3-b57c0ddfc97f",
   "metadata": {
    "tags": []
   },
   "outputs": [],
   "source": [
    "# uniqueWords2 = list(set(\" \".join(dataset['no_typo']).split(\" \")))\n",
    "# count2 = len(uniqueWords2)\n",
    "# count2"
   ]
  },
  {
   "cell_type": "code",
   "execution_count": 51,
   "id": "23afe410-dfb0-4b75-a3b5-8e9d8a6302c0",
   "metadata": {
    "tags": []
   },
   "outputs": [],
   "source": [
    "import spacy\n",
    "\n",
    "# Load the spaCy model\n",
    "nlp = spacy.load(\"en_core_web_sm\")\n",
    "\n",
    "# Function to lemmatize text\n",
    "def lemmatize_text_spacy(text):\n",
    "    doc = nlp(text)\n",
    "    lemmatized_text = ' '.join([token.lemma_ for token in doc])\n",
    "    return lemmatized_text"
   ]
  },
  {
   "cell_type": "code",
   "execution_count": 57,
   "id": "4aef8ea7-5799-49db-af46-8ae72580ef31",
   "metadata": {
    "tags": []
   },
   "outputs": [],
   "source": [
    "lemmas = []\n",
    "for i in range(len(dataset)):\n",
    "    lemma = lemmatize_text_spacy(dataset.no_digit[i])\n",
    "    lemmas.append(lemma)\n",
    "    \n",
    "dataset.insert(5, \"lemma\", lemmas, True)"
   ]
  },
  {
   "cell_type": "code",
   "execution_count": 59,
   "id": "72348970-8af5-495f-b63f-1845b3ed4b69",
   "metadata": {
    "tags": []
   },
   "outputs": [
    {
     "data": {
      "text/html": [
       "<div>\n",
       "<style scoped>\n",
       "    .dataframe tbody tr th:only-of-type {\n",
       "        vertical-align: middle;\n",
       "    }\n",
       "\n",
       "    .dataframe tbody tr th {\n",
       "        vertical-align: top;\n",
       "    }\n",
       "\n",
       "    .dataframe thead th {\n",
       "        text-align: right;\n",
       "    }\n",
       "</style>\n",
       "<table border=\"1\" class=\"dataframe\">\n",
       "  <thead>\n",
       "    <tr style=\"text-align: right;\">\n",
       "      <th></th>\n",
       "      <th>reviews</th>\n",
       "      <th>no_emoji</th>\n",
       "      <th>no_punc</th>\n",
       "      <th>stopw</th>\n",
       "      <th>no_digit</th>\n",
       "      <th>lemma</th>\n",
       "      <th>labels</th>\n",
       "    </tr>\n",
       "  </thead>\n",
       "  <tbody>\n",
       "    <tr>\n",
       "      <th>230</th>\n",
       "      <td>The game is fun. However there can be players who take it too seriously. They lack consideration for beginners.</td>\n",
       "      <td>The game is fun. However there can be players who take it too seriously. They lack consideration for beginners.</td>\n",
       "      <td>the game is fun however there can be players who take it too seriously they lack consideration for beginners</td>\n",
       "      <td>game fun however players take seriously lack consideration beginners</td>\n",
       "      <td>game fun however players take seriously lack consideration beginners</td>\n",
       "      <td>game fun however player take seriously lack consideration beginner</td>\n",
       "      <td>Positive</td>\n",
       "    </tr>\n",
       "    <tr>\n",
       "      <th>491</th>\n",
       "      <td>Russians are really nice in this game. 👍</td>\n",
       "      <td>Russians are really nice in this game.</td>\n",
       "      <td>russians are really nice in this game</td>\n",
       "      <td>russians really nice game</td>\n",
       "      <td>russians really nice game</td>\n",
       "      <td>russians really nice game</td>\n",
       "      <td>Positive</td>\n",
       "    </tr>\n",
       "    <tr>\n",
       "      <th>235</th>\n",
       "      <td>From the May 23rd 2024 Update:\\n\\n[ CHICKENS ]\\nChickens have a few new animations\\nChickens can now walk up hills\\nChickens can now turn right while walking\\n\\nValve added a fucking chicken update before they added a functioning Anti-Cheat. I can't even make this shit up.</td>\n",
       "      <td>From the May 23rd 2024 Update:\\n\\n[ CHICKENS ]\\nChickens have a few new animations\\nChickens can now walk up hills\\nChickens can now turn right while walking\\n\\nValve added a fucking chicken update before they added a functioning Anti-Cheat. I can't even make this shit up.</td>\n",
       "      <td>from the may 23rd 2024 update   chickens  chickens have a few new animations chickens can now walk up hills chickens can now turn right while walking  valve added a fucking chicken update before they added a functioning anticheat i cannot even make this shit up</td>\n",
       "      <td>may 23rd 2024 update chickens chickens new animations chickens walk hills chickens turn right walking valve added fucking chicken update added functioning anticheat cannot even make shit</td>\n",
       "      <td>may 23rd two thousand and twenty-four update chickens chickens new animations chickens walk hills chickens turn right walking valve added fucking chicken update added functioning anticheat cannot even make shit</td>\n",
       "      <td>may 23rd two thousand and twenty - four update chicken chicken new animation chicken walk hill chicken turn right walk valve add fucking chicken update add functioning anticheat can not even make shit</td>\n",
       "      <td>Negative</td>\n",
       "    </tr>\n",
       "    <tr>\n",
       "      <th>706</th>\n",
       "      <td>Step 1: install the game\\nStep 2: Start a game\\nStep 3: lose the game\\nStep 4: uninstall the game\\nStep 5: repeat step 1\\nStep 6: asking for the meaning of life</td>\n",
       "      <td>Step 1: install the game\\nStep 2: Start a game\\nStep 3: lose the game\\nStep 4: uninstall the game\\nStep 5: repeat step 1\\nStep 6: asking for the meaning of life</td>\n",
       "      <td>step 1 install the game step 2 start a game step 3 lose the game step 4 uninstall the game step 5 repeat step 1 step 6 asking for the meaning of life</td>\n",
       "      <td>step 1 install game step 2 start game step 3 lose game step 4 uninstall game step 5 repeat step 1 step 6 asking meaning life</td>\n",
       "      <td>step one install game step two start game step three lose game step four uninstall game step five repeat step one step six asking meaning life</td>\n",
       "      <td>step one install game step two start game step three lose game step four uninstall game step five repeat step one step six ask mean life</td>\n",
       "      <td>Negative</td>\n",
       "    </tr>\n",
       "    <tr>\n",
       "      <th>280</th>\n",
       "      <td>Best game i played yet good job steam!</td>\n",
       "      <td>Best game i played yet good job steam!</td>\n",
       "      <td>best game i played yet good job steam</td>\n",
       "      <td>best game played yet good job steam</td>\n",
       "      <td>best game played yet good job steam</td>\n",
       "      <td>good game play yet good job steam</td>\n",
       "      <td>Positive</td>\n",
       "    </tr>\n",
       "  </tbody>\n",
       "</table>\n",
       "</div>"
      ],
      "text/plain": [
       "                                                                                                                                                                                                                                                                               reviews  \\\n",
       "230                                                                                                                                                                    The game is fun. However there can be players who take it too seriously. They lack consideration for beginners.   \n",
       "491                                                                                                                                                                                                                                           Russians are really nice in this game. 👍   \n",
       "235  From the May 23rd 2024 Update:\\n\\n[ CHICKENS ]\\nChickens have a few new animations\\nChickens can now walk up hills\\nChickens can now turn right while walking\\n\\nValve added a fucking chicken update before they added a functioning Anti-Cheat. I can't even make this shit up.   \n",
       "706                                                                                                                   Step 1: install the game\\nStep 2: Start a game\\nStep 3: lose the game\\nStep 4: uninstall the game\\nStep 5: repeat step 1\\nStep 6: asking for the meaning of life   \n",
       "280                                                                                                                                                                                                                                             Best game i played yet good job steam!   \n",
       "\n",
       "                                                                                                                                                                                                                                                                              no_emoji  \\\n",
       "230                                                                                                                                                                    The game is fun. However there can be players who take it too seriously. They lack consideration for beginners.   \n",
       "491                                                                                                                                                                                                                                            Russians are really nice in this game.    \n",
       "235  From the May 23rd 2024 Update:\\n\\n[ CHICKENS ]\\nChickens have a few new animations\\nChickens can now walk up hills\\nChickens can now turn right while walking\\n\\nValve added a fucking chicken update before they added a functioning Anti-Cheat. I can't even make this shit up.   \n",
       "706                                                                                                                   Step 1: install the game\\nStep 2: Start a game\\nStep 3: lose the game\\nStep 4: uninstall the game\\nStep 5: repeat step 1\\nStep 6: asking for the meaning of life   \n",
       "280                                                                                                                                                                                                                                             Best game i played yet good job steam!   \n",
       "\n",
       "                                                                                                                                                                                                                                                                   no_punc  \\\n",
       "230                                                                                                                                                           the game is fun however there can be players who take it too seriously they lack consideration for beginners   \n",
       "491                                                                                                                                                                                                                                 russians are really nice in this game    \n",
       "235  from the may 23rd 2024 update   chickens  chickens have a few new animations chickens can now walk up hills chickens can now turn right while walking  valve added a fucking chicken update before they added a functioning anticheat i cannot even make this shit up   \n",
       "706                                                                                                                  step 1 install the game step 2 start a game step 3 lose the game step 4 uninstall the game step 5 repeat step 1 step 6 asking for the meaning of life   \n",
       "280                                                                                                                                                                                                                                  best game i played yet good job steam   \n",
       "\n",
       "                                                                                                                                                                                          stopw  \\\n",
       "230                                                                                                                        game fun however players take seriously lack consideration beginners   \n",
       "491                                                                                                                                                                   russians really nice game   \n",
       "235  may 23rd 2024 update chickens chickens new animations chickens walk hills chickens turn right walking valve added fucking chicken update added functioning anticheat cannot even make shit   \n",
       "706                                                                step 1 install game step 2 start game step 3 lose game step 4 uninstall game step 5 repeat step 1 step 6 asking meaning life   \n",
       "280                                                                                                                                                         best game played yet good job steam   \n",
       "\n",
       "                                                                                                                                                                                                               no_digit  \\\n",
       "230                                                                                                                                                game fun however players take seriously lack consideration beginners   \n",
       "491                                                                                                                                                                                           russians really nice game   \n",
       "235  may 23rd two thousand and twenty-four update chickens chickens new animations chickens walk hills chickens turn right walking valve added fucking chicken update added functioning anticheat cannot even make shit   \n",
       "706                                                                      step one install game step two start game step three lose game step four uninstall game step five repeat step one step six asking meaning life   \n",
       "280                                                                                                                                                                                 best game played yet good job steam   \n",
       "\n",
       "                                                                                                                                                                                                        lemma  \\\n",
       "230                                                                                                                                        game fun however player take seriously lack consideration beginner   \n",
       "491                                                                                                                                                                                 russians really nice game   \n",
       "235  may 23rd two thousand and twenty - four update chicken chicken new animation chicken walk hill chicken turn right walk valve add fucking chicken update add functioning anticheat can not even make shit   \n",
       "706                                                                  step one install game step two start game step three lose game step four uninstall game step five repeat step one step six ask mean life   \n",
       "280                                                                                                                                                                         good game play yet good job steam   \n",
       "\n",
       "       labels  \n",
       "230  Positive  \n",
       "491  Positive  \n",
       "235  Negative  \n",
       "706  Negative  \n",
       "280  Positive  "
      ]
     },
     "execution_count": 59,
     "metadata": {},
     "output_type": "execute_result"
    }
   ],
   "source": [
    "dataset.sample(5, random_state=10)"
   ]
  },
  {
   "cell_type": "code",
   "execution_count": 60,
   "id": "7b9a1e72-39c1-42cd-ad99-03c74a58576f",
   "metadata": {
    "tags": []
   },
   "outputs": [
    {
     "data": {
      "text/plain": [
       "2547"
      ]
     },
     "execution_count": 60,
     "metadata": {},
     "output_type": "execute_result"
    }
   ],
   "source": [
    "uniqueWords3 = list(set(\" \".join(dataset['lemma']).split(\" \")))\n",
    "count3 = len(uniqueWords3)\n",
    "count3"
   ]
  },
  {
   "cell_type": "code",
   "execution_count": 62,
   "id": "015762e2-239f-41d4-a5b9-016672645852",
   "metadata": {
    "tags": []
   },
   "outputs": [
    {
     "name": "stdout",
     "output_type": "stream",
     "text": [
      "['', 'aside', 'iam', 'product', 'grow', '’', 'afford', 'skin', 'assist', 'delete', 'three', 'dust2', 'awsome', 'rpg', 'doent', 'imposeble', 'smash', 'permire', 'didnnot', 'negev', 'oωo', 'kerosene', 'btw', 'assylum', 'causal', 'wh', 'watch', 'quiti', 'casual', 'butta', 'shooter', 'straight', 'trusty', 'mass', 'blast', 'pure', 'aimbot', 'nervewracke', 'highfidelity', 'overalll', 'red', 'die', 'degenerate', 'bleed', 'moscow', 'whore', 'edge', 'dlc', 'racism', 'l', 'jeez', 'owner', 'hasnnot', 'wanna', 'fit', 'appear', 'crash', 'trashtalke', 'blatant', 'wtf', 'incident', 'live', 'valveso', 'proper', 'recoil', 'inferior', 'push', 'seem', 'fire', 'sad', 'dis', 'group', 'ceiling', 'resault', 'relatable', 'scource', 'edger', 'without', 'boggle', 'teamate', 'fail', 'drama', 'hit', 'conclusion', 'coffin', 'expectation', 'precision', 'consider', 'lake', 'balancing', 'language', 'overt', 'huge', 'becouse', 'shite', 'find', 'amaze', 'teach', 'inte', 'scream', 'hook', 'organism', 'spambotte', 'revenue', 'versus', '\"', 'evolution', 'bike', 'resonate', 'patch', 'prevent', 'try', 'impact', 'joy', 'really', 'another', 'idont', 'slide', 'couple', 'cancerstill', 'fantastic', 'flashed', 'ia', 'passion', 'issue', 'whoever', 'preference', 'awkward', 'perception', 'low', 'application', 'prey', 'downgrade', 'release', 'horrible', 'keyboard', 'cell', 'we', 'dislike', 'stunning', 'addicted', 'diameter', 'unranked', 'use', 'surrender', 'wayy', 'autist', 'hardware', 'animation', 'evolve', 'ten', 'no', 'yeah', 'winning', 'damn', 'amount', 'competetive', 'sake', 'general', 'anticheate', 'warnet', 'poop', 'english', 'tamper', 'combine', 'lack', 'either', 'respawn', 'reviewer', 'funy', 'plus', 'laggy', 'retard', 'five', 'cost', 'theire', 'safe', 'enemy', 'carry', 'encounter', 'corner', 'sort', 'cronic', 'download', 'awesome', 'detect', 'september', 'tired', 'compelling', 'swarm', 'tac', 'pack', 'rush', 'quickchat', 'becuse', 'constantly', 'ranking', 'cosmetic', 'resource', 'year', 'message', 'fucker', 'teamwork', 'mac10', 'appeal', 'explosive', 'soda', 'solo', 'yet', 'strange', 'thrive', 'school', 'possible', 'headache', 'rip', 'heavily', 'vacnet', 'strong', 'sister', 'thirteen', 'currently', 'froitrend', 'premium', 'thousand', 'definetly', 'okay', 'vote', 'blame', 'nonprime', 'correct', 'betwean', 'putin', 'provide', 'face', 'addiction', 'back', 'griefe', 'mouse', 'fvck', 'goate', ',', 'prediction', 'bro', 'playable', 'spoil', 'anticheat', 'fk1010', 'strategy', 'childhood', 'computer', 'old', 'plan', 'somalia', 'case', 'criticism', 'spin', 'hop', 'franchise', 'early', 'way', 'oven', 'doubt', 'account', 'scope', 'compare', 'fluent', 'app', 'ez', 'favourite', 'exceptionally', 'ground', 'lyuta', 'therapy', 'quantum', 'lifeless', 'thumb', 'implement', 'totally', 'dingus', 'sucksssss', 'cogo', 'will', 'flew', 'csgo', 'dull', 'number', 'lvl8', 'disgusting', 'aswell', 'function', 'return', 'polite', 'deliver', 'help', 'russians', 'sweede', 'bore', 'cry', 'screech', 'weapon', 'bum', 'intreste', 'normal', 'though', 'purposely', 'model', 'bs', 'court', 'secondslike', 'downfall', 'score', 'idiot', 'intel', 'opponent', 'gain', 'toxicity', 'integrity', 'designer', 'funny', 'mm', 'manage', 'today', 'host', 'accommodate', 'tab', 'perfectly', 'friendly', 'element', 'silver', 'ole', 'ignore', 'poor', 'absolutely', 'anywhere', 'value', 'hour', 'httpssteamcommunitycomtradeoffernewpartner1717090374tokent0kqjqsw', 'setup', 'proplayer', 'go', 'wonder', 'imba', 'lower', 'small', 'bullshit', 'content', 'horribly', 'gamers9', 'fill', 'eat', 'shadow', 'read', '23rd', 'amuse', 'sell', 'hrs', 'occur', 'haha', 'benchmark', 'resort', 'ttt', 'stoop', 'irl', 'adrenaline', 'stick', 'vrery', 'pocket', 'turk', 'company', 'alittle', 'cs2my', 'peaceful', 'house', 'gloat', 'strafe', 'noe', 'file', 'wife', 'mad', 'vegas', 'actual', 'home', 'late', 'neighbour', 'communication', 'incoming', 'tournament', 'ex', 'also', 'malware', 'notebook', 'predator', 'block', 'stitch', 'brazilian', 'approve', 'quintessential', 'optimazed', 'trash', 'date', 'garbige', 'ow', 'dirty', 'elsewherebut', 'garota', 'spirritt', 'headacheinduce', 'head', 'wow', 'chat', 'death', 'hundred', 'thereof', 'odd', 'continous', 'haverschlimmbessern', 'crossing', 'simple', 'exact', 'crazy', 'develop', 'matchmake', 'bougth', 'hoursit', 'atmosphere', 'specially', 'shitty', 'shart', 'servers', 'bureaucratically', 'mate', 'top', 'month', 'health', 'right', 'cereal', 'within', 'former', 'raise', 'overuse', 'gb', 'theme', 'cash', 'full', 'pewpewpewpew', 'tickrate', 'nahspend', 'profitable', 'realism', 'scamme', 'complain', 'design', 'lose', 'round', 'graphical', 'hear', 'dime', 'rewquire', 'till', 'immersive', 'hooked', 'graphic', 'grass', 'fictional', 'hard', 'havennot', 'alone', 'sand', 'profile', 'must', 'furrie', 'like', 'veteran', 'mom', 'situation', 'placement', 'lazy', 'humilation', 'usage', 'save', 'crawl', 'litteral', 'eleven', 'adult', 'site', 'easy', 'generation', 'm', 'awp', 'overhaul', 'anytime', 'cute', 'vac', 'dumb', 'become', 'league', 'regardless', 'assessment', 'frequently', 'money', 'destroy', 'history', 'nga', 'whether', 'galore', 'mode', 'noninvasive', 'slip', 'con', 'pass', 'black', 'punish', 'dongus', 'graphically', 'drop', 'kidnap', 'development', 'earth', 'rude', 'devs', 'party', 'alot', 'jegamister', 'tick', 'despite', 'surefire', 'pls', 'create', 'repeatedly', 'blantant', '—', 'seventy', 'waller', 'lol', 'something', 'snope', 'rereview', 'strength', 'scalp', 'hack', 'potential', 'subtick', 'wide', 'rid', 'azz', 'scrap', 'experience6', 'sim', 'popping', 'becose', 'gaslit', 'boy', 'preschooler', 'among', 'enjoyment', 'everywhere', 'going', 'make', 'buck', 'existence', '’s', 'adiction', 'hobby', 'broken', 'xe', 'man', 'spectate', 'lmao', 'favor', 'acceptable', 'russia', 'perhaps', 'laptop', 'hope', 'ig', 'master', 'wonnot', 'rekt', 'guardian', 'discover', 'grahic', 'speedrun', 'fourteen', 'toxin', 'dumpster', 'kill', 'video', 'depresion', 'frustrating', 'playability', 'pointless', 'defusal', 'clerk', 'clap', 'veri', 'free', 'handle', 'valve', 'mac', 'epitome', 'limited', 'coordinate', 'rlly', 'stress', 'scale', 'brother', 'idk', 'buy', 'sanity', 'sector', 'everything', 'explain', 'credit', 'war', 'tolerant', 'upgrade', 'duolingo', 'bother', 'restrict', 'shallow', 'reflex', 'helpful', 'paytowin', 'remove', 'cyberbullie', 'asshole', 'spend', 'fing', '҉', 'steer', 'happeningand', 'self', 'timeout', 'foster', 'wingman', 't', 'access', 'cooperation', 'minor', 'all', 'linux', 'steam', 'send', 'one', 'super', 'start', 'insult', 'll', 'detail', 'wish', '16v16', 'fanboy', 'inalready', 'auggh', 'calm', 'age', 'people', 'interaction', 'careless', 'count', 'basement', 'alzheimer', 'bra', 'kaiser', 'dollar', 'state', 'religionrecommende', 'decompose', 'reunion', 'pro', 'thatcounterstrike', 'later', 'feat', 'warn', 'player', 'shi', 'less', 'plenty', 'mean', 'whereas', 'install', 'showdown', 'assumption', 'light', 'jailbreak', 'write', 'overate', 'tea', 'killer', 'bottle', 'screw', 'error', 'mindless', 'travesty', 'tetris', 'depress', 'freak', 'verry', 'alienware', 'honestly', 'cpu', 'next', 'close', 'crypto', 'comprehension', 'crippling', 'garbo', 'tho', 'dope', 'maybe', 'idea', 'essentially', '£', 'punch', 'form', 'accidently', 'global', 'iris', 'op', 'cooldown', 'immediately', 'framerate', 'gona', 'shithead', 'evening', 'mirage', 'additional', 'resolution', 'dogshite', 'feeling', 'rotation', 'officially', 'noobstick', 'functioning', '6th', 'update', 'glad', 'slap', 'countersstrike', 'saving', 'peacefull', 'bully', 'daily', 'knife', 'cuttingedge', 'gather', 'surprised', 'kms', 'peekingalso', 'skill', 'therapist', 'shield', 'officialy', 'around', 'vaclive', 'everygame', 'taint', 'counterstrike', 'standard', 'camaraderie', 'love', 'weather', 'shii', 'monitor', 'diminish', 'planet', 'enjoy', 'country', 'loved', 'disaster', 'cheater', 'recomand', 'glitchy', 'separate', 'line', 'concept', 'able', 'battery', 'useful', 'f', 'done', 'stack', 'c', 'bland', 'fidn', 'paywall', 'depth5', 'kernel', 'along', 'sweet', 'imbalance', 'tactic', 'require', 'water', 'sniper', 'somehow', '4th', 'ramp', 'obvious', 'impossible', 'away', 'screen', 'achieve', 'gamma', 'since', 'faceit', 'shoot', 'wave', 'bug', 'ready', 'subject', 'cringe', 'unreal', 'diffrent', 'adddicte', 'grandma', 'navigate', 'fps', 'strike', 'gap', 'dog', 'automatic', 'achievement', 'seriously', 'duel', 'kid', 'detection', 'subscription', 'forget', 'four', 'banter', 'reconnect', 'chair', 'shot', 'beginner', 'learn', 'pull', 'tha', 'even', 'mush', 'botting', 'ukraine', 'jesus', 'least', 'amazing', 'tker', 'frequent', 'crap', 'tomorrow', 'glare', 'outnumber', 'fairget', 'recent', 'comunity', 'browser', 'nonsense', 'repeat', 'legitimate', 'pain', '13yobut', 'art', 'cozy', 'good', 'glove', 'focus', 'yea', 'feature', 'brilliant', 'supportive', 'outplay', 'grab', 'child', 'quick', 'future', 'asap', 'thx', 'cheaterseat', 'waste', 'anyways', 'step', 'grand', 'satisfied', 'infest', 'variety', 'wifi', 'cooli', 'ak', 'unironically', 'extreme', 'dmg', 'ptsd', 'instal', 'itand', 'run', 'potato', 'enough', 'drunk', 'pile', 'tactically', 'recommend', 'anymore', 'teammate', 'chalk', 'dry', 'leg', '400fps', 'gold', 'appealing2', 'side', 'creativity', 'fact', 'understand', 'burp', 'adventure', 'want', 'load', 'experience', 'trip', 'tap', 'many', 'sh1', 'val', 'clue', 'week', 'vertigo', 'individually', 'boat', 'look', 'coin', 'unbelievable', 'quite', 'r6', 'snipe', 'apparently', 'shit', '7day', 'disabled', 'nword', 'relevant', 'workaround', 'large', 'belief', 'not', 'angry', 'dikhed', 'properly', 'new', 'tight', 'fr', 'performance', 'scene', 'horde', 'tower', 'hype', 'volumetric', 'expect', 'b', 'slay', 'essential', 'important', 'decide', 'mother', 'time', 'dropping', 'anti', 'shtpit', 'mix', 'milk', 'influx', 'infamously', 'wrong', 'attention', 'instead', 'slave', 'shape', '4000hrs', 'r', 'distroye', 'addicting', 'remember', 'everywherewith', 'mega', 'high', 'unpredictable', 'range', 'status', 'fireeee', 'wallet', 'rescue', 'physics', 'spinbotte', 'minute', 'everytime', 'minigame', 'soundtrack', 'afk', 'russian', 'boring', 'little', 'trouble', 'dynamic', 'meet', 'sh0urikk', 'lag', 'hostage', 'upset', 'came', 'honour', 'masterclass', 'job', 'significant', 'might', 'fresh', 'closet', 'noone', 'cool', 'reach', 'quit', 'roblox', 'redefine', 'needs', 'ever', 'penalise', 'neck', 'sit', 'dangerous', 'press', 'game1010', 'figure', 'billion', 'stressful', 'user', 'sweatthis', 'narrative', 'god', 'genuine', 'smurfer', 'sec', 'girl', 'campaign', 'relatively', 'loss', 'address', 'fast', 'dip', 'relation', 'musch', 'receive', 'proceed', 'glitchi', 'fight', 'very', 'power', 'unable', 'neither', 'weak', 'spray', 'etc', 'heck', 'organ', 'sv', 'however', 'players4', 'previous', 'oh', 'addictive', 'timeless', 'total', 'opening', 'long', 'laugh', 'litterly', 'connect', 'experienced', 'texture', 'eighty', 'epic', 'inch', 'disk', 'ninety', 'aweseme', 'surfing', 'disappoint', 'elo', 'arm', 'speak', 'touch', 'kicking', 'socialize', 'flourish', 'inclined', 'очи', 'terrible', '•̀•́п', 'gmod', 'premade', 'gk', 'version', 'ppl', 'box', 'everyone', 'genre', 'gamer', 'consideration', 'connection', 'enable', 'major', '14900k', 'may', 'e', 'homelessness', 'similar', 'solid', 'wet', 'deal', 'opaque', 'outdated', 'ainnot', 'audience10', 'slow', 'loose', 'constant', 'cs2', 'bust', 'spectator', 'can', 'testosterone', 'honest', 'gamemode', 'bear', 'see', 'victory', 'unless', 'view', 'fpsshooter', 'innovative', 'awful', 'nicer', 'ultimately', 'hell', 'motor', 'scout', 'farmer', 'mentalhealth', 'playng', 'almost', 'virtual', 'local', 'conter', 'relelease', 'common', 'studio', 'firstperson', 'bc', 'rank', 'rig', 'name', 'blow', 'dosennot', 'stuff', 'quickly', 'simmilar', 'innovation', 'turkish', 'trust', 'pick', 'miss', 'interest', 'whatever', 'deagle', 'macos', 'take', 'poo', 'generate', 'rampant', 'bot', 'developer', 'quality', 'getting', 'option', 'musslim', 'meme', 'dopamine', 'set', 'think', 'robot', 'great', 'statistic', 'positive', 'two', 've', 'speed', 'list', 'insane', 'toxic', 'dish', 'reccomend', 'perform', 'french', 'fcke', 'lanciao', 'core', 'chase', 'gradual', 'wildfire', 'suck', 'slur', '1k', 'plz', 'stomach', 'iconic', 'unfornately', 'true', 'clear', 'lighting', 'hey', 'regulate', 'tf', 'put', 'ita', 'gaming', 'braincell', 'youth', 'yes', 'sure', 'lan', 'balanced', 'turn', 'script', 'second', 'facility', 'position', 'endless', 'offensive', 'exciting', 'headshoted', 'nap', 'reference', 'layout', 'favorite', 'finally', 'especially', 'formula', 'retarded', 'pair', 'bucha', 'bouhght', 'chicken', 'hehe', 'classic', 'diabete', 'gush', 'report', 'win', 'ass', 'wait', 'greedy', 'purpose', 'comfortable', 'policy', 'night', 'day', 'bring', 'dualingo', 'anyway', 'son', 'support', 'wery', 'symptom', 'mostly', 'stale', 'song', 'uwu', 'extremely', 'comment', 'griefer', 'refund', 'togheter', 'legacy', 'wasnnot', 'father', 'and', 'popup', 'fuss', 'unpunished', 'rubbish', 'tilt', 'parent', 'worth', 'incorporate', 'agsint', 'loud', 'extravagant', 'dumbass', 'rather', 'something2', 'therefore', 'coat', 'vr', 'align', 'front', 'wimpy', 'ingame', 'consume', 'customer', 'educational', 'desperately', 'copoy', 'que', 'malfunctioning', 'hall', 'tindr', 'bang', 'say', 'exploit', 'couldnot', 'pleasure', 'cuz', 'leap', 'headshote', 'molotove', 'rage', 'recemend', 'fun', 'suicidal', 'bunny', 'soo', 'pink', 'except', 'care', 'ping', 'saturate', 'crayon', 'dissapointe', 'multiple', '15k', 'middle', 'devolve', 'randomly', 'whatnot', 'chinese', 'bit', 'to', 'guess', 'near', 'additionally', 'itwould', 'occasional', 'ponder', 'cursor', 'bish', 'competitively', 'unbalance', 'distance', 'beautiful', 'noice', 'rifle', 'term8', 'neoxa', 'foot', 'generally', 'overwatch', 'feel', 'voice', 'genocide', 'sophisticate', 'technical', 'moment', 'gameotherwise', 'butterfly', 'pcgamesteamverify', 'bitch', 'tool', 'happen', 'chance', 'lock', 'brain', 'server', 'cod', 'backshotte', 'moderate', 'usuali', 'incredibly', 'action', 'counter', 'notification', 'pole', '14', 'lucky', 'thsi', 'csgo2', 'clip', 'pattern', '-', 'whatsoever', 'false', 'expirience', 'gabe', 'environment', 'cheat', '3k', 'suddenly', 'pew', 'still', '5v5', 'diff', 'sigma', 'other', 'policecs2', 'nothing', 'cough', 'spare', 'installation', 'recently', 'spell', 'abt', 'six', 'ride', 'uninstalle', 'whenever', 'buggy', 'genuinely', 'dead', 'substance', 'gay', 'reason', 'patient', 'freeze', 'toolsweapon', 'dedicated', 'pathetic', 'slowly', 'embarrassing', 'tweak', 'greate', 'thankful', 'ur', 'anyone', 'spelling', 'smoke', 'peapole', 'hr', 'crackcrackcrackcrack', 'tolerance', 'leave', 'port', 'double', 'rn', 'abnoxious', 'nerve', 'stp', 'decently', 'expensive', 'las', 'ty', 'brr', 'specie', 'inbreed', 'convince', 'get', '20k', 'comparisan', 'worry', 'molotov', 'I', 'white', 'hate', 'gyat', '0ne', 'fuck', 'rusian', 'lawyer', 'ac', 'rarely', 'telling', 'wall', 'twenty', 'dick', 'struggle', 'spawn', 'unfortunately', 'deter', 'bright', 'eastern', 'stir', 'offer', 'add', 'cast', 'unban', 'objective', 'beta', 'review', 'minimizes', 'accept', 'gamble', 'enviroment', 'ruin', 'avoid', 'advice', 'accuracy', 'heaven', 'custom', 'est', 'hardearne', 'study', 'playerbase', 'finelytune', 'google', 'heart', 'hidden', 'curve', 'drastically', 'end', 'goodbut', 'bloodmuch', 'cause', 'mic', 'nostalgic', 'cancel', 'replace', 'darkest', 'nausea', 'stylish', 'offline', 'cheaterspacket', 'games', 'risk', 'tbh', 'kewl', 'increase', 'pary', 'longtime', 'smg', 'effective', 'internal', 'part', 'ensure', 'baby', 'towards', 'duper', 'active', 'perfect', 'lot', 'understanding', 'rise', 'earthquake', 'fuckin', 'thirty', 'stuck', 'urge', 'requirement', 'hacker', 'oldie', 'reinstall', 'addition', 'overwhelming', 'cup', 'upon', 'thump', 'steep', 'regard', 'tug', 'prime', 'queue', 'rich', 'leader', 'first', 'gang', 'sequel', 'conduct', 'complete', 'there', 'heavy', 'crisis', 'destine', 'jump', 'competitibr', 'opportunity', 'romance', 'hand', 'unlock', 'enoght', 'challange', 'matchmaking', 'yell', 'balense', 'notta', 'plagued', 'talk', 'invest', 'optimization', 'automatically', 'cloud', 'barn', 'suit', 'rust', 'excellence', 'sound', 'ad', 'direction', 'flipping', 'type', 'wallhacker', 'tactical', 'paramount', 'nostalgia', 'nowadays', 'plague', 'aid', 'process', 'intro', 'traditional', 'pretty', 'dota2', 'star', 'timesalso', 'zero', 'weekend', 'used', 'series', 'real', 'email', 'abomination', 'guy', 'ear', 'trend', 'special', '5k', 'multiplayer', 'negative', 'work', 'pos', 'period', 'launch', 'inconsistent', 'room', 'place', 'barely', 'signing', 'hide', 'sufficient', 'thru', 'grind', 'mutch', 'base', 'several', 'kind', 'relationship', 'private', 'minus', '€', 'give', 'gambling', 'original', 'fair', 'gun', 'attempt', 'grain', 'phenomenal', 'vocabulary', 'abuse', 'waster', 'satisfy', 'highly', 'participate', 'exhilarate', 'dance', 'omg', 'thinking', 'animal', 'brough', 'sole', 'crowded', 'somethingand', 'cap', 'fluid', 'much', 'hunger', 'completely', 'dogshit', 'ton', 'setting', 'sick', 'promote', 'hopelessness', 'marketplace', 'stable', 'sticker', 'level', 'playing', 'everday', 'world', 'chetter', 'gmane', 'modernized', 'move', 'valorant', 'bettr', 'testament', 'industry', 'plug', 'stand', 'readys', 'gameplay', 'votekick', 'comp', 'resolve', 'newcomer', 'nigger', 'main', 'besides', 'skilled', 'improvement', 'eighteen', 'cancer', 'fix', 'firing', 'kicked', 'zap', 'bash', 'clan', 'actively', 'agent', 'character', 'hitreg', 'modern', 'wallhack', 'truly', 'steaming', 'do', '1080p', 'unnecessary', 'inexperienced', 'kinda', 'service', 'challenging', 'desk', 'unfair', 'globaloffensive', 'peak', 'continue', 'fall', 'operation', 'gud', 'password', 'tell', 'scared', 'culture', 'coordination', 'couldnnot', 'broker', 'datum', 'girly', 'turnover', 'exception', 'af', 'rankdata', 'angle', 'hire', 'soul', 'd', 'trigger', 'fell', 'person', '1', 'alrightio', 'protect', 'disappointed', 'inventory', 'realize', 'stop', 'restart', 'forever', 'literally', 'fucking', 'break', 'schizophrenia', 'universe', 'outstanding', 'controversial', 'key', 'need', 'final', 'program', 'pvp', 'etcbut', 'aight', 'keep', 'indie', 'tenfoot', 'play', 'competitive', 'you', 'cus', 'ai', 'russan', 'bless', 'temporary', 'willing', 'permament', 'seek', 'team', 'realy', 'cycle', '6v6', 'opinion', 'birthday', 'certain', 'unfun', 'decision', 'hvh', 'mini', 'fck', 'toilet', 'thank', 'tend', 'software', 'internet', 'vent', 'legend', 'apex', 'hot', 'psychiatric', 'draw', 'eight', 'well', 'basis', 'fine', 'friends3', 'check', 'vc', 'personally', 'learning', 'mind', 'familiar', 'lunch', 'education', 'fluently', 'tale', 'permeate', 'blend', 'doe', 'safety', 'lov', 'probably', 'guttural', 'elite', 'pop', 'sht', 'eye', 'lie', 'reportable', 'stream', 'profit', 'defuse', 'cheaterswho', 'practise', 'control', 'open', 'fecal', 'boom', 'finished', 'tf2', 'qualityoflife', 'wreck', 'presence', 'ts', 'gift', 'slavs', 'execute', 'tad', 'rewarding', 'triumph', 'replayability', 'micro', 'argue', 'downb', 'listen', 'sexy', 'definitely', 'silly', 'definently', 'min', 'dude', 'beach', 'fondness', 'outrageous', 'act', 'record', 'translate', 'eventually', 'absolute', 'begin', 'boting', 'amd', 'garbage', 'entire', 'million', 'prioritize', 'elsewhere', 'reload', 'optional', 'reader', 'soooo', 'recomend', 'gaben', 'administrative', 'imagine', 'finish', 'predecessor', 'virgin', 'coonectoin', 'bad', 'de', 'cuss', '1440p', 'word', 'ask', 'wierd', 'taow', 'prove', 'forty', 'style', 'stay', '1v1so', 'volvo', 'napkin', 'allow', 'third', 'unexistent', 'know', 'ya', 'allstay', 'purchase', 'fifty', 'duty', 'witness', 'dust', 'scrub', 'riot', 'bullshite', 'addict', 'w', 'cent', 'floor', 'needa', 'ol', 'it', 'withdrawal', 'sixty', 'exaple', 'every', 'hackgo', 'happy', 'grenade', 'gg', 'fuke', 'easily', 'admin', 'driver', 'have', 'skibidi', 'ragebotte', 'betwen', 'm4a1s', 'whit', 'basically', 'headset', 'meh', 'engage', 'progressively', 'capable', 'mystery', 'past', 'fav', 'apart', 'doesnnot', 'due', 'trscan', 'always', 'central', 'card', 'disable', 'reproductive', '30mins', 'route', 'emotion', 'kiling', 'sas', 'deffinetly', 'menu', 'trolling', 'pay', 'join', 'simulator', 'sevice', 'moderator', 'kll', 'permanently', 'test', 'esport', 'point', 'moneygrab', 'meta', 'talented', 'communty', 'grrrr', 'driving', 'a15', 'gunplay', 'change', 'craft', 'riddle', 'isnnot', 'counterterrorist', 'blank', 'recoment', 'ight', 'sixteen', 'force', 'train', 'exist', 'kick', 'dark', 'broke', 'rate', 'ak47', 'avg', 'luiek', 'doll', 'eu', 'street', 'schooler', 'donkey', 'arennot', 'singe', 'last', 'rizz', 'acoustic', 'uninstall', 'truth', 'come', 'nice', 'alternative', 'comparison', 'example', 'beard', 'beer', 'log', 'eternity', 'goat', 'doppler', 'actually', 'map', 'utility', 'anything', 'big', 'contrary', 'unexplainable', 'repair', 'anxiety', 'brag', 'netcode', 'drink', 'induce', 'command', 'bf', 'solve', 'ukranian', 'sometimes', 'throw', 'uninstalling', 'ngl', 'order', 'medal', 'nonnegotiable', 'european', 'unexciting3', 'homeless', 'curse', 'lead', 'sum', 'killing', 'tm8', 'acc', 'skinsbut', 'belive', 'prevalance', 'stagnant', 'players7', 'lay', 'paint', 'overall', 'call', 'goddamn', 'row', 'mums', 'animate', 'engagement', 'valid', 'phrase', 'spam', 'jenga', 'basic', 'half', 'og', 'ability', 'siege', 'feed', 'earn', 'dwellerskid', 'rent', 'hardstuck', 'smile', 'balright', 'mappool', 'shut', 'bible', 'realistic', 'primary', 'overrate', 'lobby', 'enhancement', 'hax', 'workshop', 'customization', 'already', 'incel', 'cobblesotne', 'attack', 'accuse', 'classy', 'narrativedriven', 'bored', 'obligated', 'dominate', 'terribly', 'correctly', 'charakter', 'tinder', 'imprison', 'rating', 'steamhappy', 'wizard', '2000s', 'fairy', 'polish', 'hacking', 'obviously', '3x', 'freaking', 'toxicityat', 'mute', 'life', 'ridiculous', 'xd', 'm18', 'worthless', 'terrify', 'necessary', 'clean', 'gaem', 'lonely', 'sooooo', 'radar', 'intense', 'movement', 'stone', 'roof', 'class', 'publish', 'thhat', 'horrid', 'bunch', 'matter', 'everyday', 'sh1ty', 'gambler', 'switch', 'brand', '3rd', 'balance', 'problem', 'armsrace', 'ruissain', 'drain', 'dive', 'regret', 'race', 'decline', 'gamne', 'exicite', 'availablethis', 'smurf', 'shouldnnot', 'height', 'tax', 'deathmatch', '҂', 'neanderthal', 'across', 'suicide', 'aim', 'swear', 'gambile', 'arab', 'piece', 'family', 'extra', 'thing', 'library', 'strap', 'backward', 'tip', 'madafakena', 'whole', 'cheating', 'ago', 'newbish', 'unexpectedly', 'nine', 'twelve', 'believe', 'jk', 'fairly', 'difficult', 'hello', 'dunno', 'relax', 'cz', 'leak', 'that', 'nobody', 'aroun', 'headshot', 'scheme', 'story', 'visual', 'door', 'online', 'serious', 'damage', 'ugly', 'course', 'strategic', '3060min', 'suspicious', 'approach', 'far', 'racist', '10', 'jean', 'hair', 'alright', 'category', 'weed', 'engine', 'boomgood', 'amazingly', 'click', 'ipanema', 'principle', 'tire', 'please', 'troll', 'microtransaction', 'fancy', 'competive', 'fully', 'toggle', 'shooting', 'exercise', 'introduce', 'useless', 'optimize', 'elevate', 'identical', 'functionality', 'weirdo', 'short', 'hoe', 'headshotdont', 'behind', 'accessible', 'restore', 'let', 'cheats', 'vacation', 'hateful', 'never', 'bullet', 'saddening', 'vicious', 'sense', 'bite', 'match', 'thrower', 'wwwwwwwwwwwwwwwwwwwwww', 'x3', 'pace', 'conection', 'mess', 'gorl', 'noobs', 'lmfao', 'terrorist', 'platform', 'lvl', 'dm', 'glitch', 'voting', 'single', 'sincerely', 'arrive', 'hayday', 'disgust', 'zone', 'minfaile', 'i', 'algorithm', 'show', 'copy', 'arguably', 'hang', 'portuguese', 'okey', 'acronym', '1418k', 'valuable', 'success', 'vacai', 'fk', 'ucant', 'soak', 'elements', 'clutch', 'toy', 'else', 'drive', 'careful', 'together', 'technologically', 'physic', '1010game', 'button', 'lowkey', 'stupid', 'pluck', 'reward', '´', 'greatly', 'ar', 'atleast', 'donnot', 'ist', 'permanent', 'handedly', 'supposedly', 'cheer', 'code', 'text', 'paradise', 'pool', 'concoct', 'hospital', 'tough', 'stupidity', 'inferno', 'fan', 'cache', 'tag', 'xp', 'working', 'system', 'mechanic', 'improve', 'shame', 'downside', 'living', 'headclicker', 'coome', 'depend', 'beat', 'personal', 'yeaaarrsss', 'ball', 'seven', 'casually', 'progress', 'otherwise', 'friend', 'effect', 'someone', 'whith', 'ban', 'nonexistent', 'qualify', 'loser', 'expert', 'noise', 'unchecked', 'simply', 'configuration', '23052024after', 'surf', 'nearly', 'miserably', 'premier', 'charm', 'random', 'legit', 'confuse', 'bote', 'challenge', 'annoying', '10mins', 'repetitive', 'advise', 'rest', '250hour', 'yesterday', 'would', 'niccee', 'mid', 'shotgun', 'euro', 'reskin', 'penalize', 'misogynistic', 'imto', 'fkin', 'share', 'smart', 'pc', 'nuts', 'hunting', 'decent', 'polis', 'def', 'beauty', 'walk', 'woman', 'pp', 'store', 'hold', 'asus', 'prize', 'usually', 'often', 'massive', 'average', 'human', 'fifteen', 'novice', 'plant', 'fullscreen', 'community', 'choose', 'itu', 'decade', 'memory', 'unplayable', 'bomb', 'ok', 'css', 'wacky', 'joke', 'wich', 'shop', 'luck', 'gambeler', 'vs', 'wild', 'seamlessly', 'retaliate', 'perishe', 'sadly', 'contemporary', 'olay', 'soon', 'detract', 'window', 'forward', 'inspect', 'interested', 'different', 'homophobic', 'game', 'beyond', 'secure', 'transform', 'sex', 'pray', '10000th', 'nail', 'current', 'spread', 'letdown', 'gamemodes', 'page', 'could', 'describe', 'decoration', 'gameif', 'should', 'cat', 'proud', 'onandoff', 'economy', 's', 'verify', 'achivement', 'overcome', 'non', 'price', 'ct', 'refuse', 'subjective', 'youtube', 'soooooo', 'loop', '1700s', 'cholesterol', 'complaint', 'autoteam', 'чёрные', 'difference', 'be', 'slight', 'unknown', 'cs', 'acting', 'chernobyl', 'bed', 'hill', 'n', 'yelled', 'incapable', 'momma', 'source', 'u', 'asss', 're', 'suffer', 'mistake', '’ve', 'unforgettable']\n"
     ]
    }
   ],
   "source": [
    "print(uniqueWords3)"
   ]
  },
  {
   "cell_type": "code",
   "execution_count": null,
   "id": "d134e8fd-ed02-4c0c-bb81-08b453149297",
   "metadata": {},
   "outputs": [],
   "source": []
  }
 ],
 "metadata": {
  "kernelspec": {
   "display_name": "Python 3 (ipykernel)",
   "language": "python",
   "name": "python3"
  },
  "language_info": {
   "codemirror_mode": {
    "name": "ipython",
    "version": 3
   },
   "file_extension": ".py",
   "mimetype": "text/x-python",
   "name": "python",
   "nbconvert_exporter": "python",
   "pygments_lexer": "ipython3",
   "version": "3.11.4"
  }
 },
 "nbformat": 4,
 "nbformat_minor": 5
}
